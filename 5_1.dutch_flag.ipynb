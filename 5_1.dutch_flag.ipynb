{
 "cells": [
  {
   "cell_type": "markdown",
   "metadata": {},
   "source": [
    "### 5.1 The Dutch National Flag Problem\n",
    "\n",
    "Write a program that takes an array A, and an index i into A, and rearranges the elements such that all elements less than a[i] (the \"pivot\") appear first, followed by elements equal to the pivot, followed by elements greater than the pivot."
   ]
  },
  {
   "cell_type": "code",
   "execution_count": 65,
   "metadata": {},
   "outputs": [
    {
     "name": "stdout",
     "output_type": "stream",
     "text": [
      "Original: [5, 3, 4, 3, 4, 5, 3, 1, 7]\n",
      "Easy:     [1, 3, 3, 3, 5, 4, 4, 5, 7]\n",
      "Medium:   [1, 3, 3, 3, 4, 4, 5, 5, 7]\n",
      "Hard:     [1, 3, 3, 3, 5, 4, 4, 7, 5]\n"
     ]
    }
   ],
   "source": [
    "def dutch_flag_partition_easy(A, i):\n",
    "    \"\"\"Order n, easy to understand, requires 2*n storage\"\"\"\n",
    "    pivot = A[i]\n",
    "    lt, eq, gt = [], [], []\n",
    "    for x in range(0, len(A)):\n",
    "        if A[x] < pivot:\n",
    "            lt.append(A[x])\n",
    "        elif A[x] == pivot:\n",
    "            eq.append(A[x])\n",
    "        else:\n",
    "            gt.append(A[x])\n",
    "    return lt + eq + gt\n",
    "\n",
    "def dutch_flag_partition_medium(A, i):\n",
    "    \"\"\"Order n, keeps track of smaller and larger index, uses 2 loops but worst case 2*n iterations)\"\"\"\n",
    "    pivot = A[i]\n",
    "    smaller = 0\n",
    "    for i in range(len(A)):\n",
    "        if A[i] < pivot:\n",
    "            A[i], A[smaller] = A[smaller], A[i]\n",
    "            smaller += 1\n",
    "            \n",
    "    larger = len(A) - 1\n",
    "    for i in reversed(range(len(A))):\n",
    "        if A[i] < pivot:\n",
    "            break  # we are done, break out\n",
    "        elif A[i] > pivot:\n",
    "            A[i], A[larger] = A[larger], A[i]\n",
    "            larger -=1\n",
    "    return A\n",
    "\n",
    "def dutch_flag_partition_advanced(A, i):\n",
    "    \"\"\"Maintains 4 different subarrays, bottom, middle, top, and unclassified, guaranteed n iterations\"\"\"\n",
    "    pivot = A[i]\n",
    "    smaller, equal, larger = 0, 0, len(A)\n",
    "    while equal < larger:\n",
    "        if A[equal] < pivot:\n",
    "            A[smaller], A[equal] = A[equal], A[smaller]\n",
    "            smaller, equal = smaller + 1, equal + 1\n",
    "        elif A[equal] == pivot:\n",
    "            A[smaller], A[equal] = A[equal], A[smaller]\n",
    "            equal += 1\n",
    "        else:\n",
    "            larger -= 1\n",
    "            A[equal], A[larger] = A[larger], A[equal]\n",
    "    return A\n",
    "\n",
    "# test code\n",
    "A = [5, 3, 4, 3, 4, 5, 3, 1, 7]\n",
    "B = A[:]\n",
    "C = A[:]\n",
    "i = 3\n",
    "print(\"Original: {}\".format(A))\n",
    "print(\"Easy:     {}\".format(dutch_flag_partition_easy(A, 3)))\n",
    "print(\"Medium:   {}\".format(dutch_flag_partition_medium(B, 3)))\n",
    "print(\"Hard:     {}\".format(dutch_flag_partition_advanced(C, 3)))"
   ]
  },
  {
   "cell_type": "code",
   "execution_count": null,
   "metadata": {
    "collapsed": true
   },
   "outputs": [],
   "source": []
  }
 ],
 "metadata": {
  "kernelspec": {
   "display_name": "Python 3",
   "language": "python",
   "name": "python3"
  },
  "language_info": {
   "codemirror_mode": {
    "name": "ipython",
    "version": 3
   },
   "file_extension": ".py",
   "mimetype": "text/x-python",
   "name": "python",
   "nbconvert_exporter": "python",
   "pygments_lexer": "ipython3",
   "version": "3.6.1"
  }
 },
 "nbformat": 4,
 "nbformat_minor": 2
}
