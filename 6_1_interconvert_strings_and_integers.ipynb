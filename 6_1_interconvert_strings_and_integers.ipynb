{
 "cells": [
  {
   "cell_type": "markdown",
   "metadata": {},
   "source": [
    "### 6.1 Interconvert strings and integers\n",
    "\n",
    "A string is a sequence of characters.  A string may encode an integers, e.g. \"123\" encodes 123.  In this problem, you are to implement methods that take a string representing an integer and return the corresponding integer, and vicd versa.  Your code should handle negative integers.  You cannot use library functions like **int** in Python."
   ]
  },
  {
   "cell_type": "code",
   "execution_count": 45,
   "metadata": {},
   "outputs": [
    {
     "name": "stdout",
     "output_type": "stream",
     "text": [
      "-12 3\n",
      "-24\n",
      "-12-12\n"
     ]
    }
   ],
   "source": [
    "\n",
    "i2c = {0: \"0\", 1: \"1\", 2: \"2\", 3: \"3\", 4: \"4\", 5: \"5\",\n",
    "       6: \"6\", 7: \"7\", 8: \"8\", 9: \"9\"}\n",
    "c2i = {\"0\": 0, \"1\": 1, \"2\": 2, \"3\": 3, \"4\": 4, \"5\": 5,\n",
    "       \"6\": 6, \"7\": 7, \"8\": 8, \"9\": 9}\n",
    "\n",
    "def int2string(my_int):\n",
    "    chars = []\n",
    "    neg = False\n",
    "    if my_int < 0:\n",
    "        neg = True\n",
    "        my_int = -1 * my_int\n",
    "    \n",
    "    while my_int >= 10:\n",
    "        my_char = my_int % 10\n",
    "        my_int = my_int // 10\n",
    "        chars.append(i2c[my_char])\n",
    "\n",
    "    my_char = my_int % 10\n",
    "    my_int = my_int // 10\n",
    "    chars.append(i2c[my_char])\n",
    "\n",
    "    if neg == True:\n",
    "        chars.append(\"-\")\n",
    "        \n",
    "    return \"\".join(chars[::-1])\n",
    "\n",
    "def string2int(my_string):\n",
    "    answer = 0\n",
    "    neg = False\n",
    "    exponent = 0\n",
    "    for char in reversed(my_string):\n",
    "        if char == \"-\":\n",
    "            answer = answer * -1\n",
    "        else:\n",
    "            answer = answer + (c2i[char] * (10 ** exponent))\n",
    "            exponent += 1\n",
    "    return answer\n",
    "            \n",
    "# Convert an int to a string, showing the length to prove that it is a string\n",
    "print(int2string(-12), len(int2string(-12)))\n",
    "\n",
    "# Convert a string to an int, multiplying by 2 to demonstrate that it is not a string\n",
    "print(string2int(\"-12\") * 2)\n",
    "print(\"-12\" * 2)\n"
   ]
  },
  {
   "cell_type": "markdown",
   "metadata": {},
   "source": [
    "### Reflections\n",
    "\n",
    "It was fun to play with exponents and this seems way more straightforward than the last two problems."
   ]
  },
  {
   "cell_type": "code",
   "execution_count": null,
   "metadata": {
    "collapsed": true
   },
   "outputs": [],
   "source": []
  }
 ],
 "metadata": {
  "kernelspec": {
   "display_name": "Python 3",
   "language": "python",
   "name": "python3"
  },
  "language_info": {
   "codemirror_mode": {
    "name": "ipython",
    "version": 3
   },
   "file_extension": ".py",
   "mimetype": "text/x-python",
   "name": "python",
   "nbconvert_exporter": "python",
   "pygments_lexer": "ipython3",
   "version": "3.6.1"
  }
 },
 "nbformat": 4,
 "nbformat_minor": 2
}
