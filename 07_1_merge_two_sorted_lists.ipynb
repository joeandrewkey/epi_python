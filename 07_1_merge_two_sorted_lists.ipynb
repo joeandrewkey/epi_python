{
 "cells": [
  {
   "cell_type": "markdown",
   "metadata": {},
   "source": [
    "### 7.1 Write a program that takes two linked lists, assumed to be sorted, and returns their merge.  The only field that the your program can change is its next field.\n",
    "\n",
    "Hint:  Two sorted arrays can be merged using two indices, for lists take care when one iterator reaches the end."
   ]
  },
  {
   "cell_type": "code",
   "execution_count": 1,
   "metadata": {},
   "outputs": [
    {
     "name": "stdout",
     "output_type": "stream",
     "text": [
      "(head) 1 -> 2 -> 3 -> 5 -> 6 -> 10 -> 12 (tail)\n",
      "(head)  (tail)\n",
      "(head) 1 -> 2 -> 6 -> 11 (tail)\n"
     ]
    }
   ],
   "source": [
    "\n",
    "\n",
    "class ListNode:\n",
    "    \"\"\"This class is esentially a singly linked list, provided in the book\"\"\"\n",
    "    def __init__(self, data=0, next_node=None):\n",
    "        self.data = data\n",
    "        self.next = next_node\n",
    "    \n",
    "def print_list(L):\n",
    "    \"\"\"basic function to display the list\"\"\"\n",
    "    K = L\n",
    "    arr = []\n",
    "    while K:\n",
    "        arr.append(str(K.data))\n",
    "        K = K.next\n",
    "    print(\"(head) \" + \" -> \".join(arr) + \" (tail)\")\n",
    "    \n",
    "def get_list(my_array):\n",
    "    \"\"\"returns a singly linked list built from an array\"\"\"\n",
    "    head = None\n",
    "    tail = None\n",
    "    for item in my_array:\n",
    "        if not head:\n",
    "            head = ListNode(data=item)\n",
    "            tail = head\n",
    "        else:\n",
    "            tail.next = ListNode(data=item)\n",
    "            tail = tail.next\n",
    "    return head\n",
    "\n",
    "def merge_lists(A, B):\n",
    "    \"\"\"merges sorted linked lists, returning a single sorted linked list\"\"\"\n",
    "    a, b = A, B\n",
    "    head = None\n",
    "    tail = None\n",
    "    \n",
    "    def append(head, tail, pointer):\n",
    "        \"\"\"Builds up the merged list\"\"\"\n",
    "        if not head:\n",
    "            # start the merge\n",
    "            head = pointer\n",
    "            tail = pointer\n",
    "        else:\n",
    "            # continue the merge\n",
    "            tail.next = pointer\n",
    "            tail = pointer\n",
    "        # move the pointer\n",
    "        pointer = pointer.next\n",
    "        return head, tail, pointer\n",
    "    \n",
    "    while a and b:\n",
    "        # do this until one of the lists is empty\n",
    "        if a.data <= b.data:\n",
    "            # append the value of a to the merged list\n",
    "            head, tail, a = append(head, tail, a)\n",
    "        else:\n",
    "            # append the value of b to the merged list\n",
    "            head, tail, b = append(head, tail, b)\n",
    "\n",
    "    remainder = a if a else b\n",
    "    if not head:\n",
    "        return remainder\n",
    "    else:\n",
    "        tail.next = remainder\n",
    "\n",
    "    return head\n",
    "        \n",
    "\n",
    "# TEST CASES\n",
    "# merge two sorted lists of different lengths\n",
    "merged = merge_lists(get_list([1, 3, 5]), get_list([2, 6, 10, 12]))\n",
    "print_list(merged)    \n",
    "\n",
    "# merge empty lists\n",
    "merged = merge_lists(get_list([]), get_list([]))\n",
    "print_list(merged)\n",
    "\n",
    "# merge one empty list with a non empty list\n",
    "merged = merge_lists(get_list([]), get_list([1, 2, 6, 11]))\n",
    "print_list(merged)"
   ]
  },
  {
   "cell_type": "markdown",
   "metadata": {},
   "source": [
    "### Reflections\n",
    "\n",
    "This should run in O(n) time (where n = size of first list + size of second list).  Following the rules, the only field that changes is the next field (within the append function).  Instead of using indices, as you would when merging two arrays, I used pointers (a, b, head, and tail)."
   ]
  }
 ],
 "metadata": {
  "kernelspec": {
   "display_name": "Python 3",
   "language": "python",
   "name": "python3"
  },
  "language_info": {
   "codemirror_mode": {
    "name": "ipython",
    "version": 3
   },
   "file_extension": ".py",
   "mimetype": "text/x-python",
   "name": "python",
   "nbconvert_exporter": "python",
   "pygments_lexer": "ipython3",
   "version": "3.6.1"
  }
 },
 "nbformat": 4,
 "nbformat_minor": 2
}
