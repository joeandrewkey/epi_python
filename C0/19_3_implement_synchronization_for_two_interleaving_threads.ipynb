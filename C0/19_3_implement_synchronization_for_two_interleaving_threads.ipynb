{
 "cells": [
  {
   "cell_type": "markdown",
   "metadata": {},
   "source": [
    "### 19.3 implement synchronization for two interleaving threads\n",
    "\n",
    "Thread ***t1*** prints odd numbers from 1 to 100;  Thread ***t2*** prints even numbers from 1 to 100.\n",
    "Write code in which the two threads, running concurrently, print the numbers from 1 to 100 in order.\n",
    "\n",
    "***Hint***:  The two threads need to notify each other when they are done."
   ]
  },
  {
   "cell_type": "code",
   "execution_count": 2,
   "metadata": {},
   "outputs": [
    {
     "name": "stdout",
     "output_type": "stream",
     "text": [
      "1 2 3 4 5 6 7 8 9 10 11 12 13 14 15 16 17 18 19 20 21 22 23 24 25 26 27 28 29 30 31 32 33 34 35 36 37 38 39 40 41 42 43 44 45 46 47 48 49 50 51 52 53 54 55 56 57 58 59 60 61 62 63 64 65 66 67 68 69 70 71 72 73 74 75 76 77 78 79 80 81 82 83 84 85 86 87 88 89 90 91 92 93 94 95 96 97 98 99 100 "
     ]
    }
   ],
   "source": [
    "import threading\n",
    "import sys\n",
    "\n",
    "class OddEvenMonitor(threading.Condition):\n",
    "    \n",
    "    ODD_TURN = True\n",
    "    EVEN_TURN = False\n",
    "    \n",
    "    def __init__(self):\n",
    "        super().__init__()\n",
    "        self.turn = self.ODD_TURN\n",
    "        \n",
    "    def wait_turn(self, old_turn):\n",
    "        with self:\n",
    "            while self.turn != old_turn:\n",
    "                self.wait()\n",
    "                \n",
    "    def toggle_turn(self):\n",
    "        with self:\n",
    "            self.turn ^= True\n",
    "            self.notify()\n",
    "\n",
    "class OddThread(threading.Thread):\n",
    "    def __init__(self, monitor):\n",
    "        super().__init__()\n",
    "        self.monitor = monitor\n",
    "\n",
    "    def run(self):\n",
    "        for i in range(1, 101, 2):\n",
    "            self.monitor.wait_turn(OddEvenMonitor.ODD_TURN)\n",
    "            sys.stdout.write(\"{} \".format(i))\n",
    "            self.monitor.toggle_turn()            \n",
    "\n",
    "class EvenThread(threading.Thread):\n",
    "    def __init__(self, monitor):\n",
    "        super().__init__()\n",
    "        self.monitor = monitor\n",
    "\n",
    "    def run(self):\n",
    "        for i in range(2, 101, 2):\n",
    "            self.monitor.wait_turn(OddEvenMonitor.EVEN_TURN)\n",
    "            sys.stdout.write(\"{} \".format(i))\n",
    "            self.monitor.toggle_turn()            \n",
    "           \n",
    "\n",
    "monitor = OddEvenMonitor()\n",
    "odd = OddThread(monitor)\n",
    "even = EvenThread(monitor)\n",
    "\n",
    "odd.start()\n",
    "even.start()\n",
    "odd.join()\n",
    "even.join()\n"
   ]
  },
  {
   "cell_type": "markdown",
   "metadata": {},
   "source": [
    "### Remarks:\n",
    "\n",
    "Okay, it seems like the **wait_turn** keeps each thread waiting for the monitor's turn, which is either ***ODD_TURN*** or ***EVEN_TURN***.  This allows each thread, once the monitor says it can go to execute its own write to stdout.  It then updates the monitor by toggling the turn from ***True*** to ***False***.\n",
    "Even though each **run** for each thread class is in a loop.  Each iteration of the loop waits for its turn, writes to stdout and then toggles the turn."
   ]
  }
 ],
 "metadata": {
  "kernelspec": {
   "display_name": "Python 3",
   "language": "python",
   "name": "python3"
  },
  "language_info": {
   "codemirror_mode": {
    "name": "ipython",
    "version": 3
   },
   "file_extension": ".py",
   "mimetype": "text/x-python",
   "name": "python",
   "nbconvert_exporter": "python",
   "pygments_lexer": "ipython3",
   "version": "3.6.1"
  },
  "varInspector": {
   "cols": {
    "lenName": 16,
    "lenType": 16,
    "lenVar": 40
   },
   "kernels_config": {
    "python": {
     "delete_cmd_postfix": "",
     "delete_cmd_prefix": "del ",
     "library": "var_list.py",
     "varRefreshCmd": "print(var_dic_list())"
    },
    "r": {
     "delete_cmd_postfix": ") ",
     "delete_cmd_prefix": "rm(",
     "library": "var_list.r",
     "varRefreshCmd": "cat(var_dic_list()) "
    }
   },
   "types_to_exclude": [
    "module",
    "function",
    "builtin_function_or_method",
    "instance",
    "_Feature"
   ],
   "window_display": false
  }
 },
 "nbformat": 4,
 "nbformat_minor": 2
}
