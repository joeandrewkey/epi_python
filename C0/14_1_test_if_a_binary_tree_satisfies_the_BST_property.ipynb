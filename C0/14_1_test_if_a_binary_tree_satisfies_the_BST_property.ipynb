{
 "cells": [
  {
   "cell_type": "markdown",
   "metadata": {},
   "source": [
    "### 14.1 Test if a binary tree satisfies the BST property\n",
    "\n",
    "Write a progrqam that takes as input a binary tree and checks if the tree satisfies the BST property.\n",
    "\n",
    "Hint:  Is it correct to check for each node that its key is greater than or equal to the the key at its left child and less than or equal to the key at its right child?\n",
    "\n",
    "#### Solution"
   ]
  },
  {
   "cell_type": "code",
   "execution_count": 1,
   "metadata": {},
   "outputs": [
    {
     "name": "stdout",
     "output_type": "stream",
     "text": [
      "False\n",
      "True\n",
      "True\n",
      "True\n",
      "False\n",
      "True\n"
     ]
    }
   ],
   "source": [
    "class BSTNode:\n",
    "    def __init__(self, data=None, left=None, right=None):\n",
    "        self.data, self.left, self.right = data, left, right\n",
    "\n",
    "def search_bst_book(tree, key):\n",
    "    return (tree if not tree or tree.data == key else search_bst(tree.left, key)\n",
    "            if key < tree.data else search_bst(tree.right, key))\n",
    "            \n",
    "def search_bst(tree, key):\n",
    "    if not tree or tree.data == key:\n",
    "        return tree\n",
    "    else:\n",
    "        if key < tree.data:\n",
    "            search_bst(tree.left, key)\n",
    "        else:\n",
    "            search_bst(tree.right, key)\n",
    "            \n",
    "def is_bst(tree):\n",
    "    # No data is not a BST\n",
    "    if tree.data is None:\n",
    "        return False\n",
    "    \n",
    "    # Test left, saving result in 'x'\n",
    "    if not tree.left:\n",
    "        x = True\n",
    "    elif tree.left.data is None:\n",
    "        return False\n",
    "    elif tree.left.data > tree.data:\n",
    "        return False\n",
    "    else:\n",
    "        x = is_bst(tree.left)\n",
    "        \n",
    "    # Test right, saving result in 'y'\n",
    "    if not tree.right:\n",
    "        y = True\n",
    "    elif tree.right.data is None:\n",
    "        return False\n",
    "    elif tree.right.data < tree.data:\n",
    "        return False\n",
    "    else:\n",
    "        y = is_bst(tree.right)\n",
    "        \n",
    "    # if x and y are BST, then the tree is BST\n",
    "    return x and y\n",
    "    \n",
    "\n",
    "# Empty tree\n",
    "x = BSTNode()\n",
    "\n",
    "# Tree of one node\n",
    "y = BSTNode(data=2)\n",
    "print(is_bst(x))\n",
    "print(is_bst(y))\n",
    "\n",
    "# Small BST\n",
    "b = BSTNode(data=7)\n",
    "i = BSTNode(data=43)\n",
    "d = BSTNode(data=19, left=b, right=i)\n",
    "print(is_bst(d))\n",
    "\n",
    "# Small BST all values are equal\n",
    "b = BSTNode(data=19)\n",
    "i = BSTNode(data=19)\n",
    "e = BSTNode(data=19, left=b, right=i)\n",
    "print(is_bst(e))\n",
    "\n",
    "# Not a BST\n",
    "b = BSTNode(data=7)\n",
    "i = BSTNode(data=18)\n",
    "f = BSTNode(data=19, left=b, right=i)\n",
    "print(is_bst(f))\n",
    "\n",
    "# Skewed BST\n",
    "b = BSTNode(data=0)\n",
    "c = BSTNode(data=1, left=b)\n",
    "d = BSTNode(data=2, left=c)\n",
    "e = BSTNode(data=3, left=d)\n",
    "f = BSTNode(data=4, left=e)\n",
    "g = BSTNode(data=5, left=f)\n",
    "print(is_bst(b))\n"
   ]
  },
  {
   "cell_type": "markdown",
   "metadata": {},
   "source": [
    "### Remarks\n",
    "The solution itself took about 15 minutes to code.  During testing I discovered that my solution initially failed to distinguish between the truth values for **0** versus **None**.  Since 0 is a valid integer I had to change certain conditionals from **if not x** to **if x is not None**.  This solution that traverses in pre-order, recursing if it finds a tree on right or left."
   ]
  }
 ],
 "metadata": {
  "kernelspec": {
   "display_name": "Python 3",
   "language": "python",
   "name": "python3"
  },
  "language_info": {
   "codemirror_mode": {
    "name": "ipython",
    "version": 3
   },
   "file_extension": ".py",
   "mimetype": "text/x-python",
   "name": "python",
   "nbconvert_exporter": "python",
   "pygments_lexer": "ipython3",
   "version": "3.6.1"
  }
 },
 "nbformat": 4,
 "nbformat_minor": 2
}
