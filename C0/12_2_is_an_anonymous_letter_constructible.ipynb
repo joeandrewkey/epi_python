{
 "cells": [
  {
   "cell_type": "markdown",
   "metadata": {},
   "source": [
    "#### 12.2 Is an anonymous letter constructible?\n",
    "\n",
    "Write a probream which takes text for an anonymous letter and text for a magazine and determines if it is possible to write the anonymous letter using the magazine.  The anonymous letter can be written using the magazine if for each character in the anonymous letter, the number of times it appears in the anonymous letter is no more than the number of times it appears in the magazine.\n",
    "\n",
    "Hint: Count the number of distinct characters appearing in the letter."
   ]
  },
  {
   "cell_type": "code",
   "execution_count": 1,
   "metadata": {},
   "outputs": [
    {
     "name": "stdout",
     "output_type": "stream",
     "text": [
      "letter: edified, magazine: deified, is_constructible: True\n",
      "letter: side, magazine: slide, is_constructible: True\n",
      "letter: slide, magazine: side, is_constructible: False\n",
      "letter: countt, magazine: count, is_constructible: False\n"
     ]
    }
   ],
   "source": [
    "letter = \"this is a letter\"\n",
    "from collections import Counter\n",
    "\n",
    "\n",
    "def is_constructible(letter, magazine):\n",
    "    l, m = Counter(), Counter()\n",
    "    for c in letter:\n",
    "        l[c] += 1\n",
    "        \n",
    "    for c in magazine:\n",
    "        m[c] += 1\n",
    "\n",
    "    for k in l.keys():\n",
    "        if k not in m:\n",
    "            return False\n",
    "        if l[k] > m[k]:\n",
    "            return False\n",
    "    return True\n",
    "\n",
    "# Tests\n",
    "x = lambda l, m: print(\"letter: {}, magazine: {}, is_constructible: {}\".format(\n",
    "    l, m, is_constructible(l, m)))\n",
    "\n",
    "x(\"edified\", \"deified\")\n",
    "x(\"side\", \"slide\")\n",
    "x(\"slide\", \"side\")\n",
    "x(\"countt\", \"count\")\n"
   ]
  },
  {
   "cell_type": "markdown",
   "metadata": {},
   "source": [
    "### Remarks, this solution took 8 minutes to write.\n",
    "\n",
    "This would be an O(n + m) operation to build the dictionaries, and the time to search the final result would be an O(1)."
   ]
  }
 ],
 "metadata": {
  "kernelspec": {
   "display_name": "Python 3",
   "language": "python",
   "name": "python3"
  },
  "language_info": {
   "codemirror_mode": {
    "name": "ipython",
    "version": 3
   },
   "file_extension": ".py",
   "mimetype": "text/x-python",
   "name": "python",
   "nbconvert_exporter": "python",
   "pygments_lexer": "ipython3",
   "version": "3.6.1"
  }
 },
 "nbformat": 4,
 "nbformat_minor": 2
}
