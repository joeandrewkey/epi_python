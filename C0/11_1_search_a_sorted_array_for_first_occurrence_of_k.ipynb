{
 "cells": [
  {
   "cell_type": "markdown",
   "metadata": {},
   "source": [
    "### 11.1 Search a sorted array for first occurence of k\n",
    "\n",
    "Write a method that takes a sorted array and a key and returns the index of the **first** occurrence of that key in the array.  Return -1 if the key does not appear in the array.  For example, when applied to the array in Figure 11.1 your algorithm should return 3 if the given key is 108; if it is 255, your algorithm should return 6.\n",
    "\n",
    "Hint: What happens when every entry equals k\n",
    "\n",
    "#### Solution 1"
   ]
  },
  {
   "cell_type": "code",
   "execution_count": 15,
   "metadata": {},
   "outputs": [
    {
     "name": "stdout",
     "output_type": "stream",
     "text": [
      "k: 0, first_k: -1\n",
      "k: 1, first_k: 0\n",
      "k: 2, first_k: -1\n",
      "k: 3, first_k: 1\n",
      "k: 4, first_k: 2\n",
      "k: 5, first_k: 3\n",
      "k: 6, first_k: 5\n",
      "k: 7, first_k: 6\n",
      "k: 8, first_k: -1\n",
      "k: 9, first_k: 7\n"
     ]
    }
   ],
   "source": [
    "import bisect\n",
    "a = [1, 3, 4, 5, 5, 6, 7, 9, 10, 11]\n",
    "\n",
    "def first_k(arr, find_me):\n",
    "    result = bisect.bisect_left(a, find_me)\n",
    "\n",
    "    if arr[result] != find_me:\n",
    "        return -1\n",
    "    return result\n",
    "\n",
    "#test\n",
    "x = [print(\"k: {}, first_k: {}\".format(k, first_k(a, k))) for k in range(10)]\n"
   ]
  },
  {
   "cell_type": "markdown",
   "metadata": {},
   "source": [
    "### Remarks:\n",
    "\n",
    "**bisect** works really well.  Assuming that bisect works pretty much like a binary search, this should run in O(log n) time."
   ]
  }
 ],
 "metadata": {
  "kernelspec": {
   "display_name": "Python 3",
   "language": "python",
   "name": "python3"
  },
  "language_info": {
   "codemirror_mode": {
    "name": "ipython",
    "version": 3
   },
   "file_extension": ".py",
   "mimetype": "text/x-python",
   "name": "python",
   "nbconvert_exporter": "python",
   "pygments_lexer": "ipython3",
   "version": "3.6.1"
  }
 },
 "nbformat": 4,
 "nbformat_minor": 2
}
