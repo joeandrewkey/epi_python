{
 "cells": [
  {
   "cell_type": "markdown",
   "metadata": {},
   "source": [
    "### 16.1 Count the number of score combinations\n",
    "\n",
    "In an American football game, a play can lead to 2 points (safety), 3 points (field goal), or 7 points (touchdown, assuming the extra point).  Many different combinations of 2, 3, and 7 point plays can make up a final score.  Write a program that takes a final score and scores for individual plays and returns the number of combinations of plays that result in the final score.\n",
    "\n",
    "Hint: Count the number of combinations in which there are 0 w_0 plays, then 1 w_0 plays, etc.\n",
    "\n",
    "#### Solution"
   ]
  },
  {
   "cell_type": "code",
   "execution_count": 1,
   "metadata": {},
   "outputs": [
    {
     "name": "stdout",
     "output_type": "stream",
     "text": [
      "\n",
      "2\n",
      "\ta: 1, b: [], c: [], d: 0\n",
      "\n",
      "3\n",
      "\ta: 1, b: [], c: [], d: 0\n",
      "\n",
      "4\n",
      "\ta: 0, b: [2], c: [1], d: 1\n",
      "\n",
      "5\n",
      "\ta: 0, b: [3, 2], c: [1, 1], d: 2\n",
      "\n",
      "6\n",
      "\ta: 0, b: [4, 3], c: [1, 1], d: 2\n",
      "\n",
      "7\n",
      "\ta: 1, b: [5, 4], c: [2, 1], d: 3\n",
      "\n",
      "8\n",
      "\ta: 0, b: [6, 5], c: [2, 2], d: 4\n",
      "\n",
      "9\n",
      "\ta: 0, b: [7, 6, 2], c: [4, 2, 1], d: 7\n",
      "\n",
      "10\n",
      "\ta: 0, b: [8, 7, 3], c: [4, 4, 1], d: 9\n",
      "\n",
      "11\n",
      "\ta: 0, b: [9, 8, 4], c: [7, 4, 1], d: 12\n",
      "\n",
      "12\n",
      "\ta: 0, b: [10, 9, 5], c: [9, 7, 2], d: 18\n"
     ]
    },
    {
     "data": {
      "text/plain": [
       "{2: 1, 3: 1, 4: 1, 5: 2, 6: 2, 7: 4, 8: 4, 9: 7, 10: 9, 11: 12, 12: 18}"
      ]
     },
     "execution_count": 1,
     "metadata": {},
     "output_type": "execute_result"
    }
   ],
   "source": [
    "plays = [2, 3, 7]\n",
    "def get_combos(n, cache={}):\n",
    "    min_play = min(plays)\n",
    "    for i in range(min(plays), n):\n",
    "        print(\"\\n{}\".format(i))\n",
    "        # if a play is exactly your score, you get 1\n",
    "        a = 1 if i in plays else 0\n",
    "        # if you subtract a valid play and you are in the cache, get those keys\n",
    "        b = [i - play for play in plays if i - play >= min_play and (i - play) in cache]\n",
    "        # add the sum of all valid cache combos\n",
    "        c = [cache[x] for x in b]     \n",
    "        d = sum(y for y in c)\n",
    "        print(\"\\ta: {}, b: {}, c: {}, d: {}\".format(a, b, c, d))\n",
    "        cache[i] = a + d\n",
    "            \n",
    "    return cache\n",
    "    \n",
    "get_combos(13)"
   ]
  },
  {
   "cell_type": "markdown",
   "metadata": {},
   "source": [
    "### Remarks:\n",
    "After about an hour I stopped time.  I think what I ended up with **may** be close, it seems to calculate the permutations and not the combinations.  Let's look at the book solution."
   ]
  },
  {
   "cell_type": "markdown",
   "metadata": {},
   "source": [
    "### More remarks, Yes the book solution is very different."
   ]
  },
  {
   "cell_type": "code",
   "execution_count": 1,
   "metadata": {},
   "outputs": [
    {
     "name": "stdout",
     "output_type": "stream",
     "text": [
      "i: 0, j: 1, without_this_play: 0, with_this_play: 0\n",
      "i: 0, j: 2, without_this_play: 0, with_this_play: 1\n",
      "i: 0, j: 3, without_this_play: 0, with_this_play: 0\n",
      "i: 0, j: 4, without_this_play: 0, with_this_play: 1\n",
      "i: 0, j: 5, without_this_play: 0, with_this_play: 0\n",
      "i: 0, j: 6, without_this_play: 0, with_this_play: 1\n",
      "i: 0, j: 7, without_this_play: 0, with_this_play: 0\n",
      "i: 0, j: 8, without_this_play: 0, with_this_play: 1\n",
      "i: 0, j: 9, without_this_play: 0, with_this_play: 0\n",
      "i: 0, j: 10, without_this_play: 0, with_this_play: 1\n",
      "i: 0, j: 11, without_this_play: 0, with_this_play: 0\n",
      "i: 0, j: 12, without_this_play: 0, with_this_play: 1\n",
      "For 2 point plays: [1, 0, 1, 0, 1, 0, 1, 0, 1, 0, 1, 0, 1]\n",
      "\n",
      "i: 1, j: 1, without_this_play: 0, with_this_play: 0\n",
      "i: 1, j: 2, without_this_play: 1, with_this_play: 0\n",
      "i: 1, j: 3, without_this_play: 0, with_this_play: 1\n",
      "i: 1, j: 4, without_this_play: 1, with_this_play: 0\n",
      "i: 1, j: 5, without_this_play: 0, with_this_play: 1\n",
      "i: 1, j: 6, without_this_play: 1, with_this_play: 1\n",
      "i: 1, j: 7, without_this_play: 0, with_this_play: 1\n",
      "i: 1, j: 8, without_this_play: 1, with_this_play: 1\n",
      "i: 1, j: 9, without_this_play: 0, with_this_play: 2\n",
      "i: 1, j: 10, without_this_play: 1, with_this_play: 1\n",
      "i: 1, j: 11, without_this_play: 0, with_this_play: 2\n",
      "i: 1, j: 12, without_this_play: 1, with_this_play: 2\n",
      "For 3 point plays: [1, 0, 1, 1, 1, 1, 2, 1, 2, 2, 2, 2, 3]\n",
      "\n",
      "i: 2, j: 1, without_this_play: 0, with_this_play: 0\n",
      "i: 2, j: 2, without_this_play: 1, with_this_play: 0\n",
      "i: 2, j: 3, without_this_play: 1, with_this_play: 0\n",
      "i: 2, j: 4, without_this_play: 1, with_this_play: 0\n",
      "i: 2, j: 5, without_this_play: 1, with_this_play: 0\n",
      "i: 2, j: 6, without_this_play: 2, with_this_play: 0\n",
      "i: 2, j: 7, without_this_play: 1, with_this_play: 1\n",
      "i: 2, j: 8, without_this_play: 2, with_this_play: 0\n",
      "i: 2, j: 9, without_this_play: 2, with_this_play: 1\n",
      "i: 2, j: 10, without_this_play: 2, with_this_play: 1\n",
      "i: 2, j: 11, without_this_play: 2, with_this_play: 1\n",
      "i: 2, j: 12, without_this_play: 3, with_this_play: 1\n",
      "For 7 point plays: [1, 0, 1, 1, 1, 1, 2, 2, 2, 3, 3, 3, 4]\n",
      "\n",
      "[[1, 0, 1, 0, 1, 0, 1, 0, 1, 0, 1, 0, 1], [1, 0, 1, 1, 1, 1, 2, 1, 2, 2, 2, 2, 3], [1, 0, 1, 1, 1, 1, 2, 2, 2, 3, 3, 3, 4]]\n"
     ]
    },
    {
     "data": {
      "text/plain": [
       "4"
      ]
     },
     "execution_count": 1,
     "metadata": {},
     "output_type": "execute_result"
    }
   ],
   "source": [
    "def num_combinations_for_final_score(final_score, individual_play_scores):\n",
    "\n",
    "    # One way to reach 0.\n",
    "    num_combinations_for_score = [[1] + [0] * final_score\n",
    "                                  for _ in individual_play_scores]\n",
    "    def print_list(play_index):\n",
    "        print(\"For {} point plays: {}\\n\".format(individual_play_scores[play_index], num_combinations_for_score[i]))\n",
    "        \n",
    "        \n",
    "    # This creates a list of lists that is individual_play_score lists long, with\n",
    "    # each list containing [1, 0 * final_score]\n",
    "    # print(num_combinations_for_score)\n",
    "    for i in range(len(individual_play_scores)):\n",
    "\n",
    "        # loop through the different individual_play_score lists\n",
    "        for j in range(1, final_score + 1):\n",
    "            current_play_score = individual_play_scores[i]\n",
    "            # loop through the zeros in the list\n",
    "            without_this_play = (num_combinations_for_score[i - 1][j]\n",
    "                                 if i >= 1 else 0)\n",
    "            with_this_play = (\n",
    "                num_combinations_for_score[i][j - current_play_score]\n",
    "                if j >= individual_play_scores[i] else 0)\n",
    "            print(\"i: {}, j: {}, without_this_play: {}, with_this_play: {}\".format(\n",
    "                i, j, without_this_play, with_this_play))           \n",
    "            num_combinations_for_score[i][j] = (\n",
    "                without_this_play + with_this_play)\n",
    "        print_list(i)\n",
    "    print(num_combinations_for_score)\n",
    "    return num_combinations_for_score[-1][-1]\n",
    "\n",
    "num_combinations_for_final_score(12, [2 ,3 ,7])"
   ]
  },
  {
   "cell_type": "markdown",
   "metadata": {},
   "source": [
    "#### Remarks:\n",
    "\n",
    "It seems like the book solution will run in O(n * m) time where n is the number of different play types and m is the final score.  In terms of space, the solution takes O(n * (m + 1)) space to hold the list of lists.  The solution is interesting, it seems that the results for each list build upon a sum of a direct copy of the prior list plus additional points based upon the current play type."
   ]
  },
  {
   "cell_type": "code",
   "execution_count": null,
   "metadata": {
    "collapsed": true
   },
   "outputs": [],
   "source": []
  }
 ],
 "metadata": {
  "kernelspec": {
   "display_name": "Python 3",
   "language": "python",
   "name": "python3"
  },
  "language_info": {
   "codemirror_mode": {
    "name": "ipython",
    "version": 3
   },
   "file_extension": ".py",
   "mimetype": "text/x-python",
   "name": "python",
   "nbconvert_exporter": "python",
   "pygments_lexer": "ipython3",
   "version": "3.6.1"
  },
  "varInspector": {
   "cols": {
    "lenName": 16,
    "lenType": 16,
    "lenVar": 40
   },
   "kernels_config": {
    "python": {
     "delete_cmd_postfix": "",
     "delete_cmd_prefix": "del ",
     "library": "var_list.py",
     "varRefreshCmd": "print(var_dic_list())"
    },
    "r": {
     "delete_cmd_postfix": ") ",
     "delete_cmd_prefix": "rm(",
     "library": "var_list.r",
     "varRefreshCmd": "cat(var_dic_list()) "
    }
   },
   "types_to_exclude": [
    "module",
    "function",
    "builtin_function_or_method",
    "instance",
    "_Feature"
   ],
   "window_display": false
  }
 },
 "nbformat": 4,
 "nbformat_minor": 2
}
