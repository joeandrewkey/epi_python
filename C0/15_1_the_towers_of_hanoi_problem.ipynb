{
 "cells": [
  {
   "cell_type": "markdown",
   "metadata": {},
   "source": [
    "### The towers of Hanoi problem\n",
    "\n",
    "A peg contains rings in sorted order, with the largest ring being the lowest,  You are to transfer these rings to another peg, which is initially empty.  Write a program which prints a sequence of operations that transfers rings from one peg to another.  You have a thirdpeg, which is initially empty.  The only operation you can perform is taking a single ring from the top of one peg and placing it on top of another peg. You must never place a larger ring above a smaller ring.\n",
    "\n",
    "Hint:  If you know how to transfer the top n - 1 rings, how does that help move the nth ring?\n",
    "\n",
    "#### Solution"
   ]
  },
  {
   "cell_type": "code",
   "execution_count": 29,
   "metadata": {},
   "outputs": [
    {
     "name": "stdout",
     "output_type": "stream",
     "text": [
      "Pegs: [[1], [], []]\n",
      "[[0, 1]]\n",
      "Pegs: [[2, 1], [], []]\n",
      "[[0, 2], [0, 1], [2, 1]]\n",
      "Pegs: [[3, 2, 1], [], []]\n",
      "[[0, 1], [0, 2], [1, 2], [0, 1], [2, 0], [2, 1], [0, 1]]\n"
     ]
    }
   ],
   "source": [
    "\n",
    "NUM_PEGS = 3\n",
    "\n",
    "def compute_tower_hanoi(num_rings):\n",
    "    def compute_tower_hanoi_steps(num_rings_to_move, from_peg, to_peg, use_peg):\n",
    "        if num_rings_to_move > 0:\n",
    "            compute_tower_hanoi_steps( #move tail to spare peg\n",
    "                num_rings_to_move - 1, from_peg, use_peg, to_peg)\n",
    "            pegs[to_peg].append(pegs[from_peg].pop()) # move head to destination peg\n",
    "            result.append([from_peg, to_peg])  #records a move\n",
    "            compute_tower_hanoi_steps( #move tail to destination peg\n",
    "                num_rings_to_move -1, use_peg, to_peg, from_peg)\n",
    "            \n",
    "    result = []\n",
    "    pegs = [list(reversed(range(1, num_rings + 1)))] + [[] for _ in range(1, NUM_PEGS)]\n",
    "    print(\"Pegs: {}\".format(pegs))\n",
    "\n",
    "    compute_tower_hanoi_steps(num_rings, 0, 1, 2)\n",
    "    return result\n",
    "\n",
    "\n",
    "print(compute_tower_hanoi(1))\n",
    "print(compute_tower_hanoi(2))\n",
    "print(compute_tower_hanoi(3))"
   ]
  },
  {
   "cell_type": "markdown",
   "metadata": {},
   "source": [
    "### Remarks\n",
    "\n",
    "I didn't think I would have a chance at this one, so I decided to go straight to the book solution.  Now I am examining it to see what's happening.  According to the book, the way to look at it is the 3 ring problem.  There are 7 steps:\n",
    "\n",
    " Move    | State              |\n",
    " :-----: | :----------------: |\n",
    " `n/a`   | `[3, 2, 1], [], []`|\n",
    "`[0, 1]` | `[3, 2], [1], []`  |\n",
    "`[0, 2]` | `[3], [1], [2]`    |\n",
    "`[1, 2]` | `[3], [], [2, 1]`  |\n",
    "`[0, 1]` | `[], [3], [2, 1]`  |\n",
    "`[2, 0]` | `[1], [3], [2]`    |\n",
    "`[2, 1]` | `[1], [3, 2], []`  |\n",
    "`[0, 1]` | `[], [3, 2, 1], []`|\n",
    "\n",
    "This is fine for 3 rings, but the argument for recursion is that the solution for 3 rings involves the solution for 2 rings.\n",
    "\n"
   ]
  },
  {
   "cell_type": "markdown",
   "metadata": {},
   "source": [
    "#### Remarks\n",
    "\n",
    "Here's a great video with a professor-type guy who can show you what's going on and how to think of this:\n",
    "[![great video](http://img.youtube.com/vi/rVPuzFYlfYE/0.jpg)](https://www.youtube.com/watch?v=rVPuzFYlfYE)\n",
    "\n",
    "Having listened to the video, it really is just a **tail recursive** solution.\n",
    "\n",
    "The **base case** is super simple.  If you have a stack of 0 rings, consider it already moved.  This stops the recursion.\n",
    "\n",
    "The **recursive case** is this, and it works for n >= 1.  Just remember that:\n",
    "\n",
    "    1.  the **head** is the largest ring\n",
    "    2.  the **tail** is a stack of n - 1 smaller rings\n",
    "\n",
    "\n",
    "Here is the general form:\n",
    "\n",
    " Move    | Src             | Dst            | Spare     | Description\n",
    " :-----: | :-------------: | :------------: | :-------: | :--------------------------:\n",
    " `n/a`   | `[head, tail]`  | `[]`           | `[]`      | Original State\n",
    "`[0, 2]` | `[head]`        | `[]`           | `[tail]`  | Move tail (stack of rings) to spare peg\n",
    "`[0, 1]` | `[]`            | `[head]`       | `[tail]`  | Move head to destination peg\n",
    "`[2, 1]` | `[]`            | `[head, tail]` | `[]`      | Move tail (stack of rings) to destination peg\n",
    "\n",
    "As a specific example, if your stack is of size 1, the **head** is 1, and the **tail** is essentially nothing, so steps 1 and 3 are essentially **do nothing**.\n",
    "\n",
    " Move    | Src             | Dst            | Spare     | Description\n",
    " :-----: | :-------------: | :------------: | :-------: | :--------------------------:\n",
    " `n/a`   | `[1]`           | `[]`           | `[]`      | Original State\n",
    "`[0, 2]` | `[1]`           | `[]`           | `[]`      | Move tail (nothing) to spare peg ***(do nothing)***\n",
    "`[0, 1]` | `[]`            | `[1]`          | `[]`      | Move head to destination peg\n",
    "`[2, 1]` | `[]`            | `[1]`          | `[]`      | Move tail (nothing) to destination peg ***(do nothing)***\n",
    "\n",
    "The same goes for n = 2, the **head** is 2, and the **tail** is 1.  Moving the tail\n",
    "\n",
    " Move    | Src             | Dst            | Spare     | Description\n",
    " :-----: | :-------------: | :------------: | :-------: | :--------------------------:\n",
    " `n/a`   | `[2, 1]`        | `[]`           | `[]`      | Original State\n",
    "`[0, 2]` | `[2]`           | `[]`           | `[1]`     | Move tail (stack of 1 ring) to spare peg\n",
    "`[0, 1]` | `[]`            | `[2]`          | `[1]`     | Move head to destination peg\n",
    "`[2, 1]` | `[]`            | `[2, 1]`       | `[]`      | Move tail (stack of 1 ring) to destination peg\n",
    "\n",
    "\n",
    "\n",
    "\n",
    "The **base case** is super simple.  If you have nothing to move, don't do anything.\n",
    "\n"
   ]
  },
  {
   "cell_type": "code",
   "execution_count": null,
   "metadata": {
    "collapsed": true
   },
   "outputs": [],
   "source": []
  }
 ],
 "metadata": {
  "kernelspec": {
   "display_name": "Python 3",
   "language": "python",
   "name": "python3"
  },
  "language_info": {
   "codemirror_mode": {
    "name": "ipython",
    "version": 3
   },
   "file_extension": ".py",
   "mimetype": "text/x-python",
   "name": "python",
   "nbconvert_exporter": "python",
   "pygments_lexer": "ipython3",
   "version": "3.6.1"
  }
 },
 "nbformat": 4,
 "nbformat_minor": 2
}
