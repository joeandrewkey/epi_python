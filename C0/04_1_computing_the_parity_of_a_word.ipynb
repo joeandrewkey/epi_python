{
 "cells": [
  {
   "cell_type": "markdown",
   "metadata": {},
   "source": [
    "### 4.1 Computing the Parity of a Word\n",
    "\n",
    "The parity of a binary word is 1 if the number of 1s in the word is odd; otherwise it is 0.  How would you compute the parity of a very large number of 64-bit words?"
   ]
  },
  {
   "cell_type": "code",
   "execution_count": 10,
   "metadata": {},
   "outputs": [
    {
     "name": "stdout",
     "output_type": "stream",
     "text": [
      "5 0 0 0 0\n",
      "6 0 0 0 0\n",
      "7 1 1 1 1\n",
      "8 1 1 1 1\n",
      "9 0 0 0 0\n",
      "10 0 0 0 0\n",
      "11 1 1 1 1\n",
      "12 0 0 0 0\n",
      "13 1 1 1 1\n",
      "14 1 1 1 1\n"
     ]
    }
   ],
   "source": [
    "def parity_1(x):\n",
    "    \"\"\"This is the brute force approach, which takes O(n) to run, where n is the number of bits in x\"\"\"\n",
    "    result = 0\n",
    "    while x:\n",
    "        result ^= x & 1\n",
    "        x >>= 1\n",
    "    return result\n",
    "\n",
    "def parity_2(x):\n",
    "    result = 0\n",
    "    while x:\n",
    "        result ^= 1\n",
    "        x &= x - 1  #drop the lowest set bit of x\n",
    "    return result\n",
    "\n",
    "MASK_BITS = 16\n",
    "MASK = 2 ** MASK_BITS - 1\n",
    "# Populate the PARITY dictionary\n",
    "PARITY = {x: parity_2(x) for x in range(0, 2 ** MASK_BITS - 1)}\n",
    "\n",
    "# print(PARITY)\n",
    "\n",
    "def get_chunk(my_int):\n",
    "    \"\"\"Breaks an int into a chunk and then finds its parity\"\"\"\n",
    "    my_chunk = my_int & MASK\n",
    "    my_int >>= MASK_BITS\n",
    "    my_parity = PARITY[my_chunk]\n",
    "    #print(\"my_int: {}, my_chunk: {}, my_parity: {}\".format(\n",
    "    #    my_int, my_chunk, my_parity))\n",
    "    return my_int, my_chunk, my_parity\n",
    "\n",
    "def parity_3(my_int):\n",
    "    \"\"\"XOR all chunk parities to get the solution \"\"\"\n",
    "    my_int, _, my_parity = get_chunk(my_int)\n",
    "    # parities = [my_parity]\n",
    "    solution = my_parity\n",
    "    while my_int > 0:\n",
    "        my_int, _, my_parity = get_chunk(my_int)\n",
    "        solution ^= my_parity\n",
    "        # parities.append(my_parity)\n",
    "    return solution\n",
    "\n",
    "def parity_book_solution(x):\n",
    "    for y in reversed(range(0, 6)):\n",
    "        x ^= x >> 2 ** y\n",
    "    \n",
    "    return x & 0x1\n",
    "\n",
    "start = 2000000000001\n",
    "start = 5\n",
    "end = start + 10 \n",
    "\n",
    "#demonstrate that get_parity produces the same result as parity\n",
    "a = [print(x, parity_1(x), parity_2(x), parity_3(x), parity_book_solution(x)) for x in range(start, end)]"
   ]
  },
  {
   "cell_type": "code",
   "execution_count": null,
   "metadata": {
    "collapsed": true
   },
   "outputs": [],
   "source": []
  }
 ],
 "metadata": {
  "kernelspec": {
   "display_name": "Python 3",
   "language": "python",
   "name": "python3"
  },
  "language_info": {
   "codemirror_mode": {
    "name": "ipython",
    "version": 3
   },
   "file_extension": ".py",
   "mimetype": "text/x-python",
   "name": "python",
   "nbconvert_exporter": "python",
   "pygments_lexer": "ipython3",
   "version": "3.6.1"
  }
 },
 "nbformat": 4,
 "nbformat_minor": 2
}
