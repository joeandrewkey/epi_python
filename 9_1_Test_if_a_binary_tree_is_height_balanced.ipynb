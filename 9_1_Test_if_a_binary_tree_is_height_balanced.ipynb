{
 "cells": [
  {
   "cell_type": "markdown",
   "metadata": {},
   "source": [
    "### 9.1  Test if a binary tree is height balanced\n",
    "\n",
    "A binary tree is said to be height-balanced if for each node in the tree, the difference in height of its left and right subtrees is at most one.  Write a proggram that takes as input the root of a binary tree and checks whether the height of the tree is height-balanced.\n",
    "\n",
    "Hint: Think of a classic binary tree algorithm"
   ]
  },
  {
   "cell_type": "code",
   "execution_count": 46,
   "metadata": {},
   "outputs": [
    {
     "name": "stdout",
     "output_type": "stream",
     "text": [
      "Preorder: A, is_leaf: False, height: 0\n",
      "Preorder: B, is_leaf: False, height: 1\n",
      "Preorder: C, is_leaf: False, height: 2\n",
      "Preorder: D, is_leaf: True, height: 3\n",
      "Preorder: E, is_leaf: True, height: 3\n",
      "Preorder: F, is_leaf: False, height: 2\n",
      "Preorder: G, is_leaf: True, height: 3\n",
      "Preorder: I, is_leaf: True, height: 1\n",
      "This tree is not height balanced\n",
      "{'lowest': 1, 'highest': 3}\n",
      "Preorder: X, is_leaf: True, height: 0\n",
      "This tree is height balanced\n",
      "{'lowest': 0, 'highest': 0}\n"
     ]
    }
   ],
   "source": [
    "#Provided class\n",
    "\n",
    "class BinaryTreeNode:\n",
    "    def __init__(self, data=None, left=None, right=None):\n",
    "        self.data = data\n",
    "        self.left = left\n",
    "        self.right = right\n",
    "        \n",
    "    def is_leaf(self):\n",
    "        if self.left is None and self.right is None:\n",
    "            return True\n",
    "        return False\n",
    "        \n",
    "def tree_traversal(root, traversal_order, height=0, leaf_heights={}):\n",
    "    \"\"\"Recursive function that passes the heights, and a dictionary of lowest\n",
    "    and highest leaf heights into each recursive call.\"\"\"\n",
    "    status = lambda x: print(\n",
    "        \"{}: {}, is_leaf: {}, height: {}\".format(traversal_order, x, root.is_leaf(), height)) \n",
    "    if root:\n",
    "        if root.is_leaf():\n",
    "            if not leaf_heights:\n",
    "                leaf_heights[\"lowest\"] = height\n",
    "                leaf_heights[\"highest\"] = height\n",
    "            elif leaf_heights[\"lowest\"] > height:\n",
    "                leaf_heights[\"lowest\"] = height\n",
    "            elif leaf_heights[\"highest\"] < height:\n",
    "                leaf_heights[\"highest\"] = height\n",
    "                \n",
    "        if traversal_order == \"Preorder\":\n",
    "            status(root.data)\n",
    "        tree_traversal(root.left, traversal_order, height=height+1, leaf_heights=leaf_heights)\n",
    "        if traversal_order == \"Inorder\":\n",
    "            status(root.data)\n",
    "        tree_traversal(root.right, traversal_order, height=height+1, leaf_heights=leaf_heights)\n",
    "        if traversal_order == \"Postorder\":\n",
    "            status(root.data)\n",
    "        if height == 0:\n",
    "            if leaf_heights[\"highest\"] - leaf_heights[\"lowest\"] > 1:\n",
    "                print(\"This tree is not height balanced\")\n",
    "            else:\n",
    "                print(\"This tree is height balanced\")\n",
    "            print(leaf_heights)\n",
    "            \n",
    "            \n",
    "# test\n",
    "d = BinaryTreeNode(data=\"D\")\n",
    "e = BinaryTreeNode(data=\"E\")\n",
    "c = BinaryTreeNode(data=\"C\", left=d, right=e)\n",
    "g = BinaryTreeNode(data=\"G\")\n",
    "f = BinaryTreeNode(data=\"F\", right=g)\n",
    "i = BinaryTreeNode(data=\"I\")\n",
    "b = BinaryTreeNode(data=\"B\", left=c, right=f)\n",
    "a = BinaryTreeNode(data=\"A\", left=b, right=i)\n",
    "\n",
    "tree_traversal(a, \"Preorder\", leaf_heights={})\n",
    "\n",
    "x = BinaryTreeNode(data=\"X\")\n",
    "tree_traversal(x, \"Preorder\", leaf_heights={})"
   ]
  },
  {
   "cell_type": "markdown",
   "metadata": {},
   "source": [
    "### Remarks\n",
    "\n",
    "This seems to work well enough.  I doubt that the order of traversal matters, so I chose preorder.\n",
    "These are classic traversal schemes, so the time complexity is O(n) for the traversal, The space complexity will also be O(n) for the tree and I will add 2 variables to keep track of the heighest and lowest heights of each leaf encountered. "
   ]
  }
 ],
 "metadata": {
  "kernelspec": {
   "display_name": "Python 3",
   "language": "python",
   "name": "python3"
  },
  "language_info": {
   "codemirror_mode": {
    "name": "ipython",
    "version": 3
   },
   "file_extension": ".py",
   "mimetype": "text/x-python",
   "name": "python",
   "nbconvert_exporter": "python",
   "pygments_lexer": "ipython3",
   "version": "3.6.1"
  }
 },
 "nbformat": 4,
 "nbformat_minor": 2
}
