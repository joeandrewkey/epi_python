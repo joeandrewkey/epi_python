{
 "cells": [
  {
   "cell_type": "markdown",
   "metadata": {},
   "source": [
    "### 17.4 The 3-sum problem\n",
    "\n",
    "Design an algorithm that takes as input an array and a number, and determines if there are three entries in the array (not necessarily distinct which add up to the specified number.  For example, if the array is (11, 2, 5, 7, 3) then there are three entries in the array which add up to 21 (3, 7, 11 and 5, 5, 11).   (Note that we can use 5 twice, since the problem statement said we can use the same entry more than once.  However there are no entries that add up to 22.\n",
    "\n",
    "Hint: How would you check if a given array entry can be added to two more entries to get the specified number?\n",
    "\n"
   ]
  },
  {
   "cell_type": "markdown",
   "metadata": {},
   "source": [
    "### Inital Remarks:\n",
    "\n",
    "Since this section is about **greedy** algorithms, I could try to greedily eliminate possible values.  First off, if the number is less than 3 times the smallest number in the array, then that won't work.  The same would work for numbers that are three times greater than the max of the array.  Let's try a first solution.\n",
    "\n",
    "Hmm it seems like we could work it this way.  A 3-sum is a single number from the array plus a 2-sum, which in turn is a single number from the array plus a 1-sum.\n",
    "\n",
    "Let's consider an iterative solution.\n",
    "\n",
    "#### Solution #1"
   ]
  },
  {
   "cell_type": "code",
   "execution_count": null,
   "metadata": {
    "collapsed": true
   },
   "outputs": [],
   "source": []
  },
  {
   "cell_type": "code",
   "execution_count": 63,
   "metadata": {},
   "outputs": [
    {
     "name": "stdout",
     "output_type": "stream",
     "text": [
      "40\n",
      "20-sums are [40, 41, 42, 43, 44, 45, 46, 47, 48, 49, 50, 51, 52, 53, 54, 55, 56, 57, 58, 59, 60, 61, 62, 63, 64, 65, 66, 67, 68, 69, 70, 71, 72, 73, 74, 75, 76, 77, 78, 79, 80, 81, 82, 83, 84, 85, 86, 87, 88, 89, 90, 91, 92, 93, 94, 95, 96, 97, 98, 99, 100, 101, 102, 103, 104, 105, 106, 107, 108, 109, 110, 111, 112, 113, 114, 115, 116, 117, 118, 119, 120, 121, 122, 123, 124, 125, 126, 127, 128, 129, 130, 131, 132, 133, 134, 135, 136, 137, 138, 139, 140, 141, 142, 143, 144, 145, 146, 147, 148, 149, 150, 151, 152, 153, 154, 155, 156, 157, 158, 159, 160, 161, 162, 163, 164, 165, 166, 167, 168, 169, 170, 171, 172, 173, 174, 175, 176, 177, 178, 179, 180, 181, 182, 183, 184, 185, 186, 187, 188, 189, 190, 191, 192, 193, 194, 195, 196, 197, 198, 199, 200, 201, 202, 203, 204, 205, 206, 207, 208, 209, 210, 211, 212, 213, 214, 215, 216, 217, 218, 219, 220, 221, 222, 223, 224, 225, 226, 227, 228, 229, 230, 231, 232, 233, 234, 235, 236, 237, 238, 239, 240]\n",
      "Overcounter is 11460\n",
      "Found the target\n",
      "True\n"
     ]
    }
   ],
   "source": [
    "from collections import Counter\n",
    "\n",
    "def solution_3(arr, target, sum_num):\n",
    "    arr = sorted(list(set(arr)))\n",
    "    # Easy arithmetic for the correct range\n",
    "    min_val = sum_num * arr[0]\n",
    "    max_val = sum_num * arr[-1]\n",
    "    print(min_val)\n",
    "    if target < min_val or target > max_val:\n",
    "        print(\"Error, you must pick a target between {} to {}\".format(\n",
    "            min_val, max_val))\n",
    "        return None\n",
    "\n",
    "    working = None\n",
    "    overcounter = 0\n",
    "    for i in range(sum_num):\n",
    "        current = Counter()\n",
    "        if working is None:\n",
    "            working = arr[:]\n",
    "        else:\n",
    "            for j in arr:\n",
    "                for k in working:\n",
    "                    overcounter += 1\n",
    "                    x = j + k\n",
    "                    current[x] += 1\n",
    "            working = sorted(current.keys())\n",
    "\n",
    "    print(\"{}-sums are {}\".format(i + 1, working))\n",
    "    print(\"Overcounter is {}\".format(overcounter))\n",
    "    if target in working:\n",
    "        print(\"Found the target\")\n",
    "        return True\n",
    "    else:\n",
    "        print(\"Target not found\")\n",
    "        return False\n",
    "    \n",
    "print(solution_3([11, 2, 5, 7, 3, 12], 122, 20))"
   ]
  },
  {
   "cell_type": "markdown",
   "metadata": {},
   "source": [
    "### Remarks\n",
    "The first solution took about 30 minutes to code.\n",
    "The biggest deficiency that I see here is that the runtime could pretty easily get out of hand.  I would guess that it would be O(n ^ 3).  Let's look at the book."
   ]
  },
  {
   "cell_type": "code",
   "execution_count": 113,
   "metadata": {},
   "outputs": [
    {
     "name": "stdout",
     "output_type": "stream",
     "text": [
      "0: False\n",
      "1: False\n",
      "2: False\n",
      "3: False\n",
      "4: False\n",
      "5: False\n",
      "6: True\n",
      "7: True\n",
      "8: True\n",
      "9: True\n",
      "10: True\n",
      "11: True\n",
      "12: True\n",
      "13: True\n",
      "14: True\n",
      "15: True\n",
      "16: True\n",
      "17: True\n",
      "18: True\n",
      "19: True\n",
      "20: True\n",
      "21: True\n",
      "22: False\n",
      "23: True\n",
      "24: True\n",
      "25: True\n",
      "26: False\n",
      "27: True\n",
      "28: False\n",
      "29: True\n",
      "30: False\n",
      "31: False\n",
      "32: False\n",
      "33: True\n",
      "34: False\n"
     ]
    }
   ],
   "source": [
    "def has_two_sum(A, t):\n",
    "    i, j = 0, len(A) - 1\n",
    "    \n",
    "    while i <= j:\n",
    "        if A[i] + A[j] == t:\n",
    "            return True\n",
    "        elif A[i] + A[j] < t:\n",
    "            i += 1\n",
    "            #print(\"i is now {}\".format(i))\n",
    "        else:\n",
    "            j -= 1\n",
    "            #print(\"j is now {}\".format(j))\n",
    "    return False\n",
    "\n",
    "has_two_sum([1,2,3], 2)\n",
    "\n",
    "def has_three_sum(A, t):\n",
    "    A = sorted(list(set(A)))\n",
    "    k = [t - i for i in A]\n",
    "    #print(k)\n",
    "    for i in k:\n",
    "        found = has_two_sum(A, i)\n",
    "        if found:\n",
    "            return True\n",
    "    return False\n",
    "has_three_sum([11,2,5,7,3], 21)\n",
    "_ = [print(\"{}: {}\".format(i, has_three_sum([11, 2, 5, 7, 3], i))) for i in range(35)]"
   ]
  },
  {
   "cell_type": "markdown",
   "metadata": {},
   "source": [
    "### Remarks\n",
    "Okay, after reading the section preceding the solution, I was shown a function that solves the two_sum problem in O(n) time.  By looping through each element in the list, we can transform this into an overall O(n ^ 2) problem.  Now let's look at the book solution."
   ]
  },
  {
   "cell_type": "code",
   "execution_count": 114,
   "metadata": {
    "collapsed": true
   },
   "outputs": [],
   "source": [
    "def has_three_sum(A, t):\n",
    "    A.sort()\n",
    "    # Finds if the sum of any two numbers in A equals to t -a.\n",
    "    return any(has_two_sum(A, t -a) for a in A)"
   ]
  },
  {
   "cell_type": "code",
   "execution_count": 115,
   "metadata": {},
   "outputs": [
    {
     "name": "stdout",
     "output_type": "stream",
     "text": [
      "0: False\n",
      "1: False\n",
      "2: False\n",
      "3: False\n",
      "4: False\n",
      "5: False\n",
      "6: True\n",
      "7: True\n",
      "8: True\n",
      "9: True\n",
      "10: True\n",
      "11: True\n",
      "12: True\n",
      "13: True\n",
      "14: True\n",
      "15: True\n",
      "16: True\n",
      "17: True\n",
      "18: True\n",
      "19: True\n",
      "20: True\n",
      "21: True\n",
      "22: False\n",
      "23: True\n",
      "24: True\n",
      "25: True\n",
      "26: False\n",
      "27: True\n",
      "28: False\n",
      "29: True\n",
      "30: False\n",
      "31: False\n",
      "32: False\n",
      "33: True\n",
      "34: False\n"
     ]
    }
   ],
   "source": [
    "_ = [print(\"{}: {}\".format(i, has_three_sum([11, 2, 5, 7, 3], i))) for i in range(35)]"
   ]
  },
  {
   "cell_type": "markdown",
   "metadata": {},
   "source": [
    "#### Concluding Remarks:\n",
    "I'm glad I was able to take the knowledge from earlier in the chapter about invariants and the has_two_sum function and use it on my own.  Not quite as elegant as the ultimate solution provided by the book which used **any** and a comprehension, but it should be equal in terms of runtime."
   ]
  },
  {
   "cell_type": "code",
   "execution_count": null,
   "metadata": {
    "collapsed": true
   },
   "outputs": [],
   "source": []
  }
 ],
 "metadata": {
  "kernelspec": {
   "display_name": "Python 3",
   "language": "python",
   "name": "python3"
  },
  "language_info": {
   "codemirror_mode": {
    "name": "ipython",
    "version": 3
   },
   "file_extension": ".py",
   "mimetype": "text/x-python",
   "name": "python",
   "nbconvert_exporter": "python",
   "pygments_lexer": "ipython3",
   "version": "3.6.1"
  }
 },
 "nbformat": 4,
 "nbformat_minor": 2
}
