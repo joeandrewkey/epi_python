{
 "cells": [
  {
   "cell_type": "markdown",
   "metadata": {},
   "source": [
    "### Compare the intersection of two sorted arrays\n",
    "\n",
    "Write a program that takes as input two sorted arrays, and returns a new array containing elements that are present in both the input arrays.  The input arrays may have duplicate entries but the returned array should be free of duplicates.\n",
    "\n",
    "Hint: Solve the problem if the input array lengths differ by orders of magnitude.  What if they are approximately equal?"
   ]
  },
  {
   "cell_type": "code",
   "execution_count": 93,
   "metadata": {},
   "outputs": [
    {
     "name": "stdout",
     "output_type": "stream",
     "text": [
      "Original lists\n",
      "A: [1, 2, 3, 3, 4, 6, 7, 9, 45, 243, 12234, 1000000, 1000001, 1000002, 1000003, 1000004, 1000005, 1000006, 1000007, 1000008, 1000009, 1000010, 1000011, 1000012, 1000013, 1000014, 1000015, 1000016, 1000017, 1000018, 1000019, 1000020, 1000021, 1000022, 1000023, 1000024, 1000025, 1000026, 1000027, 1000028, 1000029, 1000030, 1000031, 1000032, 1000033, 1000034, 1000035, 1000036, 1000037, 1000038, 1000039, 1000040, 1000041, 1000042, 1000043, 1000044, 1000045, 1000046, 1000047, 1000048, 1000049, 1000050, 1000051, 1000052, 1000053, 1000054, 1000055, 1000056, 1000057, 1000058, 1000059, 1000060, 1000061, 1000062, 1000063, 1000064, 1000065, 1000066, 1000067, 1000068, 1000069, 1000070, 1000071, 1000072, 1000073, 1000074, 1000075, 1000076, 1000077, 1000078, 1000079, 1000080, 1000081, 1000082, 1000083, 1000084, 1000085, 1000086, 1000087, 1000088, 1000089, 1000090, 1000091, 1000092, 1000093, 1000094, 1000095, 1000096, 1000097, 1000098, 1000099]\n",
      "B: [2, 2, 3, 3, 3, 4, 5, 123456]\n",
      "After first trim\n",
      "A: [2, 3, 3, 4, 6, 7, 9, 45, 243, 12234]\n",
      "B: [2, 2, 3, 3, 3, 4, 5, 123456]\n",
      "After second trim\n",
      "A: [2, 3, 3, 4]\n",
      "B: [2, 2, 3, 3, 3, 4, 5]\n",
      "intersection: [2, 3, 4]\n",
      "After first trim\n",
      "A: [2, 2, 3, 3, 3, 4, 5]\n",
      "B: [2, 3, 3, 4, 6, 7, 9, 45, 243, 12234]\n",
      "After second trim\n",
      "A: [2, 2, 3, 3, 3, 4]\n",
      "B: [2, 3, 3, 4]\n",
      "intersection: [2, 3, 4]\n"
     ]
    }
   ],
   "source": [
    "import bisect\n",
    "from collections import Counter\n",
    "\n",
    "p = [1, 2, 3, 3, 4, 6, 7, 9, 45, 243, 12234]\n",
    "p.extend(x)\n",
    "q = [2, 2, 3, 3, 3, 4, 5, 123456]\n",
    "\n",
    "# a = [1]\n",
    "# b = [2]\n",
    "\n",
    "def show_lists(a, b):\n",
    "    print(\"A: {}\".format(a))\n",
    "    print(\"B: {}\".format(b))\n",
    "\n",
    "def get_intersection(a, b):\n",
    "    \n",
    "    def trim(one, two):\n",
    "        one_min, one_max = one[0], one[-1]\n",
    "        edge_1 = bisect.bisect_left(two, one_min)\n",
    "        edge_2 = bisect.bisect_right(two, one_max)\n",
    "        return two[edge_1:edge_2]\n",
    "    \n",
    "    # edge case\n",
    "    if not b or not a:\n",
    "        return False\n",
    "    if (a[-1] < b[0]) or (b[-1] < a[0]):\n",
    "        return False\n",
    "    # trim the arrays\n",
    "    b = trim(a,b)\n",
    "    a = trim(b,a)\n",
    "    print(\"After first trim\")\n",
    "    show_lists(a,b)\n",
    "    b = trim(a,b)\n",
    "    a = trim(b,a)\n",
    "    print(\"After second trim\")\n",
    "    show_lists(a,b)\n",
    "\n",
    "    counter_a = Counter()\n",
    "    for item in a:\n",
    "        counter_a[item] += 1\n",
    "    counter_b = Counter()\n",
    "    for item in b:\n",
    "        counter_b[item] += 1\n",
    "    \n",
    "    if len(counter_b.keys()) > len(counter_a.keys()):\n",
    "        larger, smaller = counter_b, counter_a\n",
    "    else:\n",
    "        larger, smaller = counter_a, counter_b\n",
    "        \n",
    "    result = [x for x in smaller.keys() if x in larger.keys()] \n",
    "    return result\n",
    "\n",
    "# Tests\n",
    "print(\"Original lists\")\n",
    "show_lists(p, q)\n",
    "print(\"intersection: {}\".format(get_intersection(p,q)))\n",
    "print(\"intersection: {}\".format(get_intersection(q,p)))\n"
   ]
  },
  {
   "cell_type": "markdown",
   "metadata": {},
   "source": [
    "### Remarks\n",
    "\n",
    "This took about 35 minutes to accomplish.  The most important part of developing this was learning more about the bisect library, which I used to do a binary search on both sorted arrays, to try ot exclude as much as possible from the remaining calculation.  Also, I had to test some edge cases, such as lists with no intersection at all or empty lists.  After processing the edge cases and reducing both arrays to only trimmed sub-arrays, we save a lot of time on the worst-case.  From the remaining trimmed sub-arrays, we run a counter over both to get the unique keys.  This should be an O(a + b) runtime for the loops, plus O(e) for the number of unique elements in array a.  This could be improved by ensuring that a is always the smaller of the two lists"
   ]
  },
  {
   "cell_type": "code",
   "execution_count": null,
   "metadata": {
    "collapsed": true
   },
   "outputs": [],
   "source": []
  }
 ],
 "metadata": {
  "kernelspec": {
   "display_name": "Python 3",
   "language": "python",
   "name": "python3"
  },
  "language_info": {
   "codemirror_mode": {
    "name": "ipython",
    "version": 3
   },
   "file_extension": ".py",
   "mimetype": "text/x-python",
   "name": "python",
   "nbconvert_exporter": "python",
   "pygments_lexer": "ipython3",
   "version": "3.6.1"
  }
 },
 "nbformat": 4,
 "nbformat_minor": 2
}
