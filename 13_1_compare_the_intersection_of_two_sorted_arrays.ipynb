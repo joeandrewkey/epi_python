{
 "cells": [
  {
   "cell_type": "markdown",
   "metadata": {},
   "source": [
    "### Compare the intersection of two sorted arrays\n",
    "\n",
    "Write a program that takes as input two sorted arrays, and returns a new array containing elements that are present in both the input arrays.  The input arrays may have duplicate entries but the returned array should be free of duplicates.\n",
    "\n",
    "Hint: Solve the problem if the input array lengths differ by orders of magnitude.  What if they are approximately equal?"
   ]
  },
  {
   "cell_type": "code",
   "execution_count": 2,
   "metadata": {},
   "outputs": [
    {
     "name": "stdout",
     "output_type": "stream",
     "text": [
      "Original lists\n",
      "A: [1, 2, 3, 3, 4, 6, 7, 9, 45, 243, 12234]\n",
      "B: [2, 2, 3, 3, 3, 4, 5, 123456]\n",
      "After first trim\n",
      "A: [2, 3, 3, 4]\n",
      "B: [2, 2, 3, 3, 3, 4, 5]\n",
      "After second trim\n",
      "A: [2, 3, 3, 4]\n",
      "B: [2, 2, 3, 3, 3, 4]\n",
      "intersection: [2, 3, 4]\n",
      "After first trim\n",
      "A: [2, 2, 3, 3, 3, 4, 5]\n",
      "B: [2, 3, 3, 4, 6, 7, 9, 45, 243, 12234]\n",
      "After second trim\n",
      "A: [2, 2, 3, 3, 3, 4]\n",
      "B: [2, 3, 3, 4]\n",
      "intersection: [2, 3, 4]\n"
     ]
    }
   ],
   "source": [
    "import bisect\n",
    "from collections import Counter\n",
    "\n",
    "p = [1, 2, 3, 3, 4, 6, 7, 9, 45, 243, 12234]\n",
    "\n",
    "q = [2, 2, 3, 3, 3, 4, 5, 123456]\n",
    "\n",
    "# a = [1]\n",
    "# b = [2]\n",
    "\n",
    "def show_lists(a, b):\n",
    "    print(\"A: {}\".format(a))\n",
    "    print(\"B: {}\".format(b))\n",
    "\n",
    "def get_intersection(a, b):\n",
    "    \n",
    "    def trim(one, two):\n",
    "        one_min, one_max = one[0], one[-1]\n",
    "        edge_1 = bisect.bisect_left(two, one_min)\n",
    "        edge_2 = bisect.bisect_right(two, one_max)\n",
    "        return two[edge_1:edge_2]\n",
    "    \n",
    "    # edge case\n",
    "    if not b or not a:\n",
    "        return False\n",
    "    if (a[-1] < b[0]) or (b[-1] < a[0]):\n",
    "        return False\n",
    "    # trim the arrays\n",
    "    b = trim(a,b)\n",
    "    a = trim(b,a)\n",
    "    print(\"After first trim\")\n",
    "    show_lists(a,b)\n",
    "    b = trim(a,b)\n",
    "    a = trim(b,a)\n",
    "    print(\"After second trim\")\n",
    "    show_lists(a,b)\n",
    "\n",
    "    counter_a = Counter()\n",
    "    for item in a:\n",
    "        counter_a[item] += 1\n",
    "    counter_b = Counter()\n",
    "    for item in b:\n",
    "        counter_b[item] += 1\n",
    "    \n",
    "    if len(counter_b.keys()) > len(counter_a.keys()):\n",
    "        larger, smaller = counter_b, counter_a\n",
    "    else:\n",
    "        larger, smaller = counter_a, counter_b\n",
    "        \n",
    "    result = [x for x in smaller.keys() if x in larger.keys()] \n",
    "    return result\n",
    "\n",
    "# Tests\n",
    "print(\"Original lists\")\n",
    "show_lists(p, q)\n",
    "print(\"intersection: {}\".format(get_intersection(p,q)))\n",
    "print(\"intersection: {}\".format(get_intersection(q,p)))\n"
   ]
  },
  {
   "cell_type": "markdown",
   "metadata": {},
   "source": [
    "### Remarks\n",
    "\n",
    "This took about 35 minutes to accomplish.  The most important part of developing this was learning more about the bisect library, which I used to do a binary search on both sorted arrays, to try ot exclude as much as possible from the remaining calculation.  Also, I had to test some edge cases, such as lists with no intersection at all or empty lists.  After processing the edge cases and reducing both arrays to only trimmed sub-arrays, we save a lot of time on the worst-case.  From the remaining trimmed sub-arrays, we run a counter over both to get the unique keys.  This should be an O(a + b) runtime for the loops, plus O(e) for the number of unique elements in array a.  This could be improved by ensuring that a is always the smaller of the two lists"
   ]
  }
 ],
 "metadata": {
  "kernelspec": {
   "display_name": "Python 3",
   "language": "python",
   "name": "python3"
  },
  "language_info": {
   "codemirror_mode": {
    "name": "ipython",
    "version": 3
   },
   "file_extension": ".py",
   "mimetype": "text/x-python",
   "name": "python",
   "nbconvert_exporter": "python",
   "pygments_lexer": "ipython3",
   "version": "3.6.1"
  }
 },
 "nbformat": 4,
 "nbformat_minor": 2
}
