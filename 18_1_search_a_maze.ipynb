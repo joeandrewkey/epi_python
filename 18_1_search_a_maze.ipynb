{
 "cells": [
  {
   "cell_type": "markdown",
   "metadata": {},
   "source": [
    "### 18.1 search a maze\n",
    "Given a 2D array of black and white entries representing a maze with designated entrance and exit points, find a path from the entrance to the exit, if one exists."
   ]
  },
  {
   "cell_type": "code",
   "execution_count": 1,
   "metadata": {},
   "outputs": [
    {
     "data": {
      "text/plain": [
       "{'CodeCell': {'cm_config': {'autoCloseBrackets': False}},\n",
       " 'load_extensions': {'contrib_nbextensions_help_item/main': True,\n",
       "  'nbextensions_configurator/config_menu/main': True,\n",
       "  'varInspector/main': True,\n",
       "  'vim_binding/vim_binding': True}}"
      ]
     },
     "execution_count": 1,
     "metadata": {},
     "output_type": "execute_result"
    }
   ],
   "source": [
    "# Run this in Python once, it should take effect permanently\n",
    "from notebook.services.config import ConfigManager\n",
    "c = ConfigManager()\n",
    "c.update('notebook', {\"CodeCell\": {\"cm_config\": {\"autoCloseBrackets\": False}}})"
   ]
  },
  {
   "cell_type": "code",
   "execution_count": 2,
   "metadata": {},
   "outputs": [
    {
     "name": "stdout",
     "output_type": "stream",
     "text": [
      "Starting: Coordinate(x=9, y=4), Ending: Coordinate(x=1, y=8)\n",
      "There is a path from start to end\n",
      "\n",
      "0 0 0 0 1 1 1 \u001b[33mx\u001b[0m \u001b[33mx\u001b[0m 1\n",
      "1 0 0 0 1 1 1 \u001b[33mx\u001b[0m \u001b[31me\u001b[0m 1\n",
      "1 0 0 1 1 1 \u001b[33mx\u001b[0m \u001b[33mx\u001b[0m 0 0\n",
      "0 1 0 1 1 1 \u001b[33mx\u001b[0m 1 1 0\n",
      "0 0 1 1 1 0 \u001b[33mx\u001b[0m 1 0 0\n",
      "0 1 1 0 0 1 \u001b[33mx\u001b[0m 1 0 0\n",
      "1 0 0 1 0 1 \u001b[33mx\u001b[0m 1 1 1\n",
      "1 1 1 1 1 \u001b[33mx\u001b[0m \u001b[33mx\u001b[0m 0 0 0\n",
      "1 1 0 1 \u001b[33mx\u001b[0m \u001b[33mx\u001b[0m 0 1 1 0\n",
      "0 0 1 0 \u001b[32ms\u001b[0m 1 1 1 1 0\n"
     ]
    }
   ],
   "source": [
    "import collections\n",
    "import random\n",
    "import sys\n",
    "\n",
    "from termcolor import colored\n",
    "\n",
    "Coordinate = collections.namedtuple('Coordinate', ('x', 'y'))\n",
    "ROAD, WALL = range(2)\n",
    "\n",
    "def search_maze(maze, s, e):\n",
    "    # Perform DFS to find a feasible path.\n",
    "    def search_maze_helper(cur):\n",
    "        # Checks cur is within maze boundaries and is a path pixel.\n",
    "        if not (0 <= cur.x < len(maze) and 0 <= cur.y < len(maze[cur.x]) and\n",
    "                maze[cur.x][cur.y] == ROAD):\n",
    "            return False\n",
    "        path.append(cur)\n",
    "        maze[cur.x][cur.y] = WALL\n",
    "        if cur == e:\n",
    "            return True\n",
    "\n",
    "        # go in all four directions, (recursive step)\n",
    "        if any(\n",
    "                map(search_maze_helper, (\n",
    "                    Coordinate(cur.x - 1, cur.y), Coordinate( cur.x + 1, cur.y),\n",
    "                    Coordinate(cur.x, cur.y - 1), Coordinate(cur.x, cur.y + 1)))):\n",
    "            return True\n",
    "       \n",
    "        # you have no valid moves\n",
    "        # delete yourself from the path\n",
    "        del path[-1]\n",
    "        # return False to show that this is not a good path \n",
    "        return False\n",
    "\n",
    "    # initialize with an empty path\n",
    "    path = []\n",
    "    # use the recursive search helper to find a path\n",
    "    if not search_maze_helper(s):\n",
    "        return []  # No path between s and e.\n",
    "    return path\n",
    "\n",
    "\n",
    "def print_maze(maze):\n",
    "    for line in maze:\n",
    "        line = \" \".join([str(i) for i in line])\n",
    "        print(line)\n",
    "\n",
    "def print_solved_maze(maze, start, end, path):\n",
    "    if not path:\n",
    "        print(\"There is no path from start to end\")\n",
    "    else:\n",
    "        print(\"There is a path from start to end\")\n",
    "\n",
    "    while path:\n",
    "        coordinate = path.pop()\n",
    "        maze[coordinate.x][coordinate.y] = colored(\"x\", \"yellow\")\n",
    "\n",
    "    maze[start.x][start.y] = colored(\"s\", \"green\")\n",
    "    maze[end.x][end.y] = colored(\"e\", \"red\")\n",
    "    \n",
    "    print()\n",
    "    print_maze(maze)\n",
    "    \n",
    "n = m = 10 \n",
    "# Produce an unsolved n x m maze\n",
    "maze = [[random.randrange(2) for _ in range(m)] for _ in range(n)]\n",
    "\n",
    "# get a list of road pixels (black is the wall)\n",
    "road = []\n",
    "for i in range(n):\n",
    "    for j in range(m):\n",
    "        if maze[i][j] == ROAD:\n",
    "            road.append(Coordinate(i, j))\n",
    "\n",
    "# pick two random points on the list of road, call them start and finish            \n",
    "if road:\n",
    "    start = random.randrange(len(road))\n",
    "    end = random.randrange(len(road))\n",
    "\n",
    "\n",
    "print(\"Starting: {}, Ending: {}\".format(road[start], road[end]))\n",
    "path = search_maze(maze, road[start], road[end])\n",
    "print_solved_maze(maze, road[start], road[end], path)\n"
   ]
  },
  {
   "cell_type": "markdown",
   "metadata": {},
   "source": [
    "### Remarks:\n",
    "\n",
    "This seems to work well enough and is a depth-first search.  It's interesting that you can create a class for coordinates so easily.  The search_maze_helper is a recursive method that first ensures that the coordinate is within the maze and that it is *WHITE* (empty space),  Next, it adds that to the *path* list and turns the coordinate *BLACK* so that it doesn't create a circular path.  Then, it calls all four possible moves (up, down, left, and right) recursively on the updated map and if **any** of them are good it keeps going.  At some point one of the recursively called **search_maze_helper** may return **True**, meaning that **s** and **e** are the same thing and we have found a path.  Otherwise, there is no path."
   ]
  }
 ],
 "metadata": {
  "kernelspec": {
   "display_name": "Python 3",
   "language": "python",
   "name": "python3"
  },
  "language_info": {
   "codemirror_mode": {
    "name": "ipython",
    "version": 3
   },
   "file_extension": ".py",
   "mimetype": "text/x-python",
   "name": "python",
   "nbconvert_exporter": "python",
   "pygments_lexer": "ipython3",
   "version": "3.6.1"
  },
  "varInspector": {
   "cols": {
    "lenName": 16,
    "lenType": 16,
    "lenVar": 40
   },
   "kernels_config": {
    "python": {
     "delete_cmd_postfix": "",
     "delete_cmd_prefix": "del ",
     "library": "var_list.py",
     "varRefreshCmd": "print(var_dic_list())"
    },
    "r": {
     "delete_cmd_postfix": ") ",
     "delete_cmd_prefix": "rm(",
     "library": "var_list.r",
     "varRefreshCmd": "cat(var_dic_list()) "
    }
   },
   "position": {
    "height": "473px",
    "left": "675px",
    "right": "20px",
    "top": "528px",
    "width": "443px"
   },
   "types_to_exclude": [
    "module",
    "function",
    "builtin_function_or_method",
    "instance",
    "_Feature"
   ],
   "window_display": false
  }
 },
 "nbformat": 4,
 "nbformat_minor": 2
}
