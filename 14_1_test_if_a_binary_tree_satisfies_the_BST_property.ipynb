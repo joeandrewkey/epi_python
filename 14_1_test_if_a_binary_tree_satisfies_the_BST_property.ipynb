{
 "cells": [
  {
   "cell_type": "markdown",
   "metadata": {},
   "source": [
    "### 14.1 Test if a binary tree satisfies the BST property\n",
    "\n",
    "Write a progrqam that takes as input a binary tree and checks if the tree satisfies the BST property.\n",
    "\n",
    "Hint:  Is it correct to check for each node that its key is greater than or equal to the the key at its left child and less than or equal to the key at its right child?"
   ]
  }
 ],
 "metadata": {
  "kernelspec": {
   "display_name": "Python 3",
   "language": "python",
   "name": "python3"
  },
  "language_info": {
   "codemirror_mode": {
    "name": "ipython",
    "version": 3
   },
   "file_extension": ".py",
   "mimetype": "text/x-python",
   "name": "python",
   "nbconvert_exporter": "python",
   "pygments_lexer": "ipython3",
   "version": "3.6.1"
  }
 },
 "nbformat": 4,
 "nbformat_minor": 2
}
