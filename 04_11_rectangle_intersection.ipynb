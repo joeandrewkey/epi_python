{
 "cells": [
  {
   "cell_type": "markdown",
   "metadata": {
    "toc": true
   },
   "source": [
    "<h1>Table of Contents<span class=\"tocSkip\"></span></h1>\n",
    "<div class=\"toc\"><ul class=\"toc-item\"><li><span><a href=\"#04.11\" data-toc-modified-id=\"04.11-1\">04.11</a></span><ul class=\"toc-item\"><li><span><a href=\"#Hint:\" data-toc-modified-id=\"Hint:-1.1\">Hint:</a></span></li></ul></li><li><span><a href=\"#My-solution\" data-toc-modified-id=\"My-solution-2\">My solution</a></span><ul class=\"toc-item\"><li><span><a href=\"#Time-Complexity:\" data-toc-modified-id=\"Time-Complexity:-2.1\">Time Complexity:</a></span></li><li><span><a href=\"#Extra-space-complexity\" data-toc-modified-id=\"Extra-space-complexity-2.2\">Extra space complexity</a></span></li></ul></li></ul></div>"
   ]
  },
  {
   "cell_type": "markdown",
   "metadata": {
    "collapsed": true
   },
   "source": [
    "## 04.11\n",
    "\n",
    "Write a program which tests if two rectangles have a nonempty intersection.  If the intersection is nonempty, return the rectangle formed by their intersection.\n",
    "\n",
    "### Hint:\n",
    "*Think of the X and Y dimensions independently.*"
   ]
  },
  {
   "cell_type": "code",
   "execution_count": 5,
   "metadata": {},
   "outputs": [
    {
     "name": "stdout",
     "output_type": "stream",
     "text": [
      "\n",
      "\n",
      "x lines: (1, 5), (2, 3), x intersect: (2, 3)\n",
      "y lines: (1, 5), (4, 6), y intersect: (4, 5)\n",
      "Answer: ((2, 4), (3, 5))\n",
      "\n",
      "\n",
      "x lines: (2, 3), (1, 5), x intersect: (2, 3)\n",
      "y lines: (4, 6), (1, 5), y intersect: (4, 5)\n",
      "Answer: ((2, 4), (3, 5))\n",
      "\n",
      "\n",
      "x lines: (1, 5), (6, 7), x intersect: None\n",
      "y lines: (1, 5), (6, 7), y intersect: None\n",
      "Answer: None\n",
      "\n",
      "\n",
      "x lines: (2, 3), (6, 7), x intersect: None\n",
      "y lines: (4, 6), (6, 7), y intersect: (6, 6)\n",
      "Answer: None\n",
      "\n",
      "\n",
      "x lines: (0, 1), (1, 5), x intersect: (1, 1)\n",
      "y lines: (0, 1), (1, 5), y intersect: (1, 1)\n",
      "Answer: None\n",
      "\n",
      "\n",
      "x lines: (0, 1), (0, 1), x intersect: (0, 1)\n",
      "y lines: (0, 1), (1, 2), y intersect: (1, 1)\n",
      "Answer: None\n",
      "\n",
      "\n",
      "x lines: (1, 5), (3, 4), x intersect: (3, 4)\n",
      "y lines: (1, 5), (3, 4), y intersect: (3, 4)\n",
      "Answer: ((3, 3), (4, 4))\n"
     ]
    }
   ],
   "source": [
    "def get_lines(my_rectangle):\n",
    "    corner, corner_ = my_rectangle\n",
    "    x, y = corner\n",
    "    x_, y_ = corner_\n",
    "    return tuple(sorted([x, x_])), tuple(sorted([y, y_]))\n",
    "\n",
    "\n",
    "def get_intersect_line(range_1, range_2):\n",
    "    low, high = range_1\n",
    "    low_, high_ = range_2\n",
    "    \n",
    "    x = sorted([low, high, low_, high_])\n",
    "    intersection = None\n",
    "   \n",
    "    if high == x[2] or high_ == x[2]:\n",
    "        intersection = (x[1], x[2])\n",
    "\n",
    "    return intersection\n",
    "    \n",
    "\n",
    "def is_rectangle(candidate):\n",
    "    corner, corner_ = candidate\n",
    "    if (corner[0] != corner_[0]) and (corner[1] != corner_[1]):\n",
    "        return True\n",
    "    return False\n",
    "    \n",
    "def get_intersect(first_rectangle, second_rectangle):\n",
    "    x_line, y_line = get_lines(first_rectangle)\n",
    "    x_line_, y_line_ = get_lines(second_rectangle)   \n",
    "    x_intersect = get_intersect_line(x_line, x_line_)\n",
    "    y_intersect = get_intersect_line(y_line, y_line_) \n",
    "\n",
    "    answer = None\n",
    "    # ensure that there are two intersecting dimensions\n",
    "    if x_intersect and y_intersect:  \n",
    "        candidate = ((x_intersect[0], y_intersect[0]), (x_intersect[1], y_intersect[1]))\n",
    "        # ensure that the candidate is a rectangle\n",
    "        if is_rectangle(candidate):\n",
    "            answer = candidate\n",
    "            \n",
    "    print(f\"x lines: {x_line}, {x_line_}, x intersect: {x_intersect}\")\n",
    "    print(f\"y lines: {y_line}, {y_line_}, y intersect: {y_intersect}\")\n",
    "    print(f\"Answer: {answer}\") \n",
    "    return answer\n",
    "\n",
    "\n",
    "# tests\n",
    "\n",
    "a = ((1, 1), (5, 5))\n",
    "b = ((2, 6), (3, 4))\n",
    "c = ((6, 6), (7, 7))\n",
    "d = ((0, 0), (1, 1))\n",
    "e = ((0, 0), (0, 4))\n",
    "x = ((0, 0), (1, 1))\n",
    "y = ((1, 1), (0, 2))\n",
    "z = ((3, 3), (4, 4))\n",
    "\n",
    "tests = [(a, b), (b, a), (a, c), (b, c), (d, a), (x, y), (a, z)]\n",
    "for first, second in tests:\n",
    "    print(\"\\n\")\n",
    "    get_intersect(first, second)\n"
   ]
  },
  {
   "cell_type": "markdown",
   "metadata": {},
   "source": [
    "## My solution\n",
    "\n",
    "### Time Complexity:\n",
    "\n",
    "The time complexity is $ O (1) $. \n",
    "\n",
    "### Extra space complexity\n",
    "\n",
    "The extra space is $ O (1) $."
   ]
  },
  {
   "cell_type": "code",
   "execution_count": null,
   "metadata": {},
   "outputs": [],
   "source": []
  }
 ],
 "metadata": {
  "kernelspec": {
   "display_name": "Python 3",
   "language": "python",
   "name": "python3"
  },
  "language_info": {
   "codemirror_mode": {
    "name": "ipython",
    "version": 3
   },
   "file_extension": ".py",
   "mimetype": "text/x-python",
   "name": "python",
   "nbconvert_exporter": "python",
   "pygments_lexer": "ipython3",
   "version": "3.6.6"
  },
  "toc": {
   "base_numbering": 1,
   "nav_menu": {},
   "number_sections": false,
   "sideBar": true,
   "skip_h1_title": false,
   "title_cell": "Table of Contents",
   "title_sidebar": "Contents",
   "toc_cell": true,
   "toc_position": {},
   "toc_section_display": true,
   "toc_window_display": false
  }
 },
 "nbformat": 4,
 "nbformat_minor": 1
}
