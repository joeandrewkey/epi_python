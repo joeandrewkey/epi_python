{
 "cells": [
  {
   "cell_type": "markdown",
   "metadata": {},
   "source": [
    "## 13.06 Render a calendar\n",
    "\n",
    "Write a program that takes a set of events, and determines the maximum number of events that takes place concurrently.\n",
    "\n",
    "### Hint\n",
    "Focus on endpoints\n",
    "\n",
    "### Initial remarks.\n",
    "\n",
    "I may be able to solve this by sorting the events by making two sorted lists, start times and end times.\n",
    "Once both lists are in place, i can pop the smallest element from each list.  If I keep track of the maximum difference between the list sizes, I should be able to do this in a single pass."
   ]
  },
  {
   "cell_type": "code",
   "execution_count": 1,
   "metadata": {},
   "outputs": [
    {
     "name": "stdout",
     "output_type": "stream",
     "text": [
      "For [(1, 3), (3, 4), (5, 5), (2, 6), (2, 3), (2, 4)]\n",
      "The maximum number of concurrent events is: 4\n",
      "For [(1, 3)]\n",
      "The maximum number of concurrent events is: 1\n",
      "For []\n",
      "The maximum number of concurrent events is: 0\n"
     ]
    }
   ],
   "source": [
    "def get_max_events(event_list):\n",
    "    starts = []\n",
    "    ends = []\n",
    "    concurrent_max, concurrent = 0, 0\n",
    "    \n",
    "    for event in event_list:\n",
    "        starts.append(event[0])\n",
    "        ends.append(event[1])\n",
    "        \n",
    "    starts.sort()\n",
    "    ends.sort()\n",
    "    \n",
    "    # print(starts, ends)\n",
    "    \n",
    "    while starts:\n",
    "        if starts[0] < ends[0]:\n",
    "            concurrent +=1\n",
    "            starts.pop(0)\n",
    "        else:\n",
    "            concurrent -= 1\n",
    "            ends.pop(0)\n",
    "        concurrent_max = max(concurrent, concurrent_max)\n",
    "        # print(concurrent)\n",
    "        # print(starts, ends)\n",
    "\n",
    "    print(\"For {}\".format(event_list))\n",
    "    print(\"The maximum number of concurrent events is: {}\".format(concurrent_max))\n",
    "#tests\n",
    "\n",
    "tests = [ \n",
    "    [ (1, 3), (3, 4), (5, 5), (2, 6), (2, 3), (2, 4)],\n",
    "    [ (1, 3)],\n",
    "    []\n",
    "]\n",
    "for event_list in tests:\n",
    "    get_max_events(event_list)\n"
   ]
  },
  {
   "cell_type": "markdown",
   "metadata": {},
   "source": [
    "## Concluding Remarks:\n",
    "\n",
    "The time complexity is $ O(n log(n)) $\n",
    "The additional space complexity is $ O(n) $"
   ]
  },
  {
   "cell_type": "code",
   "execution_count": null,
   "metadata": {},
   "outputs": [],
   "source": []
  }
 ],
 "metadata": {
  "kernelspec": {
   "display_name": "Python 3",
   "language": "python",
   "name": "python3"
  },
  "language_info": {
   "codemirror_mode": {
    "name": "ipython",
    "version": 3
   },
   "file_extension": ".py",
   "mimetype": "text/x-python",
   "name": "python",
   "nbconvert_exporter": "python",
   "pygments_lexer": "ipython3",
   "version": "3.6.5"
  }
 },
 "nbformat": 4,
 "nbformat_minor": 2
}
