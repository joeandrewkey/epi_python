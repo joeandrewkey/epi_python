{
 "cells": [
  {
   "cell_type": "markdown",
   "metadata": {},
   "source": [
    "## Problem 12.01 Test for palindromic permutations\n",
    "\n",
    "A palindrome is a string that reads the same forwards and backwards, e.g., \"level\", \"rotator\", and \"foobaraboof\".\n",
    "\n",
    "Write a program to test whether the letters forming a string can be permuted to form a palindrome.\n",
    "For example, \"edified\" can be permuted to form \"deified\".\n",
    "\n",
    "### Hint:\n",
    "Find a simple characterization of strings that can be permuted to form a palindrome.\n",
    "\n",
    "### Initial remarks:\n",
    "I think all strings that could be permuted into a palindrome would require the following characterstics:\n",
    "1.  Either zero or one character that shows up an odd number of times\n",
    "2.  Any number of other characters that shows up an even number of times.\n"
   ]
  },
  {
   "cell_type": "code",
   "execution_count": 2,
   "metadata": {},
   "outputs": [
    {
     "name": "stdout",
     "output_type": "stream",
     "text": [
      "string     is a palindrome?\n",
      "a               1\n",
      "edified         1\n",
      "level           1\n",
      "aabb            1\n",
      "aaabb           1\n",
      "ab              0\n"
     ]
    }
   ],
   "source": [
    "from collections import Counter\n",
    "def is_palindrome(input_string):\n",
    "    # create a Counter dict to count the occurences for each letter\n",
    "    chars = Counter(input_string)\n",
    "        \n",
    "    # You are allowed up to a single character with an odd number of instances, let's inspect\n",
    "    # the counter to find out.\n",
    "    odd_count = 0\n",
    "    for v in chars.values():\n",
    "        if v % 2 == 1:\n",
    "            # if you have an odd number of instances, let's record that\n",
    "            odd_count +=1\n",
    "            if odd_count > 1:\n",
    "                # more than 1 character with an odd number of instances, it's not a palindrome\n",
    "                return False\n",
    "        \n",
    "    # This is a palindrome!\n",
    "    return True\n",
    "\n",
    "# test strings\n",
    "tests = [\"a\", \"edified\", \"level\", \"aabb\", \"aaabb\", \"ab\"]\n",
    "    \n",
    "print(\"{:10} is a palindrome?\".format(\"string\"))\n",
    "for test in tests:\n",
    "    print(\"{:10} {:6}\".format(test, is_palindrome(test)))"
   ]
  },
  {
   "cell_type": "markdown",
   "metadata": {},
   "source": [
    "### Concluding remarks\n",
    "The time complexity is $ O(n) $.\n",
    "The space complexity is $ O(n) $."
   ]
  },
  {
   "cell_type": "code",
   "execution_count": null,
   "metadata": {},
   "outputs": [],
   "source": []
  }
 ],
 "metadata": {
  "kernelspec": {
   "display_name": "Python 3",
   "language": "python",
   "name": "python3"
  },
  "language_info": {
   "codemirror_mode": {
    "name": "ipython",
    "version": 3
   },
   "file_extension": ".py",
   "mimetype": "text/x-python",
   "name": "python",
   "nbconvert_exporter": "python",
   "pygments_lexer": "ipython3",
   "version": "3.6.5"
  }
 },
 "nbformat": 4,
 "nbformat_minor": 2
}
