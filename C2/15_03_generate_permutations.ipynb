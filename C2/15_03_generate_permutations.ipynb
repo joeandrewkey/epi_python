{
 "cells": [
  {
   "cell_type": "markdown",
   "metadata": {},
   "source": [
    "## 15_03 Generate Permutations\n",
    "\n",
    "Write a program which takes as input an array of distinct integers and generates all permutations of that array.  No permutation of the array may appear more than once.\n",
    "\n",
    "### Initial Remarks\n",
    "\n",
    "I think the basic math for permutation applies, so nPr = n! / (n - r)!.  If n = the number of items in the array, and r is the number of items in the array, then nPr = n!.  So if the array is of size 5, then 5x4x3x2x1 or 120 different combinations will be built.\n",
    "\n",
    "So how do I generate this in code?\n",
    "\n",
    "Let's see.\n",
    "\n",
    "Well let's say that 4! = 4 * 3!, and that 3! is 3 * 2!.  Okay let's try recursion.\n",
    "\n",
    "Base case:\n",
    "if there is only a single int in the array, then return the array\n",
    "\n",
    "Recursive case, if there is > 1 integer in the array, then the result is ...."
   ]
  },
  {
   "cell_type": "code",
   "execution_count": 1,
   "metadata": {},
   "outputs": [
    {
     "name": "stdout",
     "output_type": "stream",
     "text": [
      "[[1, 2, 3], [1, 3, 2], [2, 1, 3], [2, 3, 1], [3, 2, 1], [3, 1, 2]]\n"
     ]
    }
   ],
   "source": [
    "import sys\n",
    "\n",
    "def permutations(A):\n",
    "    def directed_permutations(i):\n",
    "        if i == len(A) - 1:\n",
    "            result.append(A.copy())\n",
    "            return\n",
    "        \n",
    "        # Try every possibility for A[i]\n",
    "        for j in range(i, len(A)):\n",
    "            A[i], A[j] = A[j], A[i]\n",
    "            directed_permutations(i + 1)\n",
    "            A[i], A[j] = A[j], A[i]\n",
    "            \n",
    "    result = []\n",
    "    directed_permutations(0)\n",
    "    return result\n",
    "\n",
    "my_list = [1, 2, 3]\n",
    "print(permutations(my_list))"
   ]
  },
  {
   "cell_type": "markdown",
   "metadata": {},
   "source": [
    "### Concluding Remarks:\n",
    "\n",
    "The book solution is interesting.  I need to study it."
   ]
  }
 ],
 "metadata": {
  "kernelspec": {
   "display_name": "Python 3",
   "language": "python",
   "name": "python3"
  },
  "language_info": {
   "codemirror_mode": {
    "name": "ipython",
    "version": 3
   },
   "file_extension": ".py",
   "mimetype": "text/x-python",
   "name": "python",
   "nbconvert_exporter": "python",
   "pygments_lexer": "ipython3",
   "version": "3.6.6"
  }
 },
 "nbformat": 4,
 "nbformat_minor": 2
}
