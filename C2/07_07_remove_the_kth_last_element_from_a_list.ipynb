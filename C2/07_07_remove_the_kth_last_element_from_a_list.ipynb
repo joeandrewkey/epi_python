{
 "cells": [
  {
   "cell_type": "markdown",
   "metadata": {},
   "source": [
    "### 07.07 remove_the_kth_last_element_from_a_list\n",
    "\n",
    "Without knowing the length of a linked list, it is not trivial to delete the kth last element in a singly linked list.  Given a singly linked list and an integer k, write a program to remove the kth last element from the list.  Your algorith cannot use more than a few words of storage, regardless of the length of the list.  In particular, you cannot assume that it is possible to record the length of the list.\n",
    "\n",
    "*Hint*: If you know the length of the list, can you find the kth last node using two iterators?\n",
    "\n",
    "### Remarks:\n",
    "I think I can just keep count of how many nodes into a list I am.  When I reach K, I can create a pointer to the head of the list, as I keep going, I can update K to K.next, once the list is traversed, the value at K is the Kth. last.  I can keep a trailing pointer L, that follows behind K and then assign L.next to K.next."
   ]
  },
  {
   "cell_type": "code",
   "execution_count": 1,
   "metadata": {},
   "outputs": [
    {
     "name": "stdout",
     "output_type": "stream",
     "text": [
      "Solving for k: 0\n",
      "(head) 1 -> 2 -> 3 -> 4 (tail)\n",
      "(head) 1 -> 2 -> 3 -> 4 (tail)\n",
      "Solving for k: 1\n",
      "(head) 1 -> 2 -> 3 -> 4 (tail)\n",
      "(head) 1 -> 2 -> 3 (tail)\n",
      "Solving for k: 2\n",
      "(head) 1 -> 2 -> 3 -> 4 (tail)\n",
      "(head) 1 -> 2 -> 4 (tail)\n",
      "Solving for k: 3\n",
      "(head) 1 -> 2 -> 3 -> 4 (tail)\n",
      "(head) 1 -> 3 -> 4 (tail)\n",
      "Solving for k: 4\n",
      "(head) 1 -> 2 -> 3 -> 4 (tail)\n",
      "(head) 2 -> 3 -> 4 (tail)\n",
      "Solving for k: 5\n",
      "(head) 1 -> 2 -> 3 -> 4 (tail)\n",
      "(head) 1 -> 2 -> 3 -> 4 (tail)\n"
     ]
    }
   ],
   "source": [
    "from helper import print_list, get_list\n",
    "from helper import ListNode as N\n",
    "\n",
    "a = get_list([1, 2, 3, 4])\n",
    "\n",
    "def solution(a_list, k):\n",
    "    print(\"Solving for k: {}\".format(k))\n",
    "    print_list(a_list)\n",
    "    count = 0\n",
    "    kth = None\n",
    "    k_trail = None\n",
    "    list_runner = a_list\n",
    "    while list_runner:\n",
    "        if count == k - 1:\n",
    "            kth = a_list\n",
    "        list_runner = list_runner.next\n",
    "        if list_runner and kth:\n",
    "            k_trail = kth\n",
    "            kth = kth.next\n",
    "        count += 1\n",
    "   \n",
    "    if k_trail:\n",
    "        k_trail.next = kth.next\n",
    "    elif kth:\n",
    "        a_list = a_list.next\n",
    "        \n",
    "    #print(count)\n",
    "    #print(kth.data)\n",
    "    #print(k_trail.data)\n",
    "    print_list(a_list)\n",
    "\n",
    "for i in range(6):\n",
    "    a = get_list([1, 2, 3, 4])\n",
    "    solution(a, i)\n"
   ]
  },
  {
   "cell_type": "markdown",
   "metadata": {},
   "source": [
    "### Remarks\n",
    "\n",
    "Well, with a single iteration of the list I use $ O(n) $ time, and since the only thing I keep is two Node addresses in memory, the additional space is $ O(1) $."
   ]
  },
  {
   "cell_type": "code",
   "execution_count": null,
   "metadata": {},
   "outputs": [],
   "source": []
  }
 ],
 "metadata": {
  "kernelspec": {
   "display_name": "Python 3",
   "language": "python",
   "name": "python3"
  },
  "language_info": {
   "codemirror_mode": {
    "name": "ipython",
    "version": 3
   },
   "file_extension": ".py",
   "mimetype": "text/x-python",
   "name": "python",
   "nbconvert_exporter": "python",
   "pygments_lexer": "ipython3",
   "version": "3.6.4"
  }
 },
 "nbformat": 4,
 "nbformat_minor": 2
}
