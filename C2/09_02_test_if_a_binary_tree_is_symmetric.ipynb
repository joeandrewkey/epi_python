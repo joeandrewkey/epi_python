{
 "cells": [
  {
   "cell_type": "markdown",
   "metadata": {},
   "source": [
    "### 09_02_test_if_a_binary_tree_is_symmetric\n",
    "\n",
    "A binary tree is symmetric if you can draw a vertical line through the root and then the left subtree is the mirror image of the right subtree.  Write a program that checks whether a binary tree is symmetric.\n",
    "\n"
   ]
  },
  {
   "cell_type": "code",
   "execution_count": 1,
   "metadata": {},
   "outputs": [],
   "source": [
    "def is_symmetric(tree):\n",
    "    def check_symmetric(subtree_0, subtree_1):\n",
    "        if not subtree_0 and not subtree_1:\n",
    "            return True\n",
    "        elif subtree_0 and subtree_1:\n",
    "            return (subtree_0.data == subtree_1.data\n",
    "                and check_symmetric(subtree_0.left, subtree_1.right)\n",
    "                and check_symmetric(subtree_0.right, subtree_1.left))\n",
    "        # one subtree is empty, and the other is not\n",
    "        return False\n",
    "    \n",
    "    return not tree or check_symmetric(tree.left, tree.right)\n",
    "\n"
   ]
  },
  {
   "cell_type": "code",
   "execution_count": 2,
   "metadata": {},
   "outputs": [
    {
     "name": "stdout",
     "output_type": "stream",
     "text": [
      "True\n",
      "True\n",
      "False\n"
     ]
    }
   ],
   "source": [
    "from helper import BinaryTreeNode as Node\n",
    "\n",
    "a = Node(data=\"a\")\n",
    "a.left = Node(data=\"b\")\n",
    "a.right = Node(data=\"b\")\n",
    "\n",
    "print(is_symmetric(a))\n",
    "\n",
    "b = Node(data=\"b\")\n",
    "\n",
    "print(is_symmetric(b))\n",
    "\n",
    "c = Node(data=\"c\")\n",
    "c.left = Node(data=\"d\")\n",
    "\n",
    "print(is_symmetric(c))"
   ]
  },
  {
   "cell_type": "markdown",
   "metadata": {},
   "source": [
    "### Remarks:\n",
    "\n",
    "This is a very clever solution from the book.  It deserves more analysis to figure out what led the author to this approach.  "
   ]
  },
  {
   "cell_type": "code",
   "execution_count": null,
   "metadata": {},
   "outputs": [],
   "source": []
  }
 ],
 "metadata": {
  "kernelspec": {
   "display_name": "Python [default]",
   "language": "python",
   "name": "python3"
  },
  "language_info": {
   "codemirror_mode": {
    "name": "ipython",
    "version": 3
   },
   "file_extension": ".py",
   "mimetype": "text/x-python",
   "name": "python",
   "nbconvert_exporter": "python",
   "pygments_lexer": "ipython3",
   "version": "3.6.6"
  }
 },
 "nbformat": 4,
 "nbformat_minor": 2
}
