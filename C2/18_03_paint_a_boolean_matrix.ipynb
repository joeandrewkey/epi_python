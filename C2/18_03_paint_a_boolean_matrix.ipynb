{
 "cells": [
  {
   "cell_type": "markdown",
   "metadata": {},
   "source": [
    "## 18_03 Paint a boolean matrix\n",
    "\n",
    "Implement a routine that takes an n x m Boolean array A together with an entry (x, y) and flips the color of the region associated with (x, y).\n",
    "\n",
    "### Hint: \n",
    "\n",
    "Solve this conceptually, then think about implementation optimizations.\n",
    "\n",
    "\n",
    "### Initial Remarks\n",
    "\n",
    "I want to create a solution that works quickly and doesn't suffer from large execution times "
   ]
  },
  {
   "cell_type": "code",
   "execution_count": 21,
   "metadata": {},
   "outputs": [],
   "source": [
    "import numpy as np\n",
    "from matplotlib import pyplot as plt \n",
    "import matplotlib\n",
    "from collections import deque\n",
    "\n",
    "MASK_VAL = -1\n",
    "ROWS, COLS = 7, 10\n",
    "TARGET_LABEL = \"Target\"\n",
    "\n",
    "#Make a repeatably pseudo-random boolean matrix of ROWS x COLS\n",
    "np.random.seed(seed=43) # Life the universe and everything\n",
    "master_matrix = np.random.randint(2, size=(ROWS, COLS))\n",
    "# master_matrix = np.zeros((ROWS, COLS), dtype=int)\n",
    "\n",
    "\n",
    "def solution(my_matrix, my_point):\n",
    "    \"\"\"Paints a boolean matrix at my_point and along all adjacent points to the opposite color\"\"\"\n",
    "    original_matrix = my_matrix.copy()\n",
    "    \n",
    "    def get_adjacent_same(a_point, a_matrix):\n",
    "        \"\"\"Returns points that are both adjacent to the given point and are the same value\"\"\"\n",
    "        # val = a_matrix[a_point]\n",
    "        max_x, max_y = a_matrix.shape\n",
    "        x, y = a_point[:]\n",
    "\n",
    "        points = ((x, y), (x - 1, y), (x + 1, y), (x, y - 1), (x, y + 1))\n",
    "        result = []\n",
    "        for _x, _y in points:\n",
    "            if (0 <= _x < max_x) and (0 <= _y < max_y):\n",
    "                if a_matrix[(_x,_y)] == val:\n",
    "                    new_point = (_x, _y)\n",
    "                    result.append(new_point)\n",
    "                    my_matrix[new_point] ^= 1\n",
    "\n",
    "        return result\n",
    "\n",
    "    def show_plot(plots):\n",
    "        \"\"\"Visualizes our solution\"\"\"\n",
    "        _, axarr = plt.subplots(1,len(plots))\n",
    "        for i in range(len(plots)):\n",
    "            data = plots[i][1]\n",
    "            cmap = matplotlib.cm.spring\n",
    "            axarr[i].set_title(plots[i][0])\n",
    "            axarr[i].set_yticklabels([])\n",
    "            axarr[i].set_xticklabels([])\n",
    "            if plots[i][0] == TARGET_LABEL:\n",
    "                axarr[i].set_title(str(my_point))\n",
    "                cmap.set_bad(color='white')\n",
    "                masked_array = np.ma.masked_where(data == MASK_VAL, data)\n",
    "                axarr[i].imshow(masked_array, cmap='flag')\n",
    "            else:\n",
    "                axarr[i].imshow(data, cmap='flag')               \n",
    "            axarr[i].tick_params(axis='both', which='both', bottom=False, top=False,\n",
    "                 left=False, labelbottom=False)\n",
    "\n",
    "        plt.show()\n",
    "        plt.close()\n",
    "\n",
    "    # Start with just the main point\n",
    "    same_color_points = deque([my_point])\n",
    "    val = original_matrix[my_point]\n",
    "    \n",
    "    # Create a masked field for the solution plot display, so that it can be white\n",
    "    solution = np.arange(ROWS * COLS).reshape((ROWS, COLS))\n",
    "    solution.fill(MASK_VAL)\n",
    "    \n",
    "    # Flip everything \n",
    "    %%timeit\n",
    "    while same_color_points:\n",
    "        a_point = same_color_points.popleft()\n",
    "        same_color_points.extend(get_adjacent_same(a_point, my_matrix))\n",
    "        solution[a_point] = val\n",
    "        # show_plot([(\"Original\", original_matrix), (TARGET_LABEL, solution), (\"Repaint\", my_matrix)])\n",
    "        \n",
    "    # Highlight the provided point in the original problem in the solution plot\n",
    "    solution[my_point] = 1 - val\n",
    "    plt.rcParams[\"figure.figsize\"] = [10, 10] \n",
    "    show_plot([(\"Original\", original_matrix), (TARGET_LABEL, solution), (\"Repaint\", my_matrix)])\n",
    "\n",
    "    "
   ]
  },
  {
   "cell_type": "code",
   "execution_count": 24,
   "metadata": {},
   "outputs": [
    {
     "data": {
      "image/png": "[encoded data removed]",
      "text/plain": [
       "<Figure size 720x720 with 3 Axes>"
      ]
     },
     "metadata": {},
     "output_type": "display_data"
    }
   ],
   "source": [
    "solution(master_matrix.copy(), (3, 3))"
   ]
  },
  {
   "cell_type": "code",
   "execution_count": 3,
   "metadata": {},
   "outputs": [
    {
     "data": {
      "image/png": "[encoded data removed]",
      "text/plain": [
       "<Figure size 720x720 with 3 Axes>"
      ]
     },
     "metadata": {},
     "output_type": "display_data"
    }
   ],
   "source": [
    "solution(master_matrix.copy(), (0, 0))"
   ]
  },
  {
   "cell_type": "code",
   "execution_count": 4,
   "metadata": {},
   "outputs": [
    {
     "data": {
      "image/png": "[encoded data removed]",
      "text/plain": [
       "<Figure size 720x720 with 3 Axes>"
      ]
     },
     "metadata": {},
     "output_type": "display_data"
    }
   ],
   "source": [
    "solution(master_matrix.copy(), (4, 3))"
   ]
  },
  {
   "cell_type": "code",
   "execution_count": 5,
   "metadata": {},
   "outputs": [
    {
     "data": {
      "image/png": "[encoded data removed]",
      "text/plain": [
       "<Figure size 720x720 with 3 Axes>"
      ]
     },
     "metadata": {},
     "output_type": "display_data"
    }
   ],
   "source": [
    "solution(master_matrix.copy(), (0, 1))"
   ]
  }
 ],
 "metadata": {
  "kernelspec": {
   "display_name": "Python 3",
   "language": "python",
   "name": "python3"
  },
  "language_info": {
   "codemirror_mode": {
    "name": "ipython",
    "version": 3
   },
   "file_extension": ".py",
   "mimetype": "text/x-python",
   "name": "python",
   "nbconvert_exporter": "python",
   "pygments_lexer": "ipython3",
   "version": "3.6.6"
  }
 },
 "nbformat": 4,
 "nbformat_minor": 2
}
