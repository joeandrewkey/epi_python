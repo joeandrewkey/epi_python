{
 "cells": [
  {
   "cell_type": "markdown",
   "metadata": {},
   "source": [
    "## 16_06 The knapsack problem\n",
    "\n",
    "A thief breaks into a clock store.  Each clock has a weight and a value, which are known to the thief.  His knapsack cannot hold more than a specified combined weight.  His intention is to take clocks whose total value is the maximum subject to the knapsack's weight constraint.\n",
    "\n",
    "Write a program for the knapsack problem that selects a subset of items that has the maximum value and satisfies the weight constraint.  All items have integer weights and values.  Return the value of the subset.\n",
    "\n",
    "### Hint:\n",
    "\n",
    "Greedy approaches are doomed.\n",
    "\n",
    "### Initial remarks:\n",
    "\n",
    "Here is the book solution\n"
   ]
  },
  {
   "cell_type": "code",
   "execution_count": 1,
   "metadata": {},
   "outputs": [
    {
     "name": "stdout",
     "output_type": "stream",
     "text": [
      "695\n"
     ]
    }
   ],
   "source": [
    "import collections\n",
    "Item = collections.namedtuple('Item', ('name', 'value', 'weight'))\n",
    "\n",
    "def optimum_subject_to_capacity(items, capacity):\n",
    "\n",
    "    def optimum_subject_to_item_and_capacity(k, available_capacity):\n",
    "        if k < 0:\n",
    "            return 0\n",
    "\n",
    "        if V[k][available_capacity] == -1:\n",
    "            without_curr_item = optimum_subject_to_item_and_capacity(k - 1, available_capacity)\n",
    "            if available_capacity < items[k].weight:\n",
    "                with_curr_item = 0\n",
    "            else:\n",
    "                with_curr_item = items[k].value + optimum_subject_to_item_and_capacity(k - 1, available_capacity - items[k].weight)\n",
    "            V[k][available_capacity] = max(without_curr_item, with_curr_item)\n",
    "        return V[k][available_capacity]\n",
    "\n",
    "    V = [[-1] * (capacity +1) for _ in items]\n",
    "    return optimum_subject_to_item_and_capacity(len(items) - 1, capacity)\n",
    "\n",
    "items = [\n",
    "    Item(\"A\", 65, 20), Item(\"B\", 35, 8), Item(\"C\", 245, 60), Item(\"D\", 195, 55), Item(\"E\", 65, 40), Item(\"F\", 150, 70),\n",
    "    Item(\"G\", 275, 85), Item(\"H\", 155, 25), Item(\"I\", 120, 30), Item(\"J\", 320, 65), Item(\"K\", 75, 75),\n",
    "    Item(\"L\", 40, 10), Item(\"I\", 200, 95), Item(\"J\", 100, 50), Item(\"K\", 220, 40), Item(\"L\", 99, 10)\n",
    "]\n",
    "\n",
    "capacity = 130\n",
    "\n",
    "print(optimum_subject_to_capacity(items, capacity))"
   ]
  },
  {
   "cell_type": "code",
   "execution_count": null,
   "metadata": {},
   "outputs": [],
   "source": []
  }
 ],
 "metadata": {
  "kernelspec": {
   "display_name": "Python 3",
   "language": "python",
   "name": "python3"
  },
  "language_info": {
   "codemirror_mode": {
    "name": "ipython",
    "version": 3
   },
   "file_extension": ".py",
   "mimetype": "text/x-python",
   "name": "python",
   "nbconvert_exporter": "python",
   "pygments_lexer": "ipython3",
   "version": "3.6.6"
  }
 },
 "nbformat": 4,
 "nbformat_minor": 2
}
