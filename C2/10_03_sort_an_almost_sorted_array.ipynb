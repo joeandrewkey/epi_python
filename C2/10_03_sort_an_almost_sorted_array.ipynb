{
 "cells": [
  {
   "cell_type": "markdown",
   "metadata": {},
   "source": [
    "### 10.03 Sort an almost sorted array\n",
    "\n",
    "Often data is almost-sorted -- for example, a server receives timestamped stock quotes and earlier quotes may arrive slightly after later quotes because of differences in server loads and network routes.  In this problem we address efficient ways to sort such data.\n",
    "\n",
    "Write a program which takes as input a very long sequence of numbers and prints the numbers in sorted order.  Each number is at most k away from its correctly sorted position.  (Such an array is sometimes referred to as being k-sorted.)  For example, no number in the sequence {3, -1, 2, 6, 4, 5, 8} is more than 2 away from its final sorted postion.\n",
    "\n",
    "*Hint*: How many numbers must you read after reading the ith number to be sure you can place it in the correct position.\n",
    "\n",
    "#### Remarks:\n",
    "It seems that a min-heap of size k + 1 that is first filled to capacity and then removes the smallest value (the root of the heap) when it exceeds that capacity would straighten out our array.\n"
   ]
  },
  {
   "cell_type": "code",
   "execution_count": 1,
   "metadata": {},
   "outputs": [
    {
     "name": "stdout",
     "output_type": "stream",
     "text": [
      "k is 0\n",
      "1\n",
      "2\n",
      "0\n",
      "3\n",
      "4\n",
      "6\n",
      "k is 1\n",
      "1\n",
      "0\n",
      "2\n",
      "3\n",
      "4\n",
      "6\n",
      "k is 2\n",
      "0\n",
      "1\n",
      "2\n",
      "3\n",
      "4\n",
      "6\n",
      "k is 3\n",
      "0\n",
      "1\n",
      "2\n",
      "3\n",
      "4\n",
      "6\n"
     ]
    }
   ],
   "source": [
    "from heapq import heappush, heappop\n",
    "def solution(arr, k):\n",
    "    k_min_heap = []\n",
    "    for item in arr:\n",
    "        heappush(k_min_heap, item)\n",
    "        if len(k_min_heap) > k + 1:\n",
    "            out = heappop(k_min_heap)\n",
    "            print(out)\n",
    "    while k_min_heap:\n",
    "        print(heappop(k_min_heap))\n",
    "          \n",
    "# k = 1, not enough\n",
    "for k in range(4):\n",
    "    print(\"k is {}\".format(k))\n",
    "    solution([\"3\", \"1\", \"2\", \"0\", \"4\", \"6\"], k)\n",
    "            "
   ]
  },
  {
   "cell_type": "markdown",
   "metadata": {},
   "source": [
    "### Remarks:\n",
    "This took seven minutes. \n",
    "\n",
    "Additional space complexity: $ O(k) $\n",
    "\n",
    "Time complexity: $ O(log(k) * n) $"
   ]
  },
  {
   "cell_type": "code",
   "execution_count": null,
   "metadata": {},
   "outputs": [],
   "source": []
  }
 ],
 "metadata": {
  "kernelspec": {
   "display_name": "Python 3",
   "language": "python",
   "name": "python3"
  },
  "language_info": {
   "codemirror_mode": {
    "name": "ipython",
    "version": 3
   },
   "file_extension": ".py",
   "mimetype": "text/x-python",
   "name": "python",
   "nbconvert_exporter": "python",
   "pygments_lexer": "ipython3",
   "version": "3.6.4"
  }
 },
 "nbformat": 4,
 "nbformat_minor": 2
}
