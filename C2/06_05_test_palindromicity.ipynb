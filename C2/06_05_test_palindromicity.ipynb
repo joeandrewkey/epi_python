{
 "cells": [
  {
   "cell_type": "code",
   "execution_count": 1,
   "metadata": {},
   "outputs": [
    {
     "name": "stdout",
     "output_type": "stream",
     "text": [
      "    1: a\n",
      "    1: aa\n",
      "    1: aba\n",
      "    0: foo\n",
      "    1: Able was I, ere I saw Elba!\n",
      "    1: A man, a plan, a canal, Panama.\n",
      "    0: Ray a Ray\n"
     ]
    }
   ],
   "source": [
    "def solution(phrase):\n",
    "    phrase = \"\".join([x for x in phrase if str(x).isalpha()]).lower()\n",
    "\n",
    "    i, j = 0, len(phrase) - 1\n",
    "    while i < j:\n",
    "        left, right = phrase[i], phrase[j]\n",
    "        if left != right:\n",
    "            return False\n",
    "        i += 1\n",
    "        j -= 1\n",
    "    return True\n",
    "\n",
    "\n",
    "for phrase in [\n",
    "    \"a\", \"aa\", \"aba\", \"foo\", \"Able was I, ere I saw Elba!\", \"A man, a plan, a canal, Panama.\", \"Ray a Ray\"]:\n",
    "    print(\"{:>5}: {}\".format(solution(phrase), phrase))"
   ]
  },
  {
   "cell_type": "markdown",
   "metadata": {},
   "source": [
    "### Remarks:\n",
    "\n",
    "This was rather easy, like most array based problems"
   ]
  }
 ],
 "metadata": {
  "kernelspec": {
   "display_name": "Python 3",
   "language": "python",
   "name": "python3"
  },
  "language_info": {
   "codemirror_mode": {
    "name": "ipython",
    "version": 3
   },
   "file_extension": ".py",
   "mimetype": "text/x-python",
   "name": "python",
   "nbconvert_exporter": "python",
   "pygments_lexer": "ipython3",
   "version": "3.6.1"
  },
  "varInspector": {
   "cols": {
    "lenName": 16.0,
    "lenType": 16.0,
    "lenVar": 40.0
   },
   "kernels_config": {
    "python": {
     "delete_cmd_postfix": "",
     "delete_cmd_prefix": "del ",
     "library": "var_list.py",
     "varRefreshCmd": "print(var_dic_list())"
    },
    "r": {
     "delete_cmd_postfix": ") ",
     "delete_cmd_prefix": "rm(",
     "library": "var_list.r",
     "varRefreshCmd": "cat(var_dic_list()) "
    }
   },
   "types_to_exclude": [
    "module",
    "function",
    "builtin_function_or_method",
    "instance",
    "_Feature"
   ],
   "window_display": false
  }
 },
 "nbformat": 4,
 "nbformat_minor": 2
}
