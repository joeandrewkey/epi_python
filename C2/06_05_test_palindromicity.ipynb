{
 "cells": [
  {
   "cell_type": "code",
   "execution_count": 1,
   "metadata": {},
   "outputs": [
    {
     "name": "stdout",
     "output_type": "stream",
     "text": [
      "    1: a\n",
      "    1: aa\n",
      "    1: aba\n",
      "    0: foo\n",
      "    1: Able was I, ere I saw Elba!\n",
      "    1: A man, a plan, a canal, Panama.\n",
      "    0: Ray a Ray\n"
     ]
    }
   ],
   "source": [
    "def solution(phrase):\n",
    "    phrase = \"\".join([x for x in phrase if str(x).isalpha()]).lower()\n",
    "\n",
    "    i, j = 0, len(phrase) - 1\n",
    "    while i < j:\n",
    "        left, right = phrase[i], phrase[j]\n",
    "        if left != right:\n",
    "            return False\n",
    "        i += 1\n",
    "        j -= 1\n",
    "    return True\n",
    "\n",
    "\n",
    "for phrase in [\n",
    "    \"a\", \"aa\", \"aba\", \"foo\", \"Able was I, ere I saw Elba!\", \"A man, a plan, a canal, Panama.\", \"Ray a Ray\"]:\n",
    "    print(\"{:>5}: {}\".format(solution(phrase), phrase))"
   ]
  },
  {
   "cell_type": "markdown",
   "metadata": {},
   "source": [
    "### Remarks:\n",
    "\n",
    "This was rather easy, like most array based problems.  But a review against the book solution showed that I can save time by not pre-processing the text.  Here's an updated version based upon the idea of processing during the comparision.\n"
   ]
  },
  {
   "cell_type": "code",
   "execution_count": 7,
   "metadata": {},
   "outputs": [
    {
     "name": "stdout",
     "output_type": "stream",
     "text": [
      "    1: a\n",
      "    1: aa\n",
      "    1: aba\n",
      "    1: 010\n",
      "    0: 1010\n",
      "    1: Able was I, ere I saw Elba!\n",
      "    1: A man, a plan, a canal, Panama.\n",
      "    0: Ray a Ray\n"
     ]
    }
   ],
   "source": [
    "def solution(phrase):\n",
    "\n",
    "    i, j = 0, len(phrase) - 1\n",
    "    while i < j:\n",
    "        while not phrase[i].isalnum() and i < j:\n",
    "            i += 1\n",
    "        while not phrase[j].isalnum() and i < j:\n",
    "            j -= 1\n",
    "            \n",
    "        left, right = phrase[i], phrase[j]\n",
    "        if left.lower() != right.lower():\n",
    "            return False\n",
    "        i += 1\n",
    "        j -= 1\n",
    "    return True\n",
    "\n",
    "\n",
    "for phrase in [\n",
    "    \"a\", \"aa\", \"aba\", \"010\", \"1010\", \"Able was I, ere I saw Elba!\", \"A man, a plan, a canal, Panama.\", \"Ray a Ray\"]:\n",
    "    print(\"{:>5}: {}\".format(solution(phrase), phrase))"
   ]
  },
  {
   "cell_type": "markdown",
   "metadata": {},
   "source": [
    "### Remarks\n",
    "\n",
    "This solution has a much better best-case time complexity *and* additional space complexity.  Pre-processing was completely unnecessary and my solution improves when I process as I go."
   ]
  },
  {
   "cell_type": "code",
   "execution_count": null,
   "metadata": {
    "collapsed": true
   },
   "outputs": [],
   "source": []
  }
 ],
 "metadata": {
  "kernelspec": {
   "display_name": "Python 3",
   "language": "python",
   "name": "python3"
  },
  "language_info": {
   "codemirror_mode": {
    "name": "ipython",
    "version": 3
   },
   "file_extension": ".py",
   "mimetype": "text/x-python",
   "name": "python",
   "nbconvert_exporter": "python",
   "pygments_lexer": "ipython3",
   "version": "3.6.1"
  },
  "varInspector": {
   "cols": {
    "lenName": 16,
    "lenType": 16,
    "lenVar": 40
   },
   "kernels_config": {
    "python": {
     "delete_cmd_postfix": "",
     "delete_cmd_prefix": "del ",
     "library": "var_list.py",
     "varRefreshCmd": "print(var_dic_list())"
    },
    "r": {
     "delete_cmd_postfix": ") ",
     "delete_cmd_prefix": "rm(",
     "library": "var_list.r",
     "varRefreshCmd": "cat(var_dic_list()) "
    }
   },
   "types_to_exclude": [
    "module",
    "function",
    "builtin_function_or_method",
    "instance",
    "_Feature"
   ],
   "window_display": false
  }
 },
 "nbformat": 4,
 "nbformat_minor": 2
}
