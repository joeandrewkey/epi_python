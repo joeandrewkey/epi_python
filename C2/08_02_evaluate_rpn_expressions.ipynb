{
 "cells": [
  {
   "cell_type": "markdown",
   "metadata": {},
   "source": [
    "### 08_02_evaluate_RPN_expressions\n",
    "\n",
    "Write a program that takes an arithmetical expression in RPN (Reverse Polish Notation) and returns the number that it evaluates to.\n",
    "\n",
    "Example: \"3, 4, +, 2, x, 1, +\" evaluates to (3 + 4) x 2 + 1, which equals 15.\n",
    "\n",
    "*Hint*: Process subexpressions, keeping values in a stack.  How should operators be handled?\n",
    "\n",
    "### Remarks:\n",
    "A running total can be created.  The length of a valid RPN should be an odd counting number.  So for \"3, 4, +, 2, x, 1, +\" we could start with 3, then process the next two as \"+ 4\", and store the result as 7, then process the next two as \"x 2\" and store the result as 14, then process the next two as \"+ 1\" and store the result as 15 and then return.  \n"
   ]
  },
  {
   "cell_type": "code",
   "execution_count": 1,
   "metadata": {},
   "outputs": [
    {
     "name": "stdout",
     "output_type": "stream",
     "text": [
      "\n",
      " [42]\n",
      "42\n",
      "\n",
      " [-2, 4, '-', -3, '/']\n",
      "-2 - 4 = \n",
      "-6 / -3 = \n",
      "2\n",
      "\n",
      " [3, 4, '+', 2, 'x', 1, '+']\n",
      "3 + 4 = \n",
      "7 x 2 = \n",
      "14 + 1 = \n",
      "15\n"
     ]
    }
   ],
   "source": [
    "def solution(rpn_list):\n",
    "    print(\"\\n\", rpn_list)\n",
    "    lhs = rpn_list.pop(0)\n",
    "    while rpn_list:\n",
    "        rhs = rpn_list.pop(0)\n",
    "        operator = rpn_list.pop(0)\n",
    "        print(\"{} {} {} = \".format(lhs, operator, rhs))\n",
    "        if operator == \"+\":\n",
    "            lhs = lhs + rhs\n",
    "        elif operator == \"-\":\n",
    "            lhs = lhs - rhs\n",
    "        elif operator == \"x\":\n",
    "            lhs = lhs * rhs\n",
    "        elif operator == \"/\":\n",
    "            lhs = lhs // rhs\n",
    "    print(lhs)\n",
    "\n",
    "    \n",
    "for rpn in [ [42], [-2, 4, \"-\", -3, \"/\"], [3, 4, \"+\", 2, \"x\", 1, \"+\"] ]:\n",
    "    solution(rpn)\n"
   ]
  },
  {
   "cell_type": "markdown",
   "metadata": {},
   "source": [
    "### Remarks:\n",
    "This was easy.  The time complexity is $ O(n) $.  The additional space complexity is $ O(1) $."
   ]
  }
 ],
 "metadata": {
  "kernelspec": {
   "display_name": "Python 3",
   "language": "python",
   "name": "python3"
  },
  "language_info": {
   "codemirror_mode": {
    "name": "ipython",
    "version": 3
   },
   "file_extension": ".py",
   "mimetype": "text/x-python",
   "name": "python",
   "nbconvert_exporter": "python",
   "pygments_lexer": "ipython3",
   "version": "3.6.4"
  }
 },
 "nbformat": 4,
 "nbformat_minor": 2
}
