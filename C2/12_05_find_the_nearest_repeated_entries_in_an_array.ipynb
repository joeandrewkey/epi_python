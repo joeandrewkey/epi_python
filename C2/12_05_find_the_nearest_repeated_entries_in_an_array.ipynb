{
 "cells": [
  {
   "cell_type": "markdown",
   "metadata": {},
   "source": [
    "## 12.05 Find the nearest repeated entries in an array\n",
    "\n",
    "Write a program which takes as input an array and finds the distance between a closest pair of equal entries.  For examples: if s = (\"All work and no play makes for no work no fun and no results\"), then the second and third occurences of no is the closest pair.\n",
    "\n",
    "### Hint\n",
    "each entry in the array is a candidate\n",
    "\n",
    "### Initial remarks\n",
    "I get the feeling that with a small data structure, perhaps a dictionary, that I can solve this easily."
   ]
  },
  {
   "cell_type": "code",
   "execution_count": 1,
   "metadata": {},
   "outputs": [
    {
     "name": "stdout",
     "output_type": "stream",
     "text": [
      "The smallest distance is 2, discovered at index 9, the word is 'no'\n"
     ]
    }
   ],
   "source": [
    "def get_closest_pair(input_array):\n",
    "    elem_dict = {}\n",
    "    smallest_dist = len(input_array)\n",
    "    smallest_index = None\n",
    "    for counter, item in enumerate(input_array):\n",
    "        if item not in elem_dict:\n",
    "            elem_dict[item] = counter\n",
    "        else:\n",
    "            dist = counter - elem_dict[item]\n",
    "            if dist < smallest_dist:\n",
    "                smallest_dist = dist\n",
    "                smallest_index = counter\n",
    "            elem_dict[item] = counter\n",
    "    \n",
    "    print(\"The smallest distance is {}, discovered at index {}, the word is '{}'\".format(\n",
    "        smallest_dist, smallest_index, input_array[smallest_index]))\n",
    "        \n",
    "\n",
    "test_strings = [\"all work and no play makes for no work no fun and no results\"]\n",
    "for test in test_strings:\n",
    "    get_closest_pair(test.split())\n"
   ]
  },
  {
   "cell_type": "markdown",
   "metadata": {},
   "source": [
    "### Concluding remarks:\n",
    "\n",
    "The time complexity is $O(n)$\n",
    "The additional space complexity is $O(n)$"
   ]
  }
 ],
 "metadata": {
  "kernelspec": {
   "display_name": "Python 3",
   "language": "python",
   "name": "python3"
  },
  "language_info": {
   "codemirror_mode": {
    "name": "ipython",
    "version": 3
   },
   "file_extension": ".py",
   "mimetype": "text/x-python",
   "name": "python",
   "nbconvert_exporter": "python",
   "pygments_lexer": "ipython3",
   "version": "3.6.5"
  }
 },
 "nbformat": 4,
 "nbformat_minor": 2
}
