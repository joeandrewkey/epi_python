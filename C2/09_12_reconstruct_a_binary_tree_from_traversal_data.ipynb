{
 "cells": [
  {
   "cell_type": "markdown",
   "metadata": {},
   "source": [
    "### 09_12_reconstruct_a_binary_tree_from_traversal_data\n",
    "\n",
    "Many different binary trees yield the same sequence of keys in an inorder, preorder, or postorder traversal.  However, given an inorder traversal and one of any two other traversal orders of a binary tree, there exists a unique binary tree that yeilds those orders, assuming each node holds a distinct key.  For example, the unique binary tree whose inorder traversal sequence is {F, B, A, E, H, C, D, I, G} and whose preorder traversal is {H, B, F, E, A, C, D, G, I} is given in Figure 9.5 on the next page.\n",
    "\n",
    "Given an inorder traversal and a preorder traversal sequence of a binary tree, write a program to reconstruct the tree.  Assume each node has a unique key.\n",
    "\n",
    "*Hint*: Focus on the root\n",
    "\n"
   ]
  },
  {
   "cell_type": "code",
   "execution_count": 1,
   "metadata": {},
   "outputs": [],
   "source": [
    "def binary_tree_from_preorder_inorder(preorder, inorder):\n",
    "    node_to_inorder_idx = {data: i for i, data in enumerate(inorder)}\n",
    "    \n",
    "    # Builds the subtree with preorder[preorder_start:preorder_end] and \n",
    "    # inorder[inorder_start:inorder_end]\n",
    "    \n",
    "    def binary_tree_from_preorder_inorder_helper(preorder_start, preorder_end, inorder_start, inorder_end):\n",
    "        if preorder_end <= preorder_start or inorder_end <= inorder_start:\n",
    "            return None\n",
    "    \n",
    "        root_inorder_idx = node_to_inorder_idx[preorder[preorder_start]]\n",
    "        left_subtree_size = root_inorder_idx - inorder_start\n",
    "        return BinaryTreeNode( preorder[preorder_start],\n",
    "               binary_tree_from_preorder_inorder_helper(\n",
    "                   preorder_start + 1, preorder_start + 1 + left_subtree_size, inorder_start, root_inorder_idx),\n",
    "               binary_tree_from_preorder_inorder_helper(\n",
    "                   preorder_start + 1 + left_subtree_size, preorder_end, root_inorder_idx, inorder_end\n",
    "               ))\n",
    "    \n",
    "        return binary_tree_from_preorder_inorder_helper(0, len(preorder), 0, len(inorder))"
   ]
  },
  {
   "cell_type": "markdown",
   "metadata": {},
   "source": [
    "### Remarks:\n",
    "\n",
    "I really need to study this one.  I will get back to it."
   ]
  },
  {
   "cell_type": "code",
   "execution_count": null,
   "metadata": {},
   "outputs": [],
   "source": []
  }
 ],
 "metadata": {
  "kernelspec": {
   "display_name": "Python 3",
   "language": "python",
   "name": "python3"
  },
  "language_info": {
   "codemirror_mode": {
    "name": "ipython",
    "version": 3
   },
   "file_extension": ".py",
   "mimetype": "text/x-python",
   "name": "python",
   "nbconvert_exporter": "python",
   "pygments_lexer": "ipython3",
   "version": "3.6.5"
  }
 },
 "nbformat": 4,
 "nbformat_minor": 2
}
