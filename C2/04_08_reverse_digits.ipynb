{
 "cells": [
  {
   "cell_type": "markdown",
   "metadata": {},
   "source": [
    "### 04_08  Reverse Digits\n",
    "\n",
    "Write a program which takes an integer and returns the integer corresponding to the digits of the input written in reverse order.  For example the reverse of 42 is 24 and the reverse of -314 is -413.\n",
    "\n",
    "*Hint*: How would you solve the same problem if the input is presented as a string?\n",
    "\n",
    "### Remarks\n",
    "\n",
    "This seems pretty simple."
   ]
  },
  {
   "cell_type": "code",
   "execution_count": 8,
   "metadata": {},
   "outputs": [
    {
     "name": "stdout",
     "output_type": "stream",
     "text": [
      "0\n",
      "-1\n",
      "1\n",
      "-12\n",
      "24\n",
      "-413\n"
     ]
    }
   ],
   "source": [
    "def solution_1(i):\n",
    "    s = str(i)\n",
    "    negative = False\n",
    "    if i < 0:\n",
    "        negative = True \n",
    "        s = s[1:]\n",
    "    s = s[::-1]\n",
    "    if negative:\n",
    "        s = \"-\" + s\n",
    "    return s\n",
    "\n",
    "inputs = [0, -1, 1, -21, 42, -314]\n",
    "_ = [print(solution_1(i)) for i in inputs]"
   ]
  },
  {
   "cell_type": "markdown",
   "metadata": {},
   "source": [
    "### Closing Remarks:\n",
    "This took 3 minutes ^_^ including tests!"
   ]
  },
  {
   "cell_type": "code",
   "execution_count": null,
   "metadata": {
    "collapsed": true
   },
   "outputs": [],
   "source": []
  }
 ],
 "metadata": {
  "kernelspec": {
   "display_name": "Python 3",
   "language": "python",
   "name": "python3"
  },
  "language_info": {
   "codemirror_mode": {
    "name": "ipython",
    "version": 3
   },
   "file_extension": ".py",
   "mimetype": "text/x-python",
   "name": "python",
   "nbconvert_exporter": "python",
   "pygments_lexer": "ipython3",
   "version": "3.6.1"
  },
  "varInspector": {
   "cols": {
    "lenName": 16,
    "lenType": 16,
    "lenVar": 40
   },
   "kernels_config": {
    "python": {
     "delete_cmd_postfix": "",
     "delete_cmd_prefix": "del ",
     "library": "var_list.py",
     "varRefreshCmd": "print(var_dic_list())"
    },
    "r": {
     "delete_cmd_postfix": ") ",
     "delete_cmd_prefix": "rm(",
     "library": "var_list.r",
     "varRefreshCmd": "cat(var_dic_list()) "
    }
   },
   "types_to_exclude": [
    "module",
    "function",
    "builtin_function_or_method",
    "instance",
    "_Feature"
   ],
   "window_display": false
  }
 },
 "nbformat": 4,
 "nbformat_minor": 2
}
