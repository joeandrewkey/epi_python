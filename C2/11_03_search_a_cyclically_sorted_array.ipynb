{
 "cells": [
  {
   "cell_type": "markdown",
   "metadata": {
    "collapsed": true
   },
   "source": [
    "## 11.03 Search a cyclically sorted array\n",
    "\n",
    "An array is said to be cyclically sorted if it is possible to cyclically shift its entries so that it becomes sorted.  For example the array in Figure 11.2 is cyclically sorted -- a cyclic left shift by 4 leads to a sorted array:\n",
    "\n",
    "### Figure 11.2\n",
    "`\n",
    "378 - 478 - 550 - 631 - 103 - 203 - 220 - 234 - 279 - 369\n",
    "`\n"
   ]
  },
  {
   "cell_type": "markdown",
   "metadata": {},
   "source": [
    "### Challenge:\n",
    "\n",
    "Design an O(log n) algorithm for finding the position of the smallest element in a cyclically sorted array.  Assume all elements are distinct.  For example, for the array in Figure 11.2, your algorithm should return 4.\n",
    "\n",
    "### Hint:\n",
    "_Use the divide and conquer principle._\n",
    "\n"
   ]
  },
  {
   "cell_type": "markdown",
   "metadata": {},
   "source": [
    "### Initial remarks:\n",
    "\n",
    "It seems like I could do a binary search until i meet certain conditions.\n"
   ]
  },
  {
   "cell_type": "code",
   "execution_count": 3,
   "metadata": {},
   "outputs": [
    {
     "name": "stdout",
     "output_type": "stream",
     "text": [
      "\nArray is [4]\nleft: 0, right: 0, mid: 0\nThe smallest index is 0\n\nArray is [1, 2, 3, 4]\nleft: 0, right: 3, mid: 1\nmoving left to mid\nleft: 1, right: 3, mid: 2\nmoving left to mid\nleft: 2, right: 3, mid: 2\nThe smallest index is 0\n\nArray is [4, 6, 1, 3]\nleft: 0, right: 3, mid: 1\nmoving left to mid\nleft: 1, right: 3, mid: 2\nmoving right to mid\nleft: 1, right: 2, mid: 1\nThe smallest index is 2\n\nArray is [3, 4, 1, 2]\nleft: 0, right: 3, mid: 1\nmoving left to mid\nleft: 1, right: 3, mid: 2\nmoving right to mid\nleft: 1, right: 2, mid: 1\nThe smallest index is 2\n\nArray is [5, 6, 7, 8, 1, 2, 3, 4]\nleft: 0, right: 7, mid: 3\nmoving left to mid\nleft: 3, right: 7, mid: 5\nmoving right to mid\nleft: 3, right: 5, mid: 4\nmoving right to mid\nleft: 3, right: 4, mid: 3\nThe smallest index is 4\n"
     ]
    }
   ],
   "source": [
    "\n",
    "def status(left, right):\n",
    "    mid = int((left + right) / 2)\n",
    "    print(\"left: {}, right: {}, mid: {}\".format(left, right, mid))\n",
    "\n",
    "def step(left, right, arr):\n",
    "    mid = int((left + right) / 2)\n",
    "    if arr[left] < arr[mid]:\n",
    "        print(\"moving left to mid\")\n",
    "        left = mid\n",
    "    else:\n",
    "        print(\"moving right to mid\")\n",
    "        right = mid\n",
    "    return left, right\n",
    "\n",
    "def solve(arr):\n",
    "    print(\"\\nArray is {}\".format(arr))\n",
    "    left, right = 0, len(arr) - 1\n",
    "    smallest_index = 0\n",
    "\n",
    "    while (right - left > 1):\n",
    "        status(left, right)\n",
    "        left, right = step(left, right, arr)\n",
    "\n",
    "    status(left, right)\n",
    "\n",
    "    smallest_index = left\n",
    "    if arr[right] < arr[smallest_index]:\n",
    "        smallest_index = right\n",
    "    print(\"The smallest index is {}\".format(smallest_index))\n",
    "\n",
    "puzzles = [ [4], [1,2,3,4], [4,6,1,3], [3,4,1,2], [5,6,7,8,1,2,3,4]]\n",
    "\n",
    "for puzzle in puzzles:\n",
    "    solve(puzzle)"
   ]
  },
  {
   "cell_type": "markdown",
   "metadata": {},
   "source": [
    "### Concluding Remarks:\n",
    "\n",
    "I was out of practice, this took longer than I expected.  My solution is $ O(log n) $."
   ]
  },
  {
   "cell_type": "code",
   "execution_count": null,
   "metadata": {},
   "outputs": [],
   "source": []
  }
 ],
 "metadata": {
  "kernelspec": {
   "display_name": "Python 2",
   "language": "python",
   "name": "python2"
  },
  "language_info": {
   "codemirror_mode": {
    "name": "ipython",
    "version": 2
   },
   "file_extension": ".py",
   "mimetype": "text/x-python",
   "name": "python",
   "nbconvert_exporter": "python",
   "pygments_lexer": "ipython2",
   "version": "2.7.6"
  }
 },
 "nbformat": 4,
 "nbformat_minor": 0
}
