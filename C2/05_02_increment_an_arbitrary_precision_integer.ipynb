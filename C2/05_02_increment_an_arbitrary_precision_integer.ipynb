{
 "cells": [
  {
   "cell_type": "markdown",
   "metadata": {},
   "source": [
    "### 05.02 increment an arbitrary precision integer\n",
    "\n",
    "Write a program which take as input an array of digits encoding a nonnegative decimal integer D and updates the array to represent the integer D + 1.  For example if the input is (1, 2, 9) then the should update the array to (1, 3, 0).  Your algorithm should work even if it is implemented in a language that has finite precision arithmetic.\n",
    "\n",
    "*Hint*: Experiment with concrete examples\n",
    "\n",
    "### Remarks:\n",
    "\n",
    "It seems like the special case is the digit 9.  If it is ever incremented you have to turn it into 10, which is either incrementing the (n-1) element of the array by 1 or just writing a 1"
   ]
  },
  {
   "cell_type": "code",
   "execution_count": 1,
   "metadata": {},
   "outputs": [
    {
     "name": "stdout",
     "output_type": "stream",
     "text": [
      "[1]\n",
      "[3, 5]\n",
      "[4, 0]\n",
      "[1, 0, 0]\n",
      "[1, 0, 0, 0, 0, 0, 0, 0, 0, 0, 0]\n"
     ]
    }
   ],
   "source": [
    "def solution(arr):\n",
    "    arr = [0] + arr\n",
    "    arr = arr[::-1]\n",
    "    i, inc = 0, True\n",
    "    while inc:\n",
    "        arr[i] += 1\n",
    "        if arr[i] == 10:\n",
    "            arr[i] = 0\n",
    "        else:\n",
    "            inc = False\n",
    "        i += 1\n",
    "    arr = arr[::-1]\n",
    "    if arr[0] == 0:\n",
    "        arr = arr[1:]\n",
    "    return arr\n",
    "\n",
    "print(solution([0]))\n",
    "print(solution([3, 4]))\n",
    "print(solution([3, 9]))\n",
    "print(solution([9, 9]))\n",
    "print(solution([9] * 10))"
   ]
  },
  {
   "cell_type": "markdown",
   "metadata": {},
   "source": [
    "### Remarks:\n",
    "\n",
    "Time complexity $ O(n) $ where $ n $ is the size of the array.\n",
    "\n",
    "Additional space complexity $ O(n) $ where $ n $ is the size of the array."
   ]
  }
 ],
 "metadata": {
  "kernelspec": {
   "display_name": "Python 3",
   "language": "python",
   "name": "python3"
  },
  "language_info": {
   "codemirror_mode": {
    "name": "ipython",
    "version": 3
   },
   "file_extension": ".py",
   "mimetype": "text/x-python",
   "name": "python",
   "nbconvert_exporter": "python",
   "pygments_lexer": "ipython3",
   "version": "3.6.1"
  },
  "varInspector": {
   "cols": {
    "lenName": 16,
    "lenType": 16,
    "lenVar": 40
   },
   "kernels_config": {
    "python": {
     "delete_cmd_postfix": "",
     "delete_cmd_prefix": "del ",
     "library": "var_list.py",
     "varRefreshCmd": "print(var_dic_list())"
    },
    "r": {
     "delete_cmd_postfix": ") ",
     "delete_cmd_prefix": "rm(",
     "library": "var_list.r",
     "varRefreshCmd": "cat(var_dic_list()) "
    }
   },
   "types_to_exclude": [
    "module",
    "function",
    "builtin_function_or_method",
    "instance",
    "_Feature"
   ],
   "window_display": false
  }
 },
 "nbformat": 4,
 "nbformat_minor": 2
}
