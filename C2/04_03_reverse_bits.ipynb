{
 "cells": [
  {
   "cell_type": "markdown",
   "metadata": {},
   "source": [
    "## 04.03 Reverse Bits\n",
    "\n",
    "Write a program that takes a 64-bit unsigned integer and returns the 64-bit unsigned integer consisting of the bits of the input in reverse order.  For example if the input is:\n",
    "1110000000000001, the output should be \n",
    "1000000000000111.\n",
    "\n",
    "### Hint:\n",
    "Use a lookup table\n",
    "\n",
    "### Initial Remarks:\n",
    "\n",
    "I don't need a lookup table, I can use 'bin' to make a bitfield string and then reverse it and then convert it back into an int.\n"
   ]
  },
  {
   "cell_type": "code",
   "execution_count": 1,
   "metadata": {},
   "outputs": [
    {
     "name": "stdout",
     "output_type": "stream",
     "text": [
      "\n",
      "It works\n",
      "Input:                                                                  142\n",
      "Bitstring: 0000000000000000000000000000000000000000000000000000000010001110\n",
      "Reversed:  0111000100000000000000000000000000000000000000000000000000000000\n",
      "Answer:                                                 8142508126285856768\n",
      "CPU times: user 203 µs, sys: 21 µs, total: 224 µs\n",
      "Wall time: 165 µs\n",
      "\n",
      "And it's invertible\n",
      "Input:                                                  8142508126285856768\n",
      "Bitstring: 0111000100000000000000000000000000000000000000000000000000000000\n",
      "Reversed:  0000000000000000000000000000000000000000000000000000000010001110\n",
      "Answer:                                                                 142\n",
      "CPU times: user 189 µs, sys: 19 µs, total: 208 µs\n",
      "Wall time: 163 µs\n"
     ]
    },
    {
     "data": {
      "text/plain": [
       "142"
      ]
     },
     "execution_count": 1,
     "metadata": {},
     "output_type": "execute_result"
    }
   ],
   "source": [
    "def solution(my_int):\n",
    "    print(\"Input:     {:>64}\".format(my_int))\n",
    "    bit_string = bin(my_int)[2:].zfill(64)\n",
    "    print(\"Bitstring: {:>64}\".format(bit_string))\n",
    "    rev = bit_string[::-1]\n",
    "    print(\"Reversed:  {:>64}\".format(rev))\n",
    "    answer = int(rev, 2)\n",
    "    print(\"Answer:    {:>64}\".format(answer))\n",
    "    return answer\n",
    "\n",
    "import timeit\n",
    "print(\"\\nIt works\")\n",
    "%time solution(142)\n",
    "print(\"\\nAnd it's invertible\")\n",
    "%time solution(8142508126285856768)"
   ]
  },
  {
   "cell_type": "markdown",
   "metadata": {},
   "source": [
    "### Concluding Remarks\n",
    "\n",
    "Looks like the solution works in the millisecond range."
   ]
  }
 ],
 "metadata": {
  "kernelspec": {
   "display_name": "Python 3",
   "language": "python",
   "name": "python3"
  },
  "language_info": {
   "codemirror_mode": {
    "name": "ipython",
    "version": 3
   },
   "file_extension": ".py",
   "mimetype": "text/x-python",
   "name": "python",
   "nbconvert_exporter": "python",
   "pygments_lexer": "ipython3",
   "version": "3.6.6"
  }
 },
 "nbformat": 4,
 "nbformat_minor": 2
}
