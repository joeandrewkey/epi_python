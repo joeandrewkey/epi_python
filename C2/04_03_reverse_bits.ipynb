{
 "cells": [
  {
   "cell_type": "markdown",
   "metadata": {},
   "source": [
    "## 04.03 Reverse Bits\n",
    "\n",
    "Write a program that takes a 64-bit unsigned integer and returns the 64-bit unsigned integer consisting of the bits of the input in reverse order.  For example if the input is:\n",
    "1110000000000001, the output should be \n",
    "1000000000000111.\n",
    "\n",
    "### Hint:\n",
    "Use a lookup table\n",
    "\n",
    "### Initial Remarks:\n",
    "\n",
    "I don't need a lookup table, I can use 'bin' to make a bitfield string and then reverse it and then convert it back into an int.\n"
   ]
  },
  {
   "cell_type": "code",
   "execution_count": 1,
   "metadata": {},
   "outputs": [
    {
     "name": "stdout",
     "output_type": "stream",
     "text": [
      "\n",
      "It works\n",
      "Input:                                                                  142\n",
      "Bitstring: 0000000000000000000000000000000000000000000000000000000010001110\n",
      "Reversed:  0111000100000000000000000000000000000000000000000000000000000000\n",
      "Answer:                                                 8142508126285856768\n",
      "\n",
      "And it's invertible\n",
      "Input:                                                  8142508126285856768\n",
      "Bitstring: 0111000100000000000000000000000000000000000000000000000000000000\n",
      "Reversed:  0000000000000000000000000000000000000000000000000000000010001110\n",
      "Answer:                                                                 142\n",
      "\n",
      "Lets time it\n",
      "3.16 µs ± 36.7 ns per loop (mean ± std. dev. of 7 runs, 100000 loops each)\n"
     ]
    }
   ],
   "source": [
    "def dont_print(*args):\n",
    "    return\n",
    "\n",
    "def solution(my_int, display=True):\n",
    "    if not display:\n",
    "        display = dont_print\n",
    "    else:\n",
    "        display = print\n",
    "    display(\"Input:     {:>64}\".format(my_int))\n",
    "    bit_string = bin(my_int)[2:].zfill(64)\n",
    "    display(\"Bitstring: {:>64}\".format(bit_string))\n",
    "    rev = bit_string[::-1]\n",
    "    display(\"Reversed:  {:>64}\".format(rev))\n",
    "    answer = int(rev, 2)\n",
    "    display(\"Answer:    {:>64}\".format(answer))\n",
    "    return answer, rev\n",
    "\n",
    "print(\"\\nIt works\")\n",
    "solution(142)\n",
    "print(\"\\nAnd it's invertible\")\n",
    "solution(8142508126285856768)\n",
    "\n",
    "from random import randint\n",
    "print(\"\\nLets time it\")\n",
    "%timeit solution(randint(0, 2^64-1), display=False)\n"
   ]
  },
  {
   "cell_type": "markdown",
   "metadata": {},
   "source": [
    "### Concluding Remarks\n",
    "\n",
    "Looks like the solution works in just a few microseconds."
   ]
  },
  {
   "cell_type": "code",
   "execution_count": null,
   "metadata": {},
   "outputs": [],
   "source": []
  }
 ],
 "metadata": {
  "kernelspec": {
   "display_name": "Python 3",
   "language": "python",
   "name": "python3"
  },
  "language_info": {
   "codemirror_mode": {
    "name": "ipython",
    "version": 3
   },
   "file_extension": ".py",
   "mimetype": "text/x-python",
   "name": "python",
   "nbconvert_exporter": "python",
   "pygments_lexer": "ipython3",
   "version": "3.6.6"
  }
 },
 "nbformat": 4,
 "nbformat_minor": 2
}
