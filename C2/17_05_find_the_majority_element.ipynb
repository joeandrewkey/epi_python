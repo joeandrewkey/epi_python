{
 "cells": [
  {
   "cell_type": "markdown",
   "metadata": {},
   "source": [
    "## 17_05 Find the majority element\n",
    "\n",
    "You are reading a sequence of strings.  You know a priori that more than half the strings are repetitions of a single string (the \"majority element\") but the positions where the majority element occurs are unknown.  Write a program that makes a single pass over the sequence and identifies the majority element for example, if the input is (b, a, c, a, a, b, a, a, c, a), then a is the majority element (it appears in 6 out of the ten places).\n",
    "\n",
    "### Hint\n",
    "Take advantage of the existence of the majority element to perform elimination.\n",
    "\n",
    "### Initial Remarks\n",
    "The chapter is Greedy Algorithms and invariants, so I think that I can try something greedy. If I know the length of the sequence, then I know what it takes to constitute a majority element.  If I read the sequence in order, I can tell whether or not a given string could possibly be the majority element.  For instance, at the sixth string of a sequence of ten, I am guaranteed to have seen the majority element at least once.  At the seventh element, I need to have seen the majority element at least twice.  If I keep count of the number of times that I see an element, I should be able to determine what to start eliminating at the n/2 mark, where n is the length of the sequence.\n",
    "\n"
   ]
  },
  {
   "cell_type": "code",
   "execution_count": 4,
   "metadata": {},
   "outputs": [
    {
     "name": "stdout",
     "output_type": "stream",
     "text": [
      "Sequence is : ['b', 'a', 'c', 'a', 'a', 'b', 'a', 'a', 'c', 'a']\n",
      "Majority element occurs at least 5 times\n",
      "defaultdict(<function solution_1.<locals>.<lambda> at 0x7f576c08d1e0>, {'b': 4})\n",
      "defaultdict(<function solution_1.<locals>.<lambda> at 0x7f576c08d1e0>, {'b': 4, 'a': 4})\n",
      "defaultdict(<function solution_1.<locals>.<lambda> at 0x7f576c08d1e0>, {'b': 4, 'a': 4, 'c': 4})\n",
      "defaultdict(<function solution_1.<locals>.<lambda> at 0x7f576c08d1e0>, {'b': 4, 'a': 3, 'c': 4})\n",
      "defaultdict(<function solution_1.<locals>.<lambda> at 0x7f576c08d1e0>, {'b': 4, 'a': 2, 'c': 4})\n",
      "defaultdict(<function solution_1.<locals>.<lambda> at 0x7f576c08d1e0>, {'b': 3, 'a': 2, 'c': 4})\n",
      "defaultdict(<function solution_1.<locals>.<lambda> at 0x7f576c08d1e0>, {'b': 3, 'a': 1, 'c': 4})\n",
      "defaultdict(<function solution_1.<locals>.<lambda> at 0x7f576c08d1e0>, {'b': 3, 'a': 0, 'c': 4})\n",
      "Found majority element a at index 7\n",
      "CPU times: user 848 µs, sys: 97 µs, total: 945 µs\n",
      "Wall time: 3.14 ms\n",
      "Sequence is : ['a', 'a', 'a', 'a', 'b', 'b', 'b']\n",
      "Majority element occurs at least 4 times\n",
      "defaultdict(<function solution_1.<locals>.<lambda> at 0x7f576fa6b950>, {'a': 3})\n",
      "defaultdict(<function solution_1.<locals>.<lambda> at 0x7f576fa6b950>, {'a': 2})\n",
      "defaultdict(<function solution_1.<locals>.<lambda> at 0x7f576fa6b950>, {'a': 1})\n",
      "defaultdict(<function solution_1.<locals>.<lambda> at 0x7f576fa6b950>, {'a': 0})\n",
      "Found majority element a at index 3\n",
      "CPU times: user 1.58 ms, sys: 182 µs, total: 1.76 ms\n",
      "Wall time: 1.61 ms\n",
      "Sequence is : ['a']\n",
      "Majority element occurs at least 1 times\n",
      "defaultdict(<function solution_1.<locals>.<lambda> at 0x7f576c08d598>, {'a': 0})\n",
      "Found majority element a at index 0\n",
      "CPU times: user 84 µs, sys: 9 µs, total: 93 µs\n",
      "Wall time: 70.1 µs\n",
      "Sequence is : ['b', 'b', 'b', 'a', 'a', 'a', 'a']\n",
      "Majority element occurs at least 4 times\n",
      "defaultdict(<function solution_1.<locals>.<lambda> at 0x7f576c08de18>, {'b': 3})\n",
      "defaultdict(<function solution_1.<locals>.<lambda> at 0x7f576c08de18>, {'b': 2})\n",
      "defaultdict(<function solution_1.<locals>.<lambda> at 0x7f576c08de18>, {'b': 1})\n",
      "defaultdict(<function solution_1.<locals>.<lambda> at 0x7f576c08de18>, {'b': 1, 'a': 3})\n",
      "defaultdict(<function solution_1.<locals>.<lambda> at 0x7f576c08de18>, {'b': 1, 'a': 2})\n",
      "defaultdict(<function solution_1.<locals>.<lambda> at 0x7f576c08de18>, {'b': 1, 'a': 1})\n",
      "defaultdict(<function solution_1.<locals>.<lambda> at 0x7f576c08de18>, {'b': 1, 'a': 0})\n",
      "Found majority element a at index 6\n",
      "CPU times: user 469 µs, sys: 54 µs, total: 523 µs\n",
      "Wall time: 402 µs\n",
      "Sequence is : ['b', 'a', 'a']\n",
      "Majority element occurs at least 2 times\n",
      "defaultdict(<function solution_1.<locals>.<lambda> at 0x7f576c08d7b8>, {'b': 1})\n",
      "defaultdict(<function solution_1.<locals>.<lambda> at 0x7f576c08d7b8>, {'b': 1, 'a': 1})\n",
      "defaultdict(<function solution_1.<locals>.<lambda> at 0x7f576c08d7b8>, {'b': 1, 'a': 0})\n",
      "Found majority element a at index 2\n",
      "CPU times: user 411 µs, sys: 0 ns, total: 411 µs\n",
      "Wall time: 291 µs\n"
     ]
    }
   ],
   "source": [
    "import math\n",
    "from collections import defaultdict\n",
    "def solution_1(seq):\n",
    "    print(\"Sequence is : {}\".format(seq))\n",
    "    d = {}\n",
    "    majority = math.ceil(len(seq) / 2)\n",
    "    print(\"Majority element occurs at least {} times\".format(majority))\n",
    "    d = defaultdict(lambda: majority, d)\n",
    "    i = 0\n",
    "    while i < len(seq):\n",
    "        key = seq[i]\n",
    "        d[key] -= 1\n",
    "        print(d)\n",
    "        if d[key] == 0:\n",
    "            print(\"Found majority element {} at index {}\".format(key, i))\n",
    "            return key\n",
    "        i += 1\n",
    "\n",
    "sequences = [\n",
    "    [\"b\", \"a\", \"c\", \"a\", \"a\", \"b\", \"a\", \"a\", \"c\", \"a\"],\n",
    "    [\"a\", \"a\", \"a\", \"a\", \"b\", \"b\", \"b\"],\n",
    "    [\"a\"],\n",
    "    [\"b\", \"b\", \"b\", \"a\", \"a\", \"a\", \"a\"],\n",
    "    [\"b\", \"a\", \"a\"]\n",
    "    \n",
    "]\n",
    "for sequence in sequences:\n",
    "    %time solution_1(sequence)"
   ]
  },
  {
   "cell_type": "markdown",
   "metadata": {},
   "source": [
    "### Concluding Remarks:\n",
    "\n",
    "Since I know that the majority element occurs at least ceil(n/2) times, I use a default dictionary where each key has that value.  Each time I encounter a key, I subtract 1 from that value.  The first key whose value turns zero is the majority element.\n",
    "\n",
    "Time complexity $$ O(n) $$\n",
    "Additional Space complexity $$ O(k) $$"
   ]
  },
  {
   "cell_type": "code",
   "execution_count": null,
   "metadata": {},
   "outputs": [],
   "source": []
  }
 ],
 "metadata": {
  "kernelspec": {
   "display_name": "Python 3",
   "language": "python",
   "name": "python3"
  },
  "language_info": {
   "codemirror_mode": {
    "name": "ipython",
    "version": 3
   },
   "file_extension": ".py",
   "mimetype": "text/x-python",
   "name": "python",
   "nbconvert_exporter": "python",
   "pygments_lexer": "ipython3",
   "version": "3.6.6"
  }
 },
 "nbformat": 4,
 "nbformat_minor": 2
}
