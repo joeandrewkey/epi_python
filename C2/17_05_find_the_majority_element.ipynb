{
 "cells": [
  {
   "cell_type": "markdown",
   "metadata": {},
   "source": [
    "## 17_05 Find the majority element\n",
    "\n",
    "You are reading a sequence of strings.  You know a priori that more than half the strings are repetitions of a single string (the \"majority element\") but the positions where the majority element occurs are unknown.  Write a program that makes a single pass over the sequence and identifies the majority element for example, if the input is (b, a, c, a, a, b, a, a, c, a), then a is the majority element (it appears in 6 out of the ten places).\n",
    "\n",
    "### Hint\n",
    "Take advantage of the existence of the majority element to perform elimination.\n",
    "\n",
    "### Initial Remarks\n",
    "The chapter is Greedy Algorithms and invariants, so I think that I can try something greedy. If I know the length of the sequence, then I know what it takes to constitute a majority element.  If I read the sequence in order, I can tell whether or not a given string could possibly be the majority element.  For instance, at the sixth string of a sequence of ten, I am guaranteed to have seen the majority element at least once.  At the seventh element, I need to have seen the majority element at least twice.  If I keep count of the number of times that I see an element, I should be able to determine what to start eliminating at the n/2 mark, where n is the length of the sequence.\n",
    "\n"
   ]
  },
  {
   "cell_type": "code",
   "execution_count": 1,
   "metadata": {},
   "outputs": [],
   "source": [
    "import math\n",
    "from collections import defaultdict\n",
    "def solution_1(seq):\n",
    "    print(\"Sequence is : {}\".format(seq))\n",
    "    d = {}\n",
    "    majority = math.ceil(len(seq) / 2)\n",
    "    print(\"Majority element occurs at least {} times\".format(majority))\n",
    "    d = defaultdict(lambda: majority, d)\n",
    "    i = 0\n",
    "    while i < len(seq):\n",
    "        key = seq[i]\n",
    "        d[key] -= 1\n",
    "        if d[key] == 0:\n",
    "            print(\"Found majority element {} at index {}\".format(key, i))\n",
    "        i += 1\n",
    "\n",
    "sequences = [\n",
    "    [\"b\", \"a\", \"c\", \"a\", \"a\", \"b\", \"a\", \"a\", \"c\", \"a\"],\n",
    "    [\"a\", \"a\", \"a\", \"a\", \"b\", \"b\", \"b\"],\n",
    "    [\"a\"],\n",
    "    [\"b\", \"b\", \"b\", \"a\", \"a\", \"a\", \"a\"],\n",
    "    [\"b\", \"a\", \"a\"]\n",
    "    \n",
    "]\n",
    "for sequence in sequences:\n",
    "    solution_1(sequence)"
   ]
  },
  {
   "cell_type": "markdown",
   "metadata": {},
   "source": [
    "### Concluding Remarks:\n",
    "\n",
    "Since I know that the majority element occurs at least ceil(n/2) times, I use a default dictionary where each key has that value.  Each time I encounter a key, I subtract 1 from that value.  The first key whose value turns zero is the majority element.\n",
    "\n",
    "Time complexity $$ O(n) $$\n",
    "Additional Space complexity $$ O(k) $$"
   ]
  },
  {
   "cell_type": "code",
   "execution_count": null,
   "metadata": {},
   "outputs": [],
   "source": []
  }
 ],
 "metadata": {
  "kernelspec": {
   "display_name": "Python 3",
   "language": "python",
   "name": "python3"
  },
  "language_info": {
   "codemirror_mode": {
    "name": "ipython",
    "version": 3
   },
   "file_extension": ".py",
   "mimetype": "text/x-python",
   "name": "python",
   "nbconvert_exporter": "python",
   "pygments_lexer": "ipython3",
   "version": "3.6.5"
  }
 },
 "nbformat": 4,
 "nbformat_minor": 2
}
