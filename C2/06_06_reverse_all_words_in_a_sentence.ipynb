{
 "cells": [
  {
   "cell_type": "markdown",
   "metadata": {},
   "source": [
    "### 06_06 reverse all words in a sentence\n",
    "\n",
    "Given a string containing a set of words separated by whitespace, we would like to transform it into a string in which the words appear in the reverse order.  For example, \"Alice likes Bob\" transforms to \"Bob likes Alice\".  We do not need to keep the original string.\n",
    "\n",
    "### Remarks:\n",
    "Seriously simple\n"
   ]
  },
  {
   "cell_type": "code",
   "execution_count": 1,
   "metadata": {},
   "outputs": [
    {
     "name": "stdout",
     "output_type": "stream",
     "text": [
      "batman am i\n",
      "batman am i\n",
      "batman am i\n"
     ]
    }
   ],
   "source": [
    "def reverse_in_place(my_array, i=None, j=None):\n",
    "    if i is None:\n",
    "        i = 0\n",
    "    if j is None:\n",
    "        j = len(my_array) - 1\n",
    "    \n",
    "    while i < j:\n",
    "        my_array[i], my_array[j] = my_array[j], my_array[i]\n",
    "        i += 1\n",
    "        j -= 1\n",
    "        \n",
    "def solution(my_string):\n",
    "    \"\"\"why not convert to an array of words and then reverse the array\"\"\"\n",
    "    x = \" \".join([word for word in my_string.split(\" \")][::-1])\n",
    "    return x\n",
    "print(solution(\"i am batman\"))\n",
    "\n",
    "# okay let's try to do it some other way\n",
    "def solution_2(my_string):\n",
    "    \"\"\"or reverse the entire string and then reverse all the words\"\"\"\n",
    "    my_string = my_string[::-1]\n",
    "    x = \" \".join(word[::-1] for word in my_string.split(\" \"))\n",
    "    return x\n",
    "print(solution_2(\"i am batman\"))\n",
    "\n",
    "def solution_3(my_string):\n",
    "    \"\"\"but here's my favorite, i since I convert everything into \n",
    "    an array and reverse the characters in place\"\"\"\n",
    "    my_array = list(my_string)\n",
    "    reverse_in_place(my_array)\n",
    "    word_start = None\n",
    "    for i in range(len(my_array)):\n",
    "        if my_array[i] == ' ':\n",
    "            word_end = i - 1\n",
    "            reverse_in_place(my_array, i=word_start, j=word_end)\n",
    "            word_start = None\n",
    "        elif word_start is None:\n",
    "                word_start = i\n",
    "    return \"\".join(my_array)\n",
    "\n",
    "print(solution_3(\"i am batman\"))\n",
    "\n",
    "        \n",
    "\n"
   ]
  },
  {
   "cell_type": "markdown",
   "metadata": {},
   "source": [
    "### Remarks\n",
    "\n",
    "Reversing a string in place is fairly straightforward if you no the basic tools.  Let's take those away and just try to be as space efficient and time efficient as possible.\n",
    "\n",
    "In the third solution, I require $ O(1) $ additional space and $ O(n) $ additional time.\n",
    "\n",
    "Conceivably, I could try to do even better, maybe by recursing into my reverse function, but I don't know if anyone really needs this to be done. \n"
   ]
  }
 ],
 "metadata": {
  "kernelspec": {
   "display_name": "Python 3",
   "language": "python",
   "name": "python3"
  },
  "language_info": {
   "codemirror_mode": {
    "name": "ipython",
    "version": 3
   },
   "file_extension": ".py",
   "mimetype": "text/x-python",
   "name": "python",
   "nbconvert_exporter": "python",
   "pygments_lexer": "ipython3",
   "version": "3.6.1"
  },
  "varInspector": {
   "cols": {
    "lenName": 16,
    "lenType": 16,
    "lenVar": 40
   },
   "kernels_config": {
    "python": {
     "delete_cmd_postfix": "",
     "delete_cmd_prefix": "del ",
     "library": "var_list.py",
     "varRefreshCmd": "print(var_dic_list())"
    },
    "r": {
     "delete_cmd_postfix": ") ",
     "delete_cmd_prefix": "rm(",
     "library": "var_list.r",
     "varRefreshCmd": "cat(var_dic_list()) "
    }
   },
   "types_to_exclude": [
    "module",
    "function",
    "builtin_function_or_method",
    "instance",
    "_Feature"
   ],
   "window_display": false
  }
 },
 "nbformat": 4,
 "nbformat_minor": 2
}
