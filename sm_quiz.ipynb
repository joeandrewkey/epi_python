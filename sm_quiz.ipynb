{
  "nbformat": 4,
  "nbformat_minor": 0,
  "metadata": {
    "colab": {
      "name": "sm_quiz.ipynb",
      "version": "0.3.2",
      "provenance": [],
      "collapsed_sections": [],
      "include_colab_link": true
    },
    "kernelspec": {
      "name": "python3",
      "display_name": "Python 3"
    }
  },
  "cells": [
    {
      "cell_type": "markdown",
      "metadata": {
        "id": "view-in-github",
        "colab_type": "text"
      },
      "source": [
        "[View in Colaboratory](https://colab.research.google.com/github/redpanda-ai/epi_python/blob/master/sm_quiz.ipynb)"
      ]
    },
    {
      "metadata": {
        "id": "MutUSuAIHJVU",
        "colab_type": "text"
      },
      "cell_type": "markdown",
      "source": [
        "### **Assignment**\n",
        "\n",
        "Write a script that, given a web server log file, returns the 10 most frequently requested objects\n",
        "and their cumulative bytes transferred. Only include GET requests with Successful (HTTP 2xx)\n",
        "responses. Resolve ties however you’d like.\n",
        "Log format:\n",
        "- request date, time, and time zone\n",
        "- request line from the client\n",
        "- HTTP status code returned to the client\n",
        "- size (in bytes) of the returned object\n",
        "\n",
        "**Given this input data:**\n",
        "```\n",
        "[01/Aug/1995:00:54:59 -0400] \"GET /images/opf-logo.gif HTTP/1.0\" 200 32511\n",
        "[01/Aug/1995:00:55:04 -0400] \"GET /images/ksclogosmall.gif HTTP/1.0\" 200 3635\n",
        "[01/Aug/1995:00:55:06 -0400] \"GET /images/ksclogosmall.gif HTTP/1.0\" 403 298\n",
        "[01/Aug/1995:00:55:09 -0400] \"GET /images/ksclogosmall.gif HTTP/1.0\" 200 3635\n",
        "[01/Aug/1995:00:55:18 -0400] \"GET /images/opf-logo.gif HTTP/1.0\" 200 32511\n",
        "[01/Aug/1995:00:56:52 -0400] \"GET /images/ksclogosmall.gif HTTP/1.0\" 200 3635\n",
        "```\n",
        "**The result should be:**\n",
        "```\n",
        "/images/ksclogosmall.gif 10905\n",
        "/images/opf-logo.gif 65022\n",
        "```\n",
        "(You may tweak the output format as you'd like)"
      ]
    },
    {
      "metadata": {
        "id": "4AZzVlvpJO6Z",
        "colab_type": "code",
        "colab": {}
      },
      "cell_type": "code",
      "source": [
        "test_file_0 = \"\"\"\n",
        "[01/Aug/1995:00:54:59 -0400] \"GET /images/opf-logo.gif HTTP/1.0\" 200 32511\n",
        "[01/Aug/1995:00:55:04 -0400] \"GET /images/ksclogosmall.gif HTTP/1.0\" 200 3635\n",
        "[01/Aug/1995:00:55:06 -0400] \"GET /images/ksclogosmall.gif HTTP/1.0\" 403 298\n",
        "[01/Aug/1995:00:55:09 -0400] \"GET /images/ksclogosmall.gif HTTP/1.0\" 200 3635\n",
        "[01/Aug/1995:00:55:18 -0400] \"GET /images/opf-logo.gif HTTP/1.0\" 200 32511\n",
        "[01/Aug/1995:00:55:52 -0400] \"GET /images/ksclogosmall.gif HTTP/1.0\" 200 3635\n",
        "\"\"\"\n",
        "\n",
        "test_file_1 = \"\"\"\n",
        "[01/Aug/1995:00:54:59 -0400] \"GET /images/opf-logo.gif HTTP/1.0\" 200 32511\n",
        "[01/Aug/1995:00:55:04 -0400] \"GET /images/ksclogosmall.gif HTTP/1.0\" 200 3635\n",
        "[01/Aug/1995:00:55:06 -0400] \"GET /images/ksclogosmall.gif HTTP/1.0\" 403 298\n",
        "[01/Aug/1995:00:55:09 -0400] \"GET /images/ksclogosmall.gif HTTP/1.0\" 200 3635\n",
        "[01/Aug/1995:00:55:18 -0400] \"GET /images/opf-logo.gif HTTP/1.0\" 200 32511\n",
        "[01/Aug/1995:00:55:52 -0400] \"GET /images/ksclogosmall.gif HTTP/1.0\" 200 3635\n",
        "[01/Aug/1995:00:55:52 -0400] \"GET /images/ksclogosmall_1.gif HTTP/1.0\" 200 3635\n",
        "[01/Aug/1995:00:55:52 -0400] \"GET /images/ksclogosmall_2.gif HTTP/1.0\" 200 3635\n",
        "[01/Aug/1995:00:55:52 -0400] \"GET /images/ksclogosmall_3.gif HTTP/1.0\" 200 3635\n",
        "[01/Aug/1995:00:55:52 -0400] \"GET /images/ksclogosmall_4.gif HTTP/1.0\" 200 3635\n",
        "[01/Aug/1995:00:55:52 -0400] \"GET /images/ksclogosmall_5.gif HTTP/1.0\" 200 3635\n",
        "[01/Aug/1995:00:55:52 -0400] \"GET /images/ksclogosmall_6.gif HTTP/1.0\" 200 3635\n",
        "[01/Aug/1995:00:55:18 -0400] \"GET /images/opf-logo.gif HTTP/1.0\" 200 32511\n",
        "[01/Aug/1995:00:55:52 -0400] \"GET /images/ksclogosmall_7.gif HTTP/1.0\" 200 3635\n",
        "[01/Aug/1995:00:55:52 -0400] \"GET /images/ksclogosmall_8.gif HTTP/1.0\" 200 3635\n",
        "[01/Aug/1995:00:55:52 -0400] \"GET /images/ksclogosmall_a.gif HTTP/1.0\" 200 3635\n",
        "[01/Aug/1995:00:55:52 -0400] \"GET /images/ksclogosmall_9.gif HTTP/1.0\" 200 3635\n",
        "[01/Aug/1995:00:55:52 -0400] \"GET /images/ksclogosmall_0.gif HTTP/1.0\" 200 3635\n",
        "[01/Aug/1995:00:55:52 -0400] \"GET /images/ksclogosmall_a.gif HTTP/1.0\" 200 3635\n",
        "\"\"\"\n",
        "\n",
        "with open(\"test_file_0.log\", \"w\", encoding=\"utf-8\") as out_file:\n",
        "  out_file.write(test_file_0)\n",
        "  \n",
        "with open(\"test_file_1.log\", \"w\", encoding=\"utf-8\") as out_file:\n",
        "  out_file.write(test_file_1)\n"
      ],
      "execution_count": 0,
      "outputs": []
    },
    {
      "metadata": {
        "id": "ocsrarRdHpNO",
        "colab_type": "code",
        "colab": {
          "base_uri": "https://localhost:8080/",
          "height": 383
        },
        "outputId": "375e4391-5e9a-4099-f90b-c953131da704"
      },
      "cell_type": "code",
      "source": [
        "import re\n",
        "from collections import Counter, defaultdict\n",
        "\n",
        "def n_most_frequent_requests(log_file, n=10):\n",
        "    \"\"\"Returns the n most frequent successful (HTTP response code 2xx)\n",
        "    GET requests\"\"\"\n",
        "    regex = r'^\\[.*\\]\\s+\"GET (\\S+).*\"\\s+2\\d\\d\\s+(\\d+)$'\n",
        "    #                        ^^^^^              ^^^^^\n",
        "    #                        object             size_in_bytes\n",
        "\n",
        "    object_counter = Counter()\n",
        "    byte_sums = defaultdict(int)\n",
        "\n",
        "    with open(log_file, \"r\", encoding=\"utf-8\") as in_file:\n",
        "        for line in in_file:\n",
        "            if re.search(regex, line):\n",
        "                matches = (re.match(regex, line).groups())\n",
        "                object, size_in_bytes = matches\n",
        "                object_counter[object] += 1\n",
        "                byte_sums[object] += int(size_in_bytes)\n",
        "\n",
        "\n",
        "    n_most_common = object_counter.most_common(n)\n",
        "\n",
        "    results = []\n",
        "    for key, count in n_most_common:\n",
        "        results.append((key, byte_sums[key], count))\n",
        "\n",
        "    return results\n",
        "\n",
        "#Let's run a few tests\n",
        "test_files = [\"test_file_0.log\", \"test_file_1.log\"]\n",
        "for test_file in test_files:\n",
        "    print(f\"Testing {test_file}:\")\n",
        "    header_0, header_1, header_2 = \"object\", \"bytes\", \"count\"\n",
        "    print(f\"\\t{header_0:<30} {header_1:>10} {header_2:>4}\")\n",
        "    for key, bytes, count in n_most_frequent_requests(test_file):\n",
        "        # I have added a third field to the output, count\n",
        "        print(f\"\\t{key:<30} {bytes:>10} {count:>4}\")\n",
        "    print(\"\\n\")\n"
      ],
      "execution_count": 2,
      "outputs": [
        {
          "output_type": "stream",
          "text": [
            "Testing test_file_0.log:\n",
            "\tobject                              bytes count\n",
            "\t/images/ksclogosmall.gif            10905    3\n",
            "\t/images/opf-logo.gif                65022    2\n",
            "\n",
            "\n",
            "Testing test_file_1.log:\n",
            "\tobject                              bytes count\n",
            "\t/images/opf-logo.gif                97533    3\n",
            "\t/images/ksclogosmall.gif            10905    3\n",
            "\t/images/ksclogosmall_a.gif           7270    2\n",
            "\t/images/ksclogosmall_1.gif           3635    1\n",
            "\t/images/ksclogosmall_2.gif           3635    1\n",
            "\t/images/ksclogosmall_3.gif           3635    1\n",
            "\t/images/ksclogosmall_4.gif           3635    1\n",
            "\t/images/ksclogosmall_5.gif           3635    1\n",
            "\t/images/ksclogosmall_6.gif           3635    1\n",
            "\t/images/ksclogosmall_7.gif           3635    1\n",
            "\n",
            "\n"
          ],
          "name": "stdout"
        }
      ]
    },
    {
      "metadata": {
        "id": "NgRyZNwbNoIv",
        "colab_type": "text"
      },
      "cell_type": "markdown",
      "source": [
        "### About this solution\n",
        "\n",
        "I chose to use Python's built-in data types, *Counter* and *defaultdict* as ancillary data structures to keep track of the number of successful requests and the cumulative bytes transferred per object, respectively. \n",
        "\n",
        "### Analysis of solution\n",
        "Both *Counter* and *defaultdict* are considered high-performance container datatypes.  Their individual time and space complexities can be approximated to those of *dicts*.  Other than that, I use a loop to read each file, so the time complexity is bound by the number of lines in the file, $ O(n) $."
      ]
    },
    {
      "metadata": {
        "id": "1tWbTEQAOgpo",
        "colab_type": "code",
        "colab": {}
      },
      "cell_type": "code",
      "source": [
        ""
      ],
      "execution_count": 0,
      "outputs": []
    }
  ]
}