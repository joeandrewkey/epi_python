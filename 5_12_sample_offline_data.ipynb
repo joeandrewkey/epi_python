{
 "cells": [
  {
   "cell_type": "markdown",
   "metadata": {},
   "source": [
    "### 5.12 Sample offline data\n",
    "\n",
    "Implement an algorithm that takes as input an array of distinct elements and a size, and returns a subset of the given size of the array elements.  All subsets should be equally.  Return the result in input array itself.\n",
    "\n",
    "***Hint***: How would you construct a random subset of size k + 1 given a random subset of size k?\n",
    "\n"
   ]
  },
  {
   "cell_type": "code",
   "execution_count": 1,
   "metadata": {},
   "outputs": [
    {
     "name": "stdout",
     "output_type": "stream",
     "text": [
      "[3, 6, 0, 2, 1]\n",
      "[9, 8, 1, 4, 6]\n",
      "[8, 5, 6, 0, 2]\n",
      "[7, 2, 5, 3, 1]\n",
      "[8, 7, 6, 1, 0]\n",
      "[7, 2, 5, 4, 9]\n",
      "[4, 6, 1, 0, 7]\n",
      "[6, 8, 0, 5, 4]\n",
      "[1, 4, 6, 2, 3]\n",
      "[0, 5, 9, 7, 6]\n"
     ]
    }
   ],
   "source": [
    "import random\n",
    "\n",
    "def solution_1(arr, k):\n",
    "    i, j = 0, len(arr)\n",
    "    for a in range(k):\n",
    "        x = random.randint(i + 1, j - 1)\n",
    "        arr[i], arr[x] = arr[x], arr[i]\n",
    "        i += 1\n",
    "    return arr[:k]\n",
    "    \n",
    "arr=[1,2,3,4,5,6,7,8,9,0]\n",
    "_ = [print(solution_1(arr, 5)) for _ in range(10)]\n",
    "\n",
    "        "
   ]
  },
  {
   "cell_type": "markdown",
   "metadata": {},
   "source": [
    "### Remarks:\n",
    "\n",
    "This is a simple solution that requires $ \\mathcal{0}(1) $ additional storage and $ \\mathcal{0}(k) $ time."
   ]
  }
 ],
 "metadata": {
  "kernelspec": {
   "display_name": "Python 3",
   "language": "python",
   "name": "python3"
  },
  "language_info": {
   "codemirror_mode": {
    "name": "ipython",
    "version": 3
   },
   "file_extension": ".py",
   "mimetype": "text/x-python",
   "name": "python",
   "nbconvert_exporter": "python",
   "pygments_lexer": "ipython3",
   "version": "3.6.1"
  },
  "varInspector": {
   "cols": {
    "lenName": 16,
    "lenType": 16,
    "lenVar": 40
   },
   "kernels_config": {
    "python": {
     "delete_cmd_postfix": "",
     "delete_cmd_prefix": "del ",
     "library": "var_list.py",
     "varRefreshCmd": "print(var_dic_list())"
    },
    "r": {
     "delete_cmd_postfix": ") ",
     "delete_cmd_prefix": "rm(",
     "library": "var_list.r",
     "varRefreshCmd": "cat(var_dic_list()) "
    }
   },
   "types_to_exclude": [
    "module",
    "function",
    "builtin_function_or_method",
    "instance",
    "_Feature"
   ],
   "window_display": false
  }
 },
 "nbformat": 4,
 "nbformat_minor": 2
}
