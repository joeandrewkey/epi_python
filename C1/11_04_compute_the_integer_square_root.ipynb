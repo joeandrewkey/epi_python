{
 "cells": [
  {
   "cell_type": "markdown",
   "metadata": {},
   "source": [
    "### 11.04 compute the integer square root\n",
    "\n",
    "Write a program which takes a nonnegative integer and returns the largest integer whose square is less than or equal to the given integer.  For example, if the input is 16, return 4; if the input is 300, return 17, since $17^2  = 289 < 300 $ and $ 18^2 = 324 > 300 $.\n",
    "\n",
    "**Hint**: Look out for a corner case.\n",
    "\n",
    "### Remarks:\n",
    "\n",
    "This seems like a binary search problem for all integers between 1 and the nonnegative integer."
   ]
  },
  {
   "cell_type": "code",
   "execution_count": 43,
   "metadata": {},
   "outputs": [
    {
     "name": "stdout",
     "output_type": "stream",
     "text": [
      "         x solution(x) int(sqrt(x))\n",
      "         1          1          1\n",
      "         2          1          1\n",
      "         3          1          1\n",
      "         4          2          2\n",
      "         5          2          2\n",
      "         6          2          2\n",
      "         7          2          2\n",
      "         8          2          2\n",
      "         9          3          3\n",
      "        10          3          3\n",
      "        11          3          3\n",
      "        12          3          3\n",
      "        13          3          3\n",
      "        14          3          3\n",
      "        15          3          3\n",
      "        16          4          4\n",
      "        17          4          4\n"
     ]
    }
   ],
   "source": [
    "from math import sqrt\n",
    "def solution(target):\n",
    "    i, j, c = 1, target, None\n",
    "\n",
    "    while i <= j:\n",
    "        c = (i + j) // 2\n",
    "        test = c * c\n",
    "        if test < target:\n",
    "            i = c + 1\n",
    "        elif test > target:\n",
    "            j = c - 1\n",
    "        else:\n",
    "            break\n",
    "\n",
    "    # in case you go too far, you are only off by one\n",
    "    if c * c > target:\n",
    "        c -= 1\n",
    "     \n",
    "    return c\n",
    "\n",
    "line = \"{:>10} {:>10} {:>10}\"\n",
    "print(line.format(\"x\", \"solution(x)\", \"int(sqrt(x))\"))\n",
    "_ = [print(line.format(x, solution(x), int(sqrt(x)) )) for x in range(1,18)]"
   ]
  },
  {
   "cell_type": "markdown",
   "metadata": {},
   "source": [
    "### Remarks:\n",
    "\n",
    "After debugging, this took way longer than I wanted it to thanks, since I was off by one in several cases.  I solved this by doing one final check to decrement the answer just in case I was off by one.\n",
    "\n",
    "The time complexity is $O(log n)$ .  The space complexity is $O(1)$.\n"
   ]
  },
  {
   "cell_type": "code",
   "execution_count": null,
   "metadata": {
    "collapsed": true
   },
   "outputs": [],
   "source": []
  }
 ],
 "metadata": {
  "kernelspec": {
   "display_name": "Python 3",
   "language": "python",
   "name": "python3"
  },
  "language_info": {
   "codemirror_mode": {
    "name": "ipython",
    "version": 3
   },
   "file_extension": ".py",
   "mimetype": "text/x-python",
   "name": "python",
   "nbconvert_exporter": "python",
   "pygments_lexer": "ipython3",
   "version": "3.6.1"
  },
  "varInspector": {
   "cols": {
    "lenName": 16,
    "lenType": 16,
    "lenVar": 40
   },
   "kernels_config": {
    "python": {
     "delete_cmd_postfix": "",
     "delete_cmd_prefix": "del ",
     "library": "var_list.py",
     "varRefreshCmd": "print(var_dic_list())"
    },
    "r": {
     "delete_cmd_postfix": ") ",
     "delete_cmd_prefix": "rm(",
     "library": "var_list.r",
     "varRefreshCmd": "cat(var_dic_list()) "
    }
   },
   "types_to_exclude": [
    "module",
    "function",
    "builtin_function_or_method",
    "instance",
    "_Feature"
   ],
   "window_display": false
  }
 },
 "nbformat": 4,
 "nbformat_minor": 2
}
