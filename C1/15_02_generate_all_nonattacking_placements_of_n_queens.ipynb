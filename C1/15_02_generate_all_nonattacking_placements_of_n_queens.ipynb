{
 "cells": [
  {
   "cell_type": "markdown",
   "metadata": {},
   "source": [
    "### 15.02 generate_all_nonattacking_placements_of_n_queens\n",
    "\n",
    "Write a program which returns all distinct nonattacking placements of queens on an n x n chessboard, where n is an input to the program.\n",
    "\n",
    "***Hint***: If the first queen is placed at (i, j), where can the remaining queens definitely not be placed?\n",
    "\n",
    "#### Remarks:\n",
    "I think this can be solved pretty easily using the hint."
   ]
  },
  {
   "cell_type": "code",
   "execution_count": 91,
   "metadata": {},
   "outputs": [
    {
     "name": "stdout",
     "output_type": "stream",
     "text": [
      "□ ■ □ □ \n",
      "□ □ □ ■ \n",
      "■ □ □ □ \n",
      "□ □ ■ □ \n",
      "\n",
      "□ □ ■ □ \n",
      "■ □ □ □ \n",
      "□ □ □ ■ \n",
      "□ ■ □ □ \n",
      "\n"
     ]
    }
   ],
   "source": [
    "def n_queens(n):\n",
    "    def solve_n_queens(row):\n",
    "        if row == n:\n",
    "            # All queens are legally placed.\n",
    "            result.append(list(col_placement))\n",
    "            return\n",
    "        for col in range(n):\n",
    "            # Test if a newly placed queen will conflict any earlier queens\n",
    "            # placed before.\n",
    "            x = enumerate(col_placement[:row])\n",
    "#            print(\"x: {}\".format(x))\n",
    "#            for i, c in x:\n",
    "#                print(\"i: {}, c: {}\".format(i,c))\n",
    "            if all(abs(c - col) not in (0, row - i)\n",
    "                   for i, c in x):\n",
    "                col_placement[row] = col\n",
    "                solve_n_queens(row + 1)\n",
    "\n",
    "    result, col_placement = [], [0] * n\n",
    "    solve_n_queens(0)\n",
    "    return result\n",
    "\n",
    "def to_text_representation(col_placement):\n",
    "    sol = []\n",
    "    for row in col_placement:\n",
    "        line = ['\\u25a1 '] * len(col_placement)\n",
    "        line[row] = '\\u25a0 '\n",
    "        sol.append(''.join(line))\n",
    "    return sol\n",
    "\n",
    "result = n_queens(4)\n",
    "for vec in result:\n",
    "    text_rep = to_text_representation(vec)\n",
    "    print(*text_rep, sep='\\n')\n",
    "    print()\n",
    "\n",
    "\n",
    "            \n",
    "    \n"
   ]
  },
  {
   "cell_type": "markdown",
   "metadata": {
    "collapsed": true
   },
   "source": [
    "### Remarks:  This is *definitely* worth a second look.  It's tough for me to really *grok* this at the moment."
   ]
  },
  {
   "cell_type": "code",
   "execution_count": null,
   "metadata": {
    "collapsed": true
   },
   "outputs": [],
   "source": []
  }
 ],
 "metadata": {
  "kernelspec": {
   "display_name": "Python 3",
   "language": "python",
   "name": "python3"
  },
  "language_info": {
   "codemirror_mode": {
    "name": "ipython",
    "version": 3
   },
   "file_extension": ".py",
   "mimetype": "text/x-python",
   "name": "python",
   "nbconvert_exporter": "python",
   "pygments_lexer": "ipython3",
   "version": "3.6.1"
  },
  "varInspector": {
   "cols": {
    "lenName": 16,
    "lenType": 16,
    "lenVar": 40
   },
   "kernels_config": {
    "python": {
     "delete_cmd_postfix": "",
     "delete_cmd_prefix": "del ",
     "library": "var_list.py",
     "varRefreshCmd": "print(var_dic_list())"
    },
    "r": {
     "delete_cmd_postfix": ") ",
     "delete_cmd_prefix": "rm(",
     "library": "var_list.r",
     "varRefreshCmd": "cat(var_dic_list()) "
    }
   },
   "types_to_exclude": [
    "module",
    "function",
    "builtin_function_or_method",
    "instance",
    "_Feature"
   ],
   "window_display": false
  }
 },
 "nbformat": 4,
 "nbformat_minor": 2
}
