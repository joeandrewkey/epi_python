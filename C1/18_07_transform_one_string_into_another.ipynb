{
 "cells": [
  {
   "cell_type": "markdown",
   "metadata": {},
   "source": [
    "### 18_07 Transform one string into another\n",
    "\n",
    "Given a dictionary D and two strings s and t, write a program to determine if s produces t.  Assume that all characters are lower-case alphabets.  If s does produce t, output the length of a shortest production sequence, otherwise, output -1.\n",
    "\n",
    "### Remarks:\n",
    "It seems like a graph traversal problem.  The nodes are words, the edges are transitions from one word to the next.  A breadth first traversal would find the shortest path.  Let's explore the book solution first.\n"
   ]
  },
  {
   "cell_type": "code",
   "execution_count": 1,
   "metadata": {},
   "outputs": [
    {
     "name": "stdout",
     "output_type": "stream",
     "text": [
      "1\n"
     ]
    }
   ],
   "source": [
    "import string\n",
    "import collections\n",
    "\n",
    "#Uses BFS to find the least steps of transformation\n",
    "\n",
    "\n",
    "def transform_string(D, s, t):\n",
    "    StringWithDistance = collections.namedtuple(\n",
    "        'StringWithDistance', ('candidate_string', 'distance'))\n",
    "    q = collections.deque([StringWithDistance(s, 0)])\n",
    "    del D[s]  # Marks s as visited by erasing it in D.\n",
    "\n",
    "    while q:\n",
    "        f = q.popleft()\n",
    "        # Returns if we find a match:\n",
    "        if f.candidate_string == t:\n",
    "            return f.distance  # Number of steps reaches t.\n",
    "\n",
    "        # Tries all possible transformations of f.candidate_string\n",
    "        for i in range(len(f.candidate_string)):\n",
    "            for c in string.ascii_lowercase: #iterates through 'a' - 'z'\n",
    "                cand = f.candidate_string[:i] + c + f.candidate_string[i + 1:]\n",
    "                if cand in D:\n",
    "                    del D[cand]\n",
    "                    q.append(StringWithDistance(cand, f.distance + 1))\n",
    "    return -1\n",
    "\n",
    "\n",
    "\n",
    "\n",
    "D = {\n",
    "    \"cat\": 1, \"car\": 2\n",
    "}\n",
    "print(transform_string(D, \"cat\", \"car\"))"
   ]
  },
  {
   "cell_type": "code",
   "execution_count": null,
   "metadata": {
    "collapsed": true
   },
   "outputs": [],
   "source": []
  }
 ],
 "metadata": {
  "kernelspec": {
   "display_name": "Python 3",
   "language": "python",
   "name": "python3"
  },
  "language_info": {
   "codemirror_mode": {
    "name": "ipython",
    "version": 3
   },
   "file_extension": ".py",
   "mimetype": "text/x-python",
   "name": "python",
   "nbconvert_exporter": "python",
   "pygments_lexer": "ipython3",
   "version": "3.6.1"
  },
  "varInspector": {
   "cols": {
    "lenName": 16,
    "lenType": 16,
    "lenVar": 40
   },
   "kernels_config": {
    "python": {
     "delete_cmd_postfix": "",
     "delete_cmd_prefix": "del ",
     "library": "var_list.py",
     "varRefreshCmd": "print(var_dic_list())"
    },
    "r": {
     "delete_cmd_postfix": ") ",
     "delete_cmd_prefix": "rm(",
     "library": "var_list.r",
     "varRefreshCmd": "cat(var_dic_list()) "
    }
   },
   "types_to_exclude": [
    "module",
    "function",
    "builtin_function_or_method",
    "instance",
    "_Feature"
   ],
   "window_display": false
  }
 },
 "nbformat": 4,
 "nbformat_minor": 2
}
