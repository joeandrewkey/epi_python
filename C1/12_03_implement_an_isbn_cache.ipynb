{
 "cells": [
  {
   "cell_type": "markdown",
   "metadata": {},
   "source": [
    "### 12.03 Implement and ISBN cache\n",
    "\n",
    "The International Standard Book Number (ISBN) is a unique commercial book identifier.  It is a string of length 10.  The first 9 characters are digits; the last character is a check character.  The check character is the sum of the first 9 digits, mod 11, with 10 represented by 'X'.  \n",
    "\n",
    "Create a cache for looking up prices of books identified by their ISBN.  You implement lookup, insert, and remove methods.  Use the Least Recently Used (LRU) policy for cache eviction.  If an ISBN is already present, insert should not change the price, but it should update that entry to be the most recently used entry.\n",
    "\n",
    "***Hint***: Amortize the cost of deletion.  Alternatively, use an auxiliary data structure."
   ]
  }
 ],
 "metadata": {
  "kernelspec": {
   "display_name": "Python 3",
   "language": "python",
   "name": "python3"
  },
  "language_info": {
   "codemirror_mode": {
    "name": "ipython",
    "version": 3
   },
   "file_extension": ".py",
   "mimetype": "text/x-python",
   "name": "python",
   "nbconvert_exporter": "python",
   "pygments_lexer": "ipython3",
   "version": "3.6.1"
  },
  "varInspector": {
   "cols": {
    "lenName": 16,
    "lenType": 16,
    "lenVar": 40
   },
   "kernels_config": {
    "python": {
     "delete_cmd_postfix": "",
     "delete_cmd_prefix": "del ",
     "library": "var_list.py",
     "varRefreshCmd": "print(var_dic_list())"
    },
    "r": {
     "delete_cmd_postfix": ") ",
     "delete_cmd_prefix": "rm(",
     "library": "var_list.r",
     "varRefreshCmd": "cat(var_dic_list()) "
    }
   },
   "types_to_exclude": [
    "module",
    "function",
    "builtin_function_or_method",
    "instance",
    "_Feature"
   ],
   "window_display": false
  }
 },
 "nbformat": 4,
 "nbformat_minor": 2
}
