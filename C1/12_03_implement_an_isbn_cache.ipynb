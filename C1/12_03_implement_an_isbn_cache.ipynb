{
 "cells": [
  {
   "cell_type": "markdown",
   "metadata": {},
   "source": [
    "### 12.03 Implement and ISBN cache\n",
    "\n",
    "The International Standard Book Number (ISBN) is a unique commercial book identifier.  It is a string of length 10.  The first 9 characters are digits; the last character is a check character.  The check character is the sum of the first 9 digits, mod 11, with 10 represented by 'X'.  \n",
    "\n",
    "Create a cache for looking up prices of books identified by their ISBN.  You implement lookup, insert, and remove methods.  Use the Least Recently Used (LRU) policy for cache eviction.  If an ISBN is already present, insert should not change the price, but it should update that entry to be the most recently used entry.\n",
    "\n",
    "***Hint***: Amortize the cost of deletion.  Alternatively, use an auxiliary data structure.\n",
    "\n",
    "### Remarks:\n",
    "\n",
    "If we keep a counter of unique timestamps, then perhaps we can maintain an auxiliary data structure of sorted timestamps corresponding to isbns in our cache.  Our cache will be implemented as two dicts."
   ]
  },
  {
   "cell_type": "code",
   "execution_count": 1,
   "metadata": {},
   "outputs": [
    {
     "name": "stdout",
     "output_type": "stream",
     "text": [
      "isbn A: not found\n",
      "isbn A: found\n",
      "Updating timestamp\n",
      "Updating timestamp\n",
      "Deleting\n",
      "C removed from cache\n",
      "t: 7, i2t: {'A': 4, 'D': 5, 'F': 6}, t2i: {4: 'A', 5: 'D', 6: 'F'}, timestamps: [4, 5, 6]\n"
     ]
    }
   ],
   "source": [
    "import bisect\n",
    "\n",
    "class Cache:\n",
    "\n",
    "    \n",
    "    def __init__(self, size=5):\n",
    "        self.size = size # size of cache\n",
    "        self.t = 0  #timestamp\n",
    "        self.i2t = {} #isbn to timestampe\n",
    "        self.t2i = {} #timestamp to isbn\n",
    "        self.timestamps = [] # sorted timestamps\n",
    "    \n",
    "    def __repr__(self):\n",
    "        return \"t: {}, i2t: {}, t2i: {}, timestamps: {}\".format(\n",
    "            self.t, self.i2t, self.t2i, self.timestamps)\n",
    "        \n",
    "    def lookup(self, isbn):\n",
    "        print(\"isbn {}: {}found\".format(isbn, \"\" if isbn in self.i2t else \"not \" ))\n",
    "        return isbn in self.i2t\n",
    "       \n",
    "    def insert(self, isbn):\n",
    "        if isbn in self.i2t:\n",
    "            print(\"Updating timestamp\")\n",
    "            old_t = self.i2t[isbn]\n",
    "            a = bisect.bisect_left(self.timestamps, old_t)\n",
    "\n",
    "            self.timestamps = self.timestamps[:a] + self.timestamps[a + 1:]\n",
    "            del self.t2i[old_t]\n",
    "        self.i2t[isbn] = self.t\n",
    "        self.t2i[self.t] = isbn \n",
    "        a = bisect.bisect_left(self.timestamps, self.t)\n",
    "        self.timestamps = self.timestamps[:a] + [self.t] + self.timestamps[a:]\n",
    "        self.t += 1\n",
    "        if len(self.i2t) > self.size:\n",
    "            old_t = self.timestamps.pop(0)\n",
    "            old_i = self.t2i[old_t]\n",
    "            print(\"{} removed from cache\".format(old_i))\n",
    "            del self.t2i[old_t]\n",
    "            del self.i2t[old_i]\n",
    "    \n",
    "    def remove(self, isbn):\n",
    "        print(\"Deleting\")\n",
    "        old_t = self.i2t[isbn]\n",
    "        a = bisect.bisect_left(self.timestamps, old_t)\n",
    "        self.timestamps = self.timestamps[:a] + self.timestamps[a + 1:]\n",
    "        del self.t2i[old_t]\n",
    "        del self.i2t[isbn]\n",
    "\n",
    "cache = Cache(size=3)\n",
    "cache.lookup(\"A\")\n",
    "cache.insert(\"A\")\n",
    "cache.lookup(\"A\")\n",
    "cache.insert(\"C\")\n",
    "cache.insert(\"C\")\n",
    "cache.insert(\"B\")\n",
    "cache.insert(\"A\")\n",
    "cache.remove(\"B\")\n",
    "cache.insert(\"D\")\n",
    "cache.insert(\"F\")\n",
    "print(cache)"
   ]
  }
 ],
 "metadata": {
  "kernelspec": {
   "display_name": "Python 3",
   "language": "python",
   "name": "python3"
  },
  "language_info": {
   "codemirror_mode": {
    "name": "ipython",
    "version": 3
   },
   "file_extension": ".py",
   "mimetype": "text/x-python",
   "name": "python",
   "nbconvert_exporter": "python",
   "pygments_lexer": "ipython3",
   "version": "3.6.1"
  },
  "varInspector": {
   "cols": {
    "lenName": 16,
    "lenType": 16,
    "lenVar": 40
   },
   "kernels_config": {
    "python": {
     "delete_cmd_postfix": "",
     "delete_cmd_prefix": "del ",
     "library": "var_list.py",
     "varRefreshCmd": "print(var_dic_list())"
    },
    "r": {
     "delete_cmd_postfix": ") ",
     "delete_cmd_prefix": "rm(",
     "library": "var_list.r",
     "varRefreshCmd": "cat(var_dic_list()) "
    }
   },
   "types_to_exclude": [
    "module",
    "function",
    "builtin_function_or_method",
    "instance",
    "_Feature"
   ],
   "window_display": false
  }
 },
 "nbformat": 4,
 "nbformat_minor": 2
}
