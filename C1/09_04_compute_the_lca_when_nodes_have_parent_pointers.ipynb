{
 "cells": [
  {
   "cell_type": "markdown",
   "metadata": {},
   "source": [
    "### 09.04 compute the lca (lowest common ancestor) when nodes have parent pointers\n",
    "\n",
    "### Remarks:\n",
    "Every node should have exactly one parent.  If you traverse from an input node to the root, you can create a list of ancestors in ascending depth order.  Create the first input's list by traversing to the root.  During the second input's list, do a similar traversal but you need not use a list, only check to see if the node you are traversing appears in the first input's list.  Once done, return the result."
   ]
  },
  {
   "cell_type": "code",
   "execution_count": 1,
   "metadata": {},
   "outputs": [
    {
     "name": "stdout",
     "output_type": "stream",
     "text": [
      "\n",
      "m and n LCA: ('0x7f776c2db898', 1)\n",
      "\n",
      "g and f LCA: ('0x7f776c2db438', 561)\n",
      "\n",
      "c and j LCA: ('0x7f776c2db390', 314)\n"
     ]
    }
   ],
   "source": [
    "# Construct the binary tree in figure 9.1 of the book\n",
    "from helper import BinaryTreeNodeParentPointer as Node\n",
    "\n",
    "# Create the nodes\n",
    "a = Node(314)\n",
    "b = Node(6)\n",
    "c = Node(271)\n",
    "d = Node(28)\n",
    "e = Node(0)\n",
    "f = Node(561)\n",
    "g = Node(3)\n",
    "h = Node(17)\n",
    "i = Node(6)\n",
    "j = Node(2)\n",
    "k = Node(1)\n",
    "l = Node(401)\n",
    "m = Node(641)\n",
    "n = Node(257)\n",
    "o = Node(271)\n",
    "p = Node(28)\n",
    "\n",
    "# Create the edges\n",
    "a.left, a.right, b.parent, i.parent = b, i, a, a\n",
    "b.left, b.right, c.parent, f.parent = c, f, b, b\n",
    "c.left, c.right, d.parent, e.parent = d, e, c, c\n",
    "f.right, g.parent = g, f\n",
    "g.left, h.parent = h, g\n",
    "i.left, i.right, j.parent, o.parent = j, o, i, i\n",
    "j.right, k.parent = k, j\n",
    "o.right, p.parent = p, o\n",
    "k.left, k.right, l.parent, n.parent = l, n, k, k\n",
    "l.right, m.parent = m, l\n",
    "\n",
    "# My solution\n",
    "def solution(node_a, node_b):\n",
    "    root, ancestors_a = node_a, []\n",
    "    # create a list of ancestors\n",
    "    while root:\n",
    "        x = hex(id(root))\n",
    "        ancestors_a.append(x)\n",
    "        root = root.parent\n",
    "   \n",
    "    # traverse the path from node b to root\n",
    "    root = node_b\n",
    "    while root: \n",
    "        y = hex(id(root))\n",
    "        if y in ancestors_a:  #stop when you encounter a common ancestor\n",
    "            return (y, root.data)\n",
    "        root = root.parent\n",
    "    \n",
    "    return None\n",
    "\n",
    "# Tests\n",
    "print(\"\\nm and n LCA: {}\".format(solution(m, n)))\n",
    "print(\"\\ng and f LCA: {}\".format(solution(g, f)))\n",
    "print(\"\\nc and j LCA: {}\".format(solution(c, j)))\n"
   ]
  },
  {
   "cell_type": "markdown",
   "metadata": {},
   "source": [
    "### Remarks:\n",
    "The tests show the expected results."
   ]
  }
 ],
 "metadata": {
  "kernelspec": {
   "display_name": "Python 3",
   "language": "python",
   "name": "python3"
  },
  "language_info": {
   "codemirror_mode": {
    "name": "ipython",
    "version": 3
   },
   "file_extension": ".py",
   "mimetype": "text/x-python",
   "name": "python",
   "nbconvert_exporter": "python",
   "pygments_lexer": "ipython3",
   "version": "3.6.1"
  },
  "varInspector": {
   "cols": {
    "lenName": 16,
    "lenType": 16,
    "lenVar": 40
   },
   "kernels_config": {
    "python": {
     "delete_cmd_postfix": "",
     "delete_cmd_prefix": "del ",
     "library": "var_list.py",
     "varRefreshCmd": "print(var_dic_list())"
    },
    "r": {
     "delete_cmd_postfix": ") ",
     "delete_cmd_prefix": "rm(",
     "library": "var_list.r",
     "varRefreshCmd": "cat(var_dic_list()) "
    }
   },
   "types_to_exclude": [
    "module",
    "function",
    "builtin_function_or_method",
    "instance",
    "_Feature"
   ],
   "window_display": false
  }
 },
 "nbformat": 4,
 "nbformat_minor": 2
}
