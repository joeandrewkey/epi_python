{
 "cells": [
  {
   "cell_type": "markdown",
   "metadata": {},
   "source": [
    "### 6.4 replace and remove\n",
    "Consider the following two rules that are to be applied to an array of characters.\n",
    "* Replace each 'a' by two 'd's.\n",
    "* Delete each entry containing a 'b'.\n",
    "\n",
    "Write a program which takes as input an array of characters, and removes each 'b' and replaces each 'a' by two 'd's.  Specifically along with the array, you are provided an integer-valued size.  Size denotes the number of entries in the array that the operation is to be applied to.  You do not have to worry about preserving subsequent entries.  For example, if the array is `[a, b, a, c, _]` then you can return `[d, d, d, d, c]`.  You can assume there is enough space in the array to hold the final result.\n",
    "\n",
    "**Hint**: Consider performing multiple passes on s.\n"
   ]
  },
  {
   "cell_type": "code",
   "execution_count": 1,
   "metadata": {},
   "outputs": [
    {
     "name": "stdout",
     "output_type": "stream",
     "text": [
      "[]\n",
      "['d', 'd']\n",
      "['d', 'd']\n",
      "['d', 'd', 'd', 'd']\n",
      "['d', 'd', 'd', 'd', 'c']\n",
      "['d', 'd', 'd', 'd', 'c', '_']\n",
      "['d', 'd', 'd', 'd', 'c', '_']\n"
     ]
    }
   ],
   "source": [
    "def solution(s, size):\n",
    "    result = []\n",
    "    count = 0\n",
    "    for char in s:\n",
    "        if count >= size:\n",
    "            break\n",
    "        elif char == \"a\":\n",
    "            result.extend([\"d\", \"d\"])\n",
    "            count += 1\n",
    "        elif char == \"b\":\n",
    "            count += 1\n",
    "            continue\n",
    "        else:\n",
    "            result.append(char)\n",
    "            count += 1\n",
    "    return result\n",
    "\n",
    "print(solution([\"a\", \"b\", \"a\", \"c\", \"_\"], 0))\n",
    "print(solution([\"a\", \"b\", \"a\", \"c\", \"_\"], 1))\n",
    "print(solution([\"a\", \"b\", \"a\", \"c\", \"_\"], 2))\n",
    "print(solution([\"a\", \"b\", \"a\", \"c\", \"_\"], 3))\n",
    "print(solution([\"a\", \"b\", \"a\", \"c\", \"_\"], 4))\n",
    "print(solution([\"a\", \"b\", \"a\", \"c\", \"_\"], 5))\n",
    "print(solution([\"a\", \"b\", \"a\", \"c\", \"_\"], 6))"
   ]
  },
  {
   "cell_type": "markdown",
   "metadata": {},
   "source": [
    "### Remarks: \n",
    "8 minutes to write the code 3 minutes to write the test.\n",
    "\n",
    "$ \\text{Time complexity: }\\mathcal{O}(n)$\n",
    "\n",
    "$ \\text{Additional space complexity: }\\mathcal{O}(2 n)$"
   ]
  },
  {
   "cell_type": "code",
   "execution_count": null,
   "metadata": {
    "collapsed": true
   },
   "outputs": [],
   "source": []
  }
 ],
 "metadata": {
  "kernelspec": {
   "display_name": "Python 3",
   "language": "python",
   "name": "python3"
  },
  "language_info": {
   "codemirror_mode": {
    "name": "ipython",
    "version": 3
   },
   "file_extension": ".py",
   "mimetype": "text/x-python",
   "name": "python",
   "nbconvert_exporter": "python",
   "pygments_lexer": "ipython3",
   "version": "3.6.1"
  },
  "varInspector": {
   "cols": {
    "lenName": 16,
    "lenType": 16,
    "lenVar": 40
   },
   "kernels_config": {
    "python": {
     "delete_cmd_postfix": "",
     "delete_cmd_prefix": "del ",
     "library": "var_list.py",
     "varRefreshCmd": "print(var_dic_list())"
    },
    "r": {
     "delete_cmd_postfix": ") ",
     "delete_cmd_prefix": "rm(",
     "library": "var_list.r",
     "varRefreshCmd": "cat(var_dic_list()) "
    }
   },
   "types_to_exclude": [
    "module",
    "function",
    "builtin_function_or_method",
    "instance",
    "_Feature"
   ],
   "window_display": false
  }
 },
 "nbformat": 4,
 "nbformat_minor": 2
}
