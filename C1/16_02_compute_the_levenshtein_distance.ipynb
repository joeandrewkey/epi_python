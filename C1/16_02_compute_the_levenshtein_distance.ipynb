{
 "cells": [
  {
   "cell_type": "markdown",
   "metadata": {},
   "source": [
    "### 16_02 Compute the Levenshtein distance\n",
    "\n",
    "Write a program that takes two strings and computes the minimum number of edits needed to transform the first string into the seconds string.\n",
    "\n",
    "***Hint:*** Consider the same problem for prefixes of the two strings.\n",
    "\n",
    "### Remarks:\n",
    "Let's take \"cat\" and \"hat\".  They are the same on the last letter \"t\", we would probably skip that and also the common \"a\".  However, if the two strings are different then we'd need to insert or delete some letters to make them match.  For \"cat and hat\", the best choice would be to calculate 1 + the E(at, at).  Hmm...  Let's look at the book solution first."
   ]
  },
  {
   "cell_type": "code",
   "execution_count": 1,
   "metadata": {},
   "outputs": [
    {
     "name": "stdout",
     "output_type": "stream",
     "text": [
      "0\n",
      "1\n"
     ]
    }
   ],
   "source": [
    "def levenshtein_distance(A, B):\n",
    "    def compute_distance_between_prefixes(A_idx, B_idx):\n",
    "        if A_idx < 0:\n",
    "            # A is empty so add all of B's characters.\n",
    "            return B_idx + 1\n",
    "        elif B_idx < 0:\n",
    "            return A_idx + 1\n",
    "        if distance_between_prefixes[A_idx][B_idx] == -1:\n",
    "            if A[A_idx] == B[B_idx]:\n",
    "                distance_between_prefixes[A_idx][B_idx] = (\n",
    "                    compute_distance_between_prefixes(A_idx - 1, B_idx - 1))\n",
    "            else:\n",
    "                substitute_last = compute_distance_between_prefixes(\n",
    "                    A_idx - 1, B_idx - 1)\n",
    "                add_last = compute_distance_between_prefixes(A_idx - 1, B_idx)\n",
    "                delete_last = compute_distance_between_prefixes(A_idx, B_idx - 1)\n",
    "\n",
    "                distance_between_prefixes[A_idx][B_idx] = (\n",
    "                    1 + min(substitute_last, add_last, delete_last))\n",
    "        return distance_between_prefixes[A_idx][B_idx]\n",
    "\n",
    "    distance_between_prefixes= [[-1] * len(B) for _ in A]\n",
    "\n",
    "    return compute_distance_between_prefixes(len(A) - 1, len(B) - 1)\n",
    "\n",
    "print(levenshtein_distance(\"car\", \"car\"))\n",
    "print(levenshtein_distance(\"car\", \"card\"))"
   ]
  },
  {
   "cell_type": "markdown",
   "metadata": {},
   "source": [
    "### Remarks: \n",
    "\n",
    "I ran this through a debugger, it's definitely worth reviewing."
   ]
  }
 ],
 "metadata": {
  "kernelspec": {
   "display_name": "Python 3",
   "language": "python",
   "name": "python3"
  },
  "language_info": {
   "codemirror_mode": {
    "name": "ipython",
    "version": 3
   },
   "file_extension": ".py",
   "mimetype": "text/x-python",
   "name": "python",
   "nbconvert_exporter": "python",
   "pygments_lexer": "ipython3",
   "version": "3.6.1"
  },
  "varInspector": {
   "cols": {
    "lenName": 16,
    "lenType": 16,
    "lenVar": 40
   },
   "kernels_config": {
    "python": {
     "delete_cmd_postfix": "",
     "delete_cmd_prefix": "del ",
     "library": "var_list.py",
     "varRefreshCmd": "print(var_dic_list())"
    },
    "r": {
     "delete_cmd_postfix": ") ",
     "delete_cmd_prefix": "rm(",
     "library": "var_list.r",
     "varRefreshCmd": "cat(var_dic_list()) "
    }
   },
   "types_to_exclude": [
    "module",
    "function",
    "builtin_function_or_method",
    "instance",
    "_Feature"
   ],
   "window_display": false
  }
 },
 "nbformat": 4,
 "nbformat_minor": 2
}
