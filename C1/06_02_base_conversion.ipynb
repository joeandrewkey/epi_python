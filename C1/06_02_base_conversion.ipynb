{
 "cells": [
  {
   "cell_type": "markdown",
   "metadata": {},
   "source": [
    "### 6.2  base conversion\n",
    "\n",
    "Write a program to perform base conversion.  The input is a string, an integer b1, and another integer b2.  The string represents and integer in base b1.  The output should be a string representing the integer in base b2.  Assume 2 <= b1,b2 <= 16.  Use \"A\" to represent 10, \"B\" for 11, ..., and \"F\" for 15.\n",
    "\n",
    "***Hint***:  What base can you easily convert to and from?"
   ]
  },
  {
   "cell_type": "code",
   "execution_count": 1,
   "metadata": {},
   "outputs": [
    {
     "name": "stdout",
     "output_type": "stream",
     "text": [
      "input:                      777\n",
      "\tbase_1:              16\n",
      "\tbase_2:               2\n",
      "\toutput:     11101110111\n",
      "\n",
      "input:                     -555\n",
      "\tbase_1:              16\n",
      "\tbase_2:               2\n",
      "\toutput:    -10101010101\n",
      "\n",
      "input:                     1024\n",
      "\tbase_1:              10\n",
      "\tbase_2:               2\n",
      "\toutput:     10000000000\n",
      "\n",
      "input:                     -256\n",
      "\tbase_1:              10\n",
      "\tbase_2:              16\n",
      "\toutput:            -100\n",
      "\n",
      "input:                        0\n",
      "\tbase_1:              10\n",
      "\tbase_2:              10\n",
      "\toutput:               0\n",
      "\n"
     ]
    },
    {
     "data": {
      "text/plain": [
       "'0'"
      ]
     },
     "execution_count": 1,
     "metadata": {},
     "output_type": "execute_result"
    }
   ],
   "source": [
    "def solution_1(in_string, b1, b2):\n",
    "\n",
    "    \n",
    "    chars = [\"0\", \"1\", \"2\", \"3\", \"4\", \"5\", \"6\", \"7\", \"8\", \"9\", \"A\", \"B\", \"C\", \"D\", \"E\", \"F\"]\n",
    "    c2i = dict(enumerate(chars))\n",
    "    i2c = {c2i[k]: k for k in c2i.keys()}    \n",
    "    \n",
    "    def b1_to_ten(in_string, base):\n",
    "        \"\"\"Convert a string of base into a base 10 (int)\"\"\"\n",
    "        # Special case, 0 is 0 in all bases\n",
    "        if in_string == \"0\":\n",
    "            return 0       \n",
    "\n",
    "        rev_string = in_string[::-1]\n",
    "\n",
    "        base_ten, exponent = 0, 0\n",
    "        for letter in rev_string:\n",
    "            value = i2c[letter]\n",
    "            base_ten += value * base ** exponent\n",
    "            exponent += 1\n",
    "\n",
    "        return base_ten\n",
    "    \n",
    "    def ten_to_b2(base_ten, base):\n",
    "        \"\"\"Convert a base 10 (int) to a string of base\"\"\"\n",
    "        if base_ten == 0:\n",
    "            return \"0\"\n",
    "        \n",
    "        result, exponent = [], 0\n",
    "\n",
    "        while base_ten > 0:\n",
    "            r = base_ten % base\n",
    "            base_ten = base_ten // base\n",
    "            result.append(r)\n",
    "\n",
    "        result = result[::-1]\n",
    "        result = \"\".join([c2i[i] for i in result])\n",
    "        return result\n",
    "\n",
    "    # Correctly handle negative numbers\n",
    "    prefix = \"\"\n",
    "    if in_string[0] == \"-\":\n",
    "        prefix, in_string = \"-\", in_string[1:]\n",
    "\n",
    "    out_string = prefix + ten_to_b2(b1_to_ten(in_string, b1), b2)\n",
    "    # display a pretty report\n",
    "    print(\"input: {:>24}\\n\\tbase_1: {:>15}\\n\\tbase_2: {:>15}\\n\\toutput: {:>15}\\n\".format(\n",
    "        prefix + in_string, b1, b2, out_string))\n",
    "\n",
    "    return out_string\n",
    "   \n",
    "# Test cases\n",
    "solution_1(\"777\", 16, 2)\n",
    "solution_1(\"-555\", 16, 2)\n",
    "solution_1(\"1024\", 10, 2)\n",
    "solution_1(\"-256\", 10, 16)\n",
    "solution_1(\"0\", 10, 10)"
   ]
  },
  {
   "cell_type": "markdown",
   "metadata": {},
   "source": [
    "### Remarks:\n",
    "\n",
    "My strategy was to convert everything from the input base to base 10, then from base 10 to the output base.\n",
    "\n",
    "### Analysis:\n",
    "#### $\\text{Time Complexity:             }\\mathcal{O}(\\log_{b_1}d_I + \\log_{b_2}d_O)$\n",
    "#### $\\text{Additional Space Complexity: }\\mathcal{O}(d_I + d_O)$\n",
    "\n",
    "where:\n",
    "$$ b_1: \\text{the input base} $$\n",
    "$$ d_I: \\text{the number of input digits} $$\n",
    "$$ b_2: \\text{the output base} $$\n",
    "$$ d_O: \\text{the number of output digits} $$\n",
    "\n"
   ]
  },
  {
   "cell_type": "code",
   "execution_count": null,
   "metadata": {
    "collapsed": true
   },
   "outputs": [],
   "source": []
  }
 ],
 "metadata": {
  "kernelspec": {
   "display_name": "Python 3",
   "language": "python",
   "name": "python3"
  },
  "language_info": {
   "codemirror_mode": {
    "name": "ipython",
    "version": 3
   },
   "file_extension": ".py",
   "mimetype": "text/x-python",
   "name": "python",
   "nbconvert_exporter": "python",
   "pygments_lexer": "ipython3",
   "version": "3.6.1"
  },
  "varInspector": {
   "cols": {
    "lenName": 16,
    "lenType": 16,
    "lenVar": 40
   },
   "kernels_config": {
    "python": {
     "delete_cmd_postfix": "",
     "delete_cmd_prefix": "del ",
     "library": "var_list.py",
     "varRefreshCmd": "print(var_dic_list())"
    },
    "r": {
     "delete_cmd_postfix": ") ",
     "delete_cmd_prefix": "rm(",
     "library": "var_list.r",
     "varRefreshCmd": "cat(var_dic_list()) "
    }
   },
   "types_to_exclude": [
    "module",
    "function",
    "builtin_function_or_method",
    "instance",
    "_Feature"
   ],
   "window_display": false
  }
 },
 "nbformat": 4,
 "nbformat_minor": 2
}
