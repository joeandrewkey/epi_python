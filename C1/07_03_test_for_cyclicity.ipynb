{
 "cells": [
  {
   "cell_type": "markdown",
   "metadata": {},
   "source": [
    "### Test for cyclicity\n",
    "\n",
    "Write a program that takes the head of a singly linked list and returns null if there does not exist a cycle.\n",
    "\n",
    "***Hint***: Consider using two iterators, one fast and one slow."
   ]
  },
  {
   "cell_type": "code",
   "execution_count": 1,
   "metadata": {},
   "outputs": [],
   "source": [
    "from helper import ListNode, get_list"
   ]
  },
  {
   "cell_type": "code",
   "execution_count": 2,
   "metadata": {},
   "outputs": [
    {
     "name": "stdout",
     "output_type": "stream",
     "text": [
      "0x7f6fe05f7278\n",
      "0x7f6fe05f72e8\n",
      "0x7f6fe05f7320\n",
      "0x7f6fe05f7278\n"
     ]
    }
   ],
   "source": [
    "# Make a singly linked list, x\n",
    "x = get_list([\"A\", \"B\", \"C\"])\n",
    "\n",
    "\n",
    "# make the tail of the list cycle into the head\n",
    "x.next.next.next = x\n",
    "\n",
    "# demonstrate the cycle A -> B -> C -> original A\n",
    "print(hex(id(x)))\n",
    "print(hex(id(x.next)))\n",
    "print(hex(id(x.next.next)))\n",
    "print(hex(id(x.next.next.next)))\n",
    "\n",
    "# Make a singly linked list with no cycles, y\n",
    "y = get_list([\"X\", \"Y\", \"Z\"])\n"
   ]
  },
  {
   "cell_type": "markdown",
   "metadata": {},
   "source": [
    "### Remarks:\n",
    "\n",
    "Iterating through the list might work, especially if I am allowed to use memory references.  I could keep a dict of memory addresses for my list node objects and abort if there is a cycle.  Here's how:\n"
   ]
  },
  {
   "cell_type": "code",
   "execution_count": 3,
   "metadata": {
    "collapsed": true
   },
   "outputs": [],
   "source": [
    "def is_cycle(head):\n",
    "    d = {}\n",
    "    i = head\n",
    "    while i:\n",
    "        k = hex(id(i))\n",
    "        if k not in d:\n",
    "            d[k] = 1\n",
    "        else:\n",
    "            # found a repeat memory address\n",
    "            return True\n",
    "        i = i.next\n",
    "    # entire list traversed, no repeated memory address\n",
    "    return False\n",
    "    "
   ]
  },
  {
   "cell_type": "code",
   "execution_count": 4,
   "metadata": {},
   "outputs": [
    {
     "data": {
      "text/plain": [
       "True"
      ]
     },
     "execution_count": 4,
     "metadata": {},
     "output_type": "execute_result"
    }
   ],
   "source": [
    "is_cycle(x)"
   ]
  },
  {
   "cell_type": "code",
   "execution_count": 5,
   "metadata": {},
   "outputs": [
    {
     "data": {
      "text/plain": [
       "False"
      ]
     },
     "execution_count": 5,
     "metadata": {},
     "output_type": "execute_result"
    }
   ],
   "source": [
    "is_cycle(y)"
   ]
  },
  {
   "cell_type": "markdown",
   "metadata": {},
   "source": [
    "### Remarks\n",
    "My solution in the worst case uses $O(n)$ additional space and $O(n)$ time.  You could potentially use a bloom filter to turn the additional space into $ O(1) $.  I looked ahead at the book solution, which uses two iterators and also arrives at $ O(n) $ additional time and $ O(1) $ additional space."
   ]
  },
  {
   "cell_type": "code",
   "execution_count": null,
   "metadata": {
    "collapsed": true
   },
   "outputs": [],
   "source": []
  }
 ],
 "metadata": {
  "kernelspec": {
   "display_name": "Python 3",
   "language": "python",
   "name": "python3"
  },
  "language_info": {
   "codemirror_mode": {
    "name": "ipython",
    "version": 3
   },
   "file_extension": ".py",
   "mimetype": "text/x-python",
   "name": "python",
   "nbconvert_exporter": "python",
   "pygments_lexer": "ipython3",
   "version": "3.6.1"
  },
  "varInspector": {
   "cols": {
    "lenName": 16,
    "lenType": 16,
    "lenVar": 40
   },
   "kernels_config": {
    "python": {
     "delete_cmd_postfix": "",
     "delete_cmd_prefix": "del ",
     "library": "var_list.py",
     "varRefreshCmd": "print(var_dic_list())"
    },
    "r": {
     "delete_cmd_postfix": ") ",
     "delete_cmd_prefix": "rm(",
     "library": "var_list.r",
     "varRefreshCmd": "cat(var_dic_list()) "
    }
   },
   "types_to_exclude": [
    "module",
    "function",
    "builtin_function_or_method",
    "instance",
    "_Feature"
   ],
   "window_display": false
  }
 },
 "nbformat": 4,
 "nbformat_minor": 2
}
