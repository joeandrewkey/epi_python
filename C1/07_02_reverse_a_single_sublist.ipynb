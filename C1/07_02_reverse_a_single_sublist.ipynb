{
 "cells": [
  {
   "cell_type": "markdown",
   "metadata": {},
   "source": [
    "### 7.2 reverse a single sublist\n",
    "\n"
   ]
  },
  {
   "cell_type": "code",
   "execution_count": 6,
   "metadata": {},
   "outputs": [
    {
     "name": "stdout",
     "output_type": "stream",
     "text": [
      "(head) A -> B -> C -> D -> E -> F -> G -> H (tail)\n",
      "\n",
      "\n",
      "temp: D, temp.next: E, s_i.next: D, s_h.next: C\n",
      "sublist_iter: ->\n",
      "(head) C -> D -> E -> F -> G -> H (tail)\n",
      "sublist_head: ->\n",
      "(head) B -> C -> D -> E -> F -> G -> H (tail)\n",
      "temp: D, temp.next: C, s_i.next: E, s_h.next: D\n",
      "sublist_iter: ->\n",
      "(head) C -> E -> F -> G -> H (tail)\n",
      "sublist_head: ->\n",
      "(head) B -> D -> C -> E -> F -> G -> H (tail)\n",
      "temp: E, temp.next: D, s_i.next: F, s_h.next: E\n",
      "sublist_iter: ->\n",
      "(head) C -> F -> G -> H (tail)\n",
      "sublist_head: ->\n",
      "(head) B -> E -> D -> C -> F -> G -> H (tail)\n",
      "temp: F, temp.next: E, s_i.next: G, s_h.next: F\n",
      "sublist_iter: ->\n",
      "(head) C -> G -> H (tail)\n",
      "sublist_head: ->\n",
      "(head) B -> F -> E -> D -> C -> G -> H (tail)\n",
      "temp: G, temp.next: F, s_i.next: H, s_h.next: G\n",
      "sublist_iter: ->\n",
      "(head) C -> H (tail)\n",
      "sublist_head: ->\n",
      "(head) B -> G -> F -> E -> D -> C -> H (tail)\n",
      "(head) A -> B -> G -> F -> E -> D -> C -> H (tail)\n"
     ]
    }
   ],
   "source": [
    "class ListNode:\n",
    "    \"\"\"This class is esentially a singly linked list, provided in the book\"\"\"\n",
    "    def __init__(self, data=0, next_node=None):\n",
    "        self.data = data\n",
    "        self.next = next_node\n",
    "    \n",
    "def print_list(L):\n",
    "    \"\"\"basic function to display the list\"\"\"\n",
    "    K = L\n",
    "    arr = []\n",
    "    while K:\n",
    "        arr.append(str(K.data))\n",
    "        K = K.next\n",
    "    print(\"(head) \" + \" -> \".join(arr) + \" (tail)\")\n",
    "    \n",
    "def get_list(my_array):\n",
    "    \"\"\"returns a singly linked list built from an array\"\"\"\n",
    "    head = None\n",
    "    tail = None\n",
    "    for item in my_array:\n",
    "        if not head:\n",
    "            head = ListNode(data=item)\n",
    "            tail = head\n",
    "        else:\n",
    "            tail.next = ListNode(data=item)\n",
    "            tail = tail.next\n",
    "    return head\n",
    "\n",
    "def solution(my_list, s, f):\n",
    "    head = my_list\n",
    "    i = 1\n",
    "    while head and i < s:\n",
    "        head = head.next\n",
    "        i += 1\n",
    "    tail, j = head, i\n",
    "    while tail and j < f:\n",
    "        print(tail.data)\n",
    "        tail = tail.next\n",
    "        j += 1\n",
    "    print(\"h\")\n",
    "    print_list(head)\n",
    "    print(\"t\")\n",
    "    print_list(tail)\n",
    "    \n",
    "def book_solution(L, start, finish):\n",
    "    def report(temp, sublist_iter, sublist_head):\n",
    "        print(\"temp: {}, temp.next: {}, s_i.next: {}, s_h.next: {}\".format(\n",
    "            temp.data, temp.next.data, sublist_iter.next.data, sublist_head.next.data))\n",
    "        print(\"sublist_iter: ->\")\n",
    "        print_list(sublist_iter)\n",
    "        print(\"sublist_head: ->\")\n",
    "        print_list(sublist_head)       \n",
    "        \n",
    "    dummy_head = sublist_head = ListNode(0, L)\n",
    "    for _ in range(1, start):\n",
    "        sublist_head = sublist_head.next\n",
    "\n",
    "    sublist_iter = sublist_head.next\n",
    "    temp = sublist_iter.next\n",
    "    report(temp, sublist_iter, sublist_head)\n",
    "    for _ in range(finish - start):\n",
    "        temp = sublist_iter.next # eat from iter\n",
    "        sublist_iter.next, temp.next, sublist_head.next = (temp.next, sublist_head.next, temp)\n",
    "        # iter-> temp-> #essentially cut out temp\n",
    "        # temp-> \n",
    "        report(temp, sublist_iter, sublist_head)\n",
    "    return dummy_head.next\n",
    "\n",
    "my_list = get_list([\"A\", \"B\", \"C\", \"D\", \"E\", \"F\", \"G\", \"H\"])\n",
    "print_list(my_list)\n",
    "print(\"\\n\")\n",
    "#solution(my_list, 2, 3)\n",
    "print_list((book_solution(my_list, 3, 7)))"
   ]
  },
  {
   "cell_type": "markdown",
   "metadata": {
    "collapsed": true
   },
   "source": [
    "### Remarks:\n",
    "Even after tracing this, it seems like magic to me.  It seems like sublist iter goes through successive rounds of getting smaller with the original list."
   ]
  }
 ],
 "metadata": {
  "kernelspec": {
   "display_name": "Python 3",
   "language": "python",
   "name": "python3"
  },
  "language_info": {
   "codemirror_mode": {
    "name": "ipython",
    "version": 3
   },
   "file_extension": ".py",
   "mimetype": "text/x-python",
   "name": "python",
   "nbconvert_exporter": "python",
   "pygments_lexer": "ipython3",
   "version": "3.6.1"
  },
  "varInspector": {
   "cols": {
    "lenName": 16,
    "lenType": 16,
    "lenVar": 40
   },
   "kernels_config": {
    "python": {
     "delete_cmd_postfix": "",
     "delete_cmd_prefix": "del ",
     "library": "var_list.py",
     "varRefreshCmd": "print(var_dic_list())"
    },
    "r": {
     "delete_cmd_postfix": ") ",
     "delete_cmd_prefix": "rm(",
     "library": "var_list.r",
     "varRefreshCmd": "cat(var_dic_list()) "
    }
   },
   "types_to_exclude": [
    "module",
    "function",
    "builtin_function_or_method",
    "instance",
    "_Feature"
   ],
   "window_display": false
  }
 },
 "nbformat": 4,
 "nbformat_minor": 2
}
