{
 "cells": [
  {
   "cell_type": "markdown",
   "metadata": {},
   "source": [
    "### 17.06 the gasup problem\n",
    "\n",
    "Given an instance of the gasup problem, how would you efficiently compute an ample city?  You can assume that there exists an ample city.\n",
    "\n",
    "***Hint***: Think about starting with more than enough gas to complete the circuit, gassing up at each city.\n"
   ]
  },
  {
   "cell_type": "code",
   "execution_count": 13,
   "metadata": {},
   "outputs": [
    {
     "name": "stdout",
     "output_type": "stream",
     "text": [
      "9\n",
      "180\n",
      "2\n"
     ]
    }
   ],
   "source": [
    "import collections\n",
    "MPG = 20\n",
    "\n",
    "\n",
    "# gallons[i] is the amount of gas in city i, and distances[i] is the\n",
    "# distance city i to the next city.\n",
    "def find_ample_city(gallons, distances):\n",
    "    remaining_gallons = 0\n",
    "    CityAndRemainingGas = collections.namedtuple('CityAndRemainingGas',\n",
    "                                                 ('city', 'remaining_gallons'))\n",
    "    city_remaining_gallons_pair = CityAndRemainingGas(0, 0)\n",
    "    num_cities = len(gallons)\n",
    "    for i in range(1, num_cities):\n",
    "        remaining_gallons += gallons[i - 1] - distances[i - 1] // MPG\n",
    "        if remaining_gallons < city_remaining_gallons_pair.remaining_gallons:\n",
    "            city_remaining_gallons_pair = CityAndRemainingGas(i,\n",
    "                                                              remaining_gallons)\n",
    "    return city_remaining_gallons_pair.city\n",
    "    \n",
    "\n",
    "gallons = [1, 5, 3]\n",
    "distances = [30, 120, 30]\n",
    "print(sum(gallons))\n",
    "print(sum(distances))\n",
    "print(find_ample_city(gallons, distances))"
   ]
  }
 ],
 "metadata": {
  "kernelspec": {
   "display_name": "Python 3",
   "language": "python",
   "name": "python3"
  },
  "language_info": {
   "codemirror_mode": {
    "name": "ipython",
    "version": 3
   },
   "file_extension": ".py",
   "mimetype": "text/x-python",
   "name": "python",
   "nbconvert_exporter": "python",
   "pygments_lexer": "ipython3",
   "version": "3.6.1"
  },
  "varInspector": {
   "cols": {
    "lenName": 16,
    "lenType": 16,
    "lenVar": 40
   },
   "kernels_config": {
    "python": {
     "delete_cmd_postfix": "",
     "delete_cmd_prefix": "del ",
     "library": "var_list.py",
     "varRefreshCmd": "print(var_dic_list())"
    },
    "r": {
     "delete_cmd_postfix": ") ",
     "delete_cmd_prefix": "rm(",
     "library": "var_list.r",
     "varRefreshCmd": "cat(var_dic_list()) "
    }
   },
   "types_to_exclude": [
    "module",
    "function",
    "builtin_function_or_method",
    "instance",
    "_Feature"
   ],
   "window_display": false
  }
 },
 "nbformat": 4,
 "nbformat_minor": 2
}
