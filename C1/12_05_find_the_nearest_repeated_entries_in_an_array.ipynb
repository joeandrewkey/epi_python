{
 "cells": [
  {
   "cell_type": "markdown",
   "metadata": {},
   "source": [
    "### 12.05 Find the nearest repeated entries in an array\n",
    "\n",
    "Write a program which takes as input an array and finds the distance between the closest pair of equal entries.  For example, if s = [\"All\", \"work\", \"and\", \"no\", \"play\", \"makes\", \"for\", \"no\", \"work\", \"no\", \"fun\", \"and\", \"no\", \"results\"], then the second and third ocurrences of \"no\" is the closest pair.\n",
    "\n",
    "***Hint***: Each entry in the array is a candidate."
   ]
  },
  {
   "cell_type": "code",
   "execution_count": 4,
   "metadata": {},
   "outputs": [
    {
     "name": "stdout",
     "output_type": "stream",
     "text": [
      "index: 0 words: {'All': 0}, smallest: 8\n",
      "index: 1 words: {'All': 0, 'work': 1}, smallest: 8\n",
      "index: 2 words: {'All': 0, 'work': 1, 'and': 2}, smallest: 8\n",
      "index: 3 words: {'All': 0, 'work': 1, 'and': 2, 'no': 3}, smallest: 8\n",
      "index: 4 words: {'All': 0, 'work': 1, 'and': 2, 'no': 3, 'play': 4}, smallest: 8\n",
      "index: 5 words: {'All': 0, 'work': 1, 'and': 5, 'no': 3, 'play': 4}, smallest: 3\n",
      "index: 6 words: {'All': 0, 'work': 1, 'and': 5, 'no': 3, 'play': 6}, smallest: 2\n",
      "index: 7 words: {'All': 0, 'work': 1, 'and': 5, 'no': 7, 'play': 6}, smallest: 2\n",
      "2\n",
      "-1\n",
      "index: 0 words: {'nope': 0}, smallest: 1\n",
      "-1\n",
      "index: 0 words: {'All': 0}, smallest: 9\n",
      "index: 1 words: {'All': 0, 'work': 1}, smallest: 9\n",
      "index: 2 words: {'All': 0, 'work': 1, 'and': 2}, smallest: 9\n",
      "index: 3 words: {'All': 0, 'work': 1, 'and': 2, 'no': 3}, smallest: 9\n",
      "index: 4 words: {'All': 0, 'work': 1, 'and': 2, 'no': 3, 'play': 4}, smallest: 9\n",
      "index: 5 words: {'All': 0, 'work': 1, 'and': 5, 'no': 3, 'play': 4}, smallest: 3\n",
      "index: 6 words: {'All': 0, 'work': 1, 'and': 5, 'no': 3, 'play': 6}, smallest: 2\n",
      "index: 7 words: {'All': 0, 'work': 1, 'and': 5, 'no': 7, 'play': 6}, smallest: 2\n",
      "index: 8 words: {'All': 0, 'work': 1, 'and': 5, 'no': 8, 'play': 6}, smallest: 1\n",
      "1\n",
      "index: 0 words: {'A': 0}, smallest: 5\n",
      "index: 1 words: {'A': 0, 'B': 1}, smallest: 5\n",
      "index: 2 words: {'A': 0, 'B': 1, 'C': 2}, smallest: 5\n",
      "index: 3 words: {'A': 0, 'B': 1, 'C': 2, 'D': 3}, smallest: 5\n",
      "index: 4 words: {'A': 4, 'B': 1, 'C': 2, 'D': 3}, smallest: 4\n",
      "4\n"
     ]
    }
   ],
   "source": [
    "def solution(arr):\n",
    "    words = {}\n",
    "    smallest = len(arr)\n",
    "\n",
    "    for index, word in enumerate(arr):\n",
    "        if word in words:\n",
    "            distance = index - words[word]\n",
    "            smallest = min(distance, smallest)\n",
    "\n",
    "        words[word] = index\n",
    "\n",
    "        print(\"index: {} words: {}, smallest: {}\".format(index, words, smallest))\n",
    "\n",
    "    if smallest == len(arr):\n",
    "        return -1\n",
    "    \n",
    "    return smallest\n",
    "\n",
    "print(solution([\"All\", \"work\", \"and\", \"no\", \"play\", \"and\", \"play\", \"no\"]))\n",
    "print(solution([]))\n",
    "print(solution([\"nope\"]))\n",
    "print(solution([\"All\", \"work\", \"and\", \"no\", \"play\", \"and\", \"play\", \"no\", \"no\"]))\n",
    "print(solution([\"A\", \"B\", \"C\", \"D\", \"A\"]))"
   ]
  },
  {
   "cell_type": "markdown",
   "metadata": {},
   "source": [
    "### Remarks:\n",
    "\n",
    "Pretty easy."
   ]
  }
 ],
 "metadata": {
  "kernelspec": {
   "display_name": "Python 3",
   "language": "python",
   "name": "python3"
  },
  "language_info": {
   "codemirror_mode": {
    "name": "ipython",
    "version": 3
   },
   "file_extension": ".py",
   "mimetype": "text/x-python",
   "name": "python",
   "nbconvert_exporter": "python",
   "pygments_lexer": "ipython3",
   "version": "3.6.1"
  },
  "varInspector": {
   "cols": {
    "lenName": 16,
    "lenType": 16,
    "lenVar": 40
   },
   "kernels_config": {
    "python": {
     "delete_cmd_postfix": "",
     "delete_cmd_prefix": "del ",
     "library": "var_list.py",
     "varRefreshCmd": "print(var_dic_list())"
    },
    "r": {
     "delete_cmd_postfix": ") ",
     "delete_cmd_prefix": "rm(",
     "library": "var_list.r",
     "varRefreshCmd": "cat(var_dic_list()) "
    }
   },
   "types_to_exclude": [
    "module",
    "function",
    "builtin_function_or_method",
    "instance",
    "_Feature"
   ],
   "window_display": false
  }
 },
 "nbformat": 4,
 "nbformat_minor": 2
}
