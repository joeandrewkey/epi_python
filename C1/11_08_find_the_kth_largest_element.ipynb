{
 "cells": [
  {
   "cell_type": "markdown",
   "metadata": {},
   "source": [
    "### 11.08 Find the Kth Largest Element\n",
    "\n",
    "Design an algorithm for computing the kth largest element in an array\n",
    "\n",
    "***Hint***: Use divide and conquer in conjunction with randomization."
   ]
  },
  {
   "cell_type": "code",
   "execution_count": 33,
   "metadata": {},
   "outputs": [
    {
     "name": "stdout",
     "output_type": "stream",
     "text": [
      "Evicting: 1\n",
      "Evicting: 2\n",
      "3\n",
      "Evicting: 1\n",
      "Evicting: 2\n",
      "3\n"
     ]
    }
   ],
   "source": [
    "import heapq\n",
    "def solution(arr, k):\n",
    "    h, arr = arr[:k], arr[k:]\n",
    "\n",
    "    heapq.heapify(h)\n",
    "    for m in range(len(arr)):\n",
    "        x = arr.pop(0)\n",
    "        heapq.heappush(h, x)\n",
    "        if len(h) > k:  # evict the smallest from the heap, leaving the k largest items\n",
    "            y = heapq.heappop(h)\n",
    "            print(\"Evicting: {}\".format(y))\n",
    "    return heapq.heappop(h)  # of the k largest in a min-heap, the root of the heap is the kth largest \n",
    "\n",
    "\n",
    "# TESTS\n",
    "print(solution([1,2,3,4,5], 3))\n",
    "print(solution([5,1,4,2,3], 3))\n"
   ]
  },
  {
   "cell_type": "markdown",
   "metadata": {},
   "source": [
    "### Remarks\n",
    "\n",
    "I had no idea what was meant by the hint.  The solution in the book claims an $O(n^2)$ time but my solution seems to be $O(log(k) * n)$ which would always be faster.  The additional space complexity is $O(k)$."
   ]
  },
  {
   "cell_type": "code",
   "execution_count": null,
   "metadata": {
    "collapsed": true
   },
   "outputs": [],
   "source": []
  }
 ],
 "metadata": {
  "kernelspec": {
   "display_name": "Python 3",
   "language": "python",
   "name": "python3"
  },
  "language_info": {
   "codemirror_mode": {
    "name": "ipython",
    "version": 3
   },
   "file_extension": ".py",
   "mimetype": "text/x-python",
   "name": "python",
   "nbconvert_exporter": "python",
   "pygments_lexer": "ipython3",
   "version": "3.6.1"
  },
  "varInspector": {
   "cols": {
    "lenName": 16,
    "lenType": 16,
    "lenVar": 40
   },
   "kernels_config": {
    "python": {
     "delete_cmd_postfix": "",
     "delete_cmd_prefix": "del ",
     "library": "var_list.py",
     "varRefreshCmd": "print(var_dic_list())"
    },
    "r": {
     "delete_cmd_postfix": ") ",
     "delete_cmd_prefix": "rm(",
     "library": "var_list.r",
     "varRefreshCmd": "cat(var_dic_list()) "
    }
   },
   "types_to_exclude": [
    "module",
    "function",
    "builtin_function_or_method",
    "instance",
    "_Feature"
   ],
   "window_display": false
  }
 },
 "nbformat": 4,
 "nbformat_minor": 2
}
