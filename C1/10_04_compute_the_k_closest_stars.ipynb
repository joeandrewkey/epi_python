{
 "cells": [
  {
   "cell_type": "markdown",
   "metadata": {},
   "source": [
    "### 10.04 compute the k closest stars\n",
    "\n",
    "Consider a coordinate system for the Milky Way, in which the Earth is at (0, 0, 0).  Model stars as points, and assume distances are in light years.  The Milky Way consists of approximately $ 10^{12} $ stars, and their coordinates are stored in a file.\n",
    "\n",
    "How would you compute the k stars which are closest to Earth?"
   ]
  },
  {
   "cell_type": "code",
   "execution_count": 48,
   "metadata": {},
   "outputs": [
    {
     "name": "stdout",
     "output_type": "stream",
     "text": [
      "evicting: (-3.0, <__main__.Star object at 0x7fd618128ba8>)\n",
      "[(-2.0, <__main__.Star object at 0x7fd618128b70>), (-2.0, <__main__.Star object at 0x7fd618128c50>), (-1.0, <__main__.Star object at 0x7fd61814f0b8>)]\n",
      "evicting: (-2.0, <__main__.Star object at 0x7fd618128b70>)\n",
      "[(-2.0, <__main__.Star object at 0x7fd618128c50>), (-1.0, <__main__.Star object at 0x7fd6181497f0>), (-1.0, <__main__.Star object at 0x7fd61814f0b8>)]\n",
      "[(-2.0, <__main__.Star object at 0x7fd618128c50>), (-1.0, <__main__.Star object at 0x7fd6181497f0>), (-1.0, <__main__.Star object at 0x7fd61814f0b8>)]\n",
      "(1.0, (0, 0, 1)\n",
      "(1.0, (0, 0, 1)\n",
      "(2.0, (0, 0, 2)\n",
      "[None, None, None]\n",
      "[None, None, None]\n"
     ]
    }
   ],
   "source": [
    "from math import sqrt\n",
    "from heapq import heappush, heappop, nlargest\n",
    "\n",
    "class Star:\n",
    "    def __init__(self, x, y, z):\n",
    "        self.x = x\n",
    "        self.y = y\n",
    "        self.z = z\n",
    "        \n",
    "    @property\n",
    "    def distance(self):\n",
    "        return sqrt(self.x**2 + self.y**2 + self.z**2)\n",
    "    \n",
    "    def __lt__(self, rhs):\n",
    "        return self.distance < rhs.distance\n",
    "    \n",
    "    def __str__(self):\n",
    "        return \"({}, ({}, {}, {})\".format(\n",
    "            self.distance, self.x, self.y, self.z)\n",
    "\n",
    "def solution(star_array, k):\n",
    "    max_heap = []\n",
    "    for star in stars:\n",
    "        heappush(max_heap, (-star.distance, star))\n",
    "        if len(max_heap) == k + 1:\n",
    "            evicting = heappop(max_heap)\n",
    "            print(\"evicting: {}\".format(evicting))\n",
    "            print(max_heap)\n",
    "\n",
    "    print(max_heap)\n",
    "\n",
    "    x = [print(s[1]) for s in heapq.nlargest(k, max_heap)]\n",
    "    print(x)\n",
    "    return x\n",
    "\n",
    "stars = []\n",
    "stars.append(Star(0,0,3))\n",
    "stars.append(Star(0,0,2))\n",
    "stars.append(Star(0,0,1))\n",
    "stars.append(Star(0,0,2))\n",
    "stars.append(Star(0,0,1))\n",
    "\n",
    "print(solution(stars, 3))\n",
    "\n"
   ]
  },
  {
   "cell_type": "code",
   "execution_count": null,
   "metadata": {
    "collapsed": true
   },
   "outputs": [],
   "source": []
  }
 ],
 "metadata": {
  "kernelspec": {
   "display_name": "Python 3",
   "language": "python",
   "name": "python3"
  },
  "language_info": {
   "codemirror_mode": {
    "name": "ipython",
    "version": 3
   },
   "file_extension": ".py",
   "mimetype": "text/x-python",
   "name": "python",
   "nbconvert_exporter": "python",
   "pygments_lexer": "ipython3",
   "version": "3.6.1"
  },
  "varInspector": {
   "cols": {
    "lenName": 16,
    "lenType": 16,
    "lenVar": 40
   },
   "kernels_config": {
    "python": {
     "delete_cmd_postfix": "",
     "delete_cmd_prefix": "del ",
     "library": "var_list.py",
     "varRefreshCmd": "print(var_dic_list())"
    },
    "r": {
     "delete_cmd_postfix": ") ",
     "delete_cmd_prefix": "rm(",
     "library": "var_list.r",
     "varRefreshCmd": "cat(var_dic_list()) "
    }
   },
   "types_to_exclude": [
    "module",
    "function",
    "builtin_function_or_method",
    "instance",
    "_Feature"
   ],
   "window_display": false
  }
 },
 "nbformat": 4,
 "nbformat_minor": 2
}
