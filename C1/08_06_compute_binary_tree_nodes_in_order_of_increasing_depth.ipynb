{
 "cells": [
  {
   "cell_type": "markdown",
   "metadata": {},
   "source": [
    "### 08.06 compute binary tree nodes in order of increasing depth\n",
    "\n",
    "Given a binary tree, return an array consisting of the keys at the same level.  Keys should appear in the order of the corresponding nodes' depths, breaking ties from left to right.  For example, you should return ((314), (6,6), (271,561,2,271), (28,0,3,1,28), (17,401,257), (641) for the binary tree in figure 9.1 on page 112\n",
    "\n"
   ]
  },
  {
   "cell_type": "code",
   "execution_count": 2,
   "metadata": {},
   "outputs": [],
   "source": [
    "from helper import BinaryTreeNode as Node"
   ]
  },
  {
   "cell_type": "code",
   "execution_count": 6,
   "metadata": {},
   "outputs": [],
   "source": [
    "# Construct the binary tree in figure 9.1 of the book\n",
    "\n",
    "# Create the nodes\n",
    "a = Node(314)\n",
    "b = Node(6)\n",
    "c = Node(271)\n",
    "d = Node(28)\n",
    "e = Node(0)\n",
    "f = Node(561)\n",
    "g = Node(3)\n",
    "h = Node(17)\n",
    "i = Node(6)\n",
    "j = Node(2)\n",
    "k = Node(1)\n",
    "l = Node(401)\n",
    "m = Node(641)\n",
    "n = Node(257)\n",
    "o = Node(271)\n",
    "p = Node(28)\n",
    "\n",
    "# Create the edges\n",
    "a.left, a.right = b, i\n",
    "b.left, b.right = c, f\n",
    "c.left, c.right = d, e\n",
    "f.right = g\n",
    "g.left = h\n",
    "i.left, i.right = j, o\n",
    "j.right = k\n",
    "o.right = p\n",
    "k.left, k.right = l, n\n",
    "l.right = m"
   ]
  },
  {
   "cell_type": "code",
   "execution_count": 10,
   "metadata": {},
   "outputs": [
    {
     "name": "stdout",
     "output_type": "stream",
     "text": [
      "Preorder: 314, is_leaf: False, height: 0\n",
      "Preorder: 6, is_leaf: False, height: 1\n",
      "Preorder: 271, is_leaf: False, height: 2\n",
      "Preorder: 28, is_leaf: True, height: 3\n",
      "Preorder: 0, is_leaf: True, height: 3\n",
      "Preorder: 561, is_leaf: False, height: 2\n",
      "Preorder: 3, is_leaf: False, height: 3\n",
      "Preorder: 17, is_leaf: True, height: 4\n",
      "Preorder: 6, is_leaf: False, height: 1\n",
      "Preorder: 2, is_leaf: False, height: 2\n",
      "Preorder: 1, is_leaf: False, height: 3\n",
      "Preorder: 401, is_leaf: False, height: 4\n",
      "Preorder: 641, is_leaf: True, height: 5\n",
      "Preorder: 257, is_leaf: True, height: 4\n",
      "Preorder: 271, is_leaf: False, height: 2\n",
      "Preorder: 28, is_leaf: True, height: 3\n",
      "This tree is not height balanced\n",
      "{'lowest': 3, 'highest': 5}\n"
     ]
    }
   ],
   "source": [
    "from helper import tree_traversal\n",
    "\n",
    "tree_traversal(a, \"Preorder\")"
   ]
  },
  {
   "cell_type": "code",
   "execution_count": 18,
   "metadata": {},
   "outputs": [
    {
     "name": "stdout",
     "output_type": "stream",
     "text": [
      "{0: [314], 1: [6, 6], 2: [271, 561, 2, 271], 3: [28, 0, 3, 1, 28], 4: [17, 401, 257], 5: [641]}\n"
     ]
    }
   ],
   "source": [
    "def solution(root, height=0, leaf_levels={}):\n",
    "    if root:  #only process if the root is not None\n",
    "        if height not in leaf_levels:  # create a new level list\n",
    "            leaf_levels[height] = [root.data]\n",
    "        else:  # append to the level list\n",
    "            leaf_levels[height].append(root.data)\n",
    "       \n",
    "        # recurse over left and right node with a new height\n",
    "        solution(root.left, height=height + 1, leaf_levels=leaf_levels)\n",
    "        solution(root.right, height=height + 1, leaf_levels=leaf_levels)\n",
    "\n",
    "leaf_levels = {}\n",
    "solution(a, leaf_levels=leaf_levels)\n",
    "print(leaf_levels)    "
   ]
  },
  {
   "cell_type": "markdown",
   "metadata": {},
   "source": [
    "### Remarks:\n",
    "\n",
    "This processes from left to right, by recursing the left node before the right node.  As each node is approached in a depth-first fashion, it records its place as a **leaf_level** list entry.  \n",
    "\n",
    "The additional space complexity is $ O(n) $.\n",
    "The time complexity is $ O(n) $"
   ]
  },
  {
   "cell_type": "code",
   "execution_count": null,
   "metadata": {
    "collapsed": true
   },
   "outputs": [],
   "source": []
  }
 ],
 "metadata": {
  "kernelspec": {
   "display_name": "Python 3",
   "language": "python",
   "name": "python3"
  },
  "language_info": {
   "codemirror_mode": {
    "name": "ipython",
    "version": 3
   },
   "file_extension": ".py",
   "mimetype": "text/x-python",
   "name": "python",
   "nbconvert_exporter": "python",
   "pygments_lexer": "ipython3",
   "version": "3.6.1"
  },
  "varInspector": {
   "cols": {
    "lenName": 16,
    "lenType": 16,
    "lenVar": 40
   },
   "kernels_config": {
    "python": {
     "delete_cmd_postfix": "",
     "delete_cmd_prefix": "del ",
     "library": "var_list.py",
     "varRefreshCmd": "print(var_dic_list())"
    },
    "r": {
     "delete_cmd_postfix": ") ",
     "delete_cmd_prefix": "rm(",
     "library": "var_list.r",
     "varRefreshCmd": "cat(var_dic_list()) "
    }
   },
   "types_to_exclude": [
    "module",
    "function",
    "builtin_function_or_method",
    "instance",
    "_Feature"
   ],
   "window_display": false
  }
 },
 "nbformat": 4,
 "nbformat_minor": 2
}
