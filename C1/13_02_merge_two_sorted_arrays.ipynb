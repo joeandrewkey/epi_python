{
 "cells": [
  {
   "cell_type": "markdown",
   "metadata": {},
   "source": [
    "### 13.02 Merge two sorted arrays\n",
    "\n",
    "Write a program that takes as input two sorted arrays of integers and updates the first to the combined entries of the two arrays in sorted order.  Assume the first array has enough empty entries at its end to hold the result.\n",
    "\n",
    "### Remarks:\n",
    "I'm guessing that the point of this exercise is array manipulation.  I can think of several solutions, but lets go for the easiest first."
   ]
  },
  {
   "cell_type": "code",
   "execution_count": 2,
   "metadata": {},
   "outputs": [
    {
     "name": "stdout",
     "output_type": "stream",
     "text": [
      "[1, 1, 2, 3]\n"
     ]
    }
   ],
   "source": [
    "def solution(a, b):\n",
    "    c, d = 0, len(a)\n",
    "    while c < d:\n",
    "        if a[0] < (b[0] if b else a[0] + 1):\n",
    "            a.append(a.pop(0))\n",
    "            c += 1\n",
    "        else:\n",
    "            a.append(b.pop(0))\n",
    "    a.extend(b)\n",
    "\n",
    "def solution_2(a, b):\n",
    "    answer = []\n",
    "    a_index, b_index = 0, 0\n",
    "    while a_index < len(a) and b_index < len(b):\n",
    "        if a_index < b_index:\n",
    "            smallest = a[a_index]\n",
    "            a_index += 1\n",
    "        else:\n",
    "            smallest = b[b_index]\n",
    "            b_index += 1\n",
    "        answer.append(smallest)\n",
    "    answer.extend(a[a_index:])\n",
    "    answer.extend(b[b_index:])\n",
    "    return answer\n",
    "\n",
    "        \n",
    "    \n",
    "b = [1, 2, 3]\n",
    "a = [1]\n",
    "\n",
    "#solution(a, b)\n",
    "#print(a)\n",
    "print(solution_2(a, b))\n"
   ]
  },
  {
   "cell_type": "markdown",
   "metadata": {},
   "source": [
    "The book solution emphasizes that you can use a knowledge of indexing to solve the problem in an interesting way.\n"
   ]
  },
  {
   "cell_type": "code",
   "execution_count": null,
   "metadata": {
    "collapsed": true
   },
   "outputs": [],
   "source": []
  }
 ],
 "metadata": {
  "kernelspec": {
   "display_name": "Python 3",
   "language": "python",
   "name": "python3"
  },
  "language_info": {
   "codemirror_mode": {
    "name": "ipython",
    "version": 3
   },
   "file_extension": ".py",
   "mimetype": "text/x-python",
   "name": "python",
   "nbconvert_exporter": "python",
   "pygments_lexer": "ipython3",
   "version": "3.6.1"
  },
  "varInspector": {
   "cols": {
    "lenName": 16,
    "lenType": 16,
    "lenVar": 40
   },
   "kernels_config": {
    "python": {
     "delete_cmd_postfix": "",
     "delete_cmd_prefix": "del ",
     "library": "var_list.py",
     "varRefreshCmd": "print(var_dic_list())"
    },
    "r": {
     "delete_cmd_postfix": ") ",
     "delete_cmd_prefix": "rm(",
     "library": "var_list.r",
     "varRefreshCmd": "cat(var_dic_list()) "
    }
   },
   "types_to_exclude": [
    "module",
    "function",
    "builtin_function_or_method",
    "instance",
    "_Feature"
   ],
   "window_display": false
  }
 },
 "nbformat": 4,
 "nbformat_minor": 2
}
