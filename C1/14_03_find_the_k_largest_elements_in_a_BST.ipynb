{
 "cells": [
  {
   "cell_type": "markdown",
   "metadata": {},
   "source": [
    "### 14.03 find the k largest elements in a BST\n",
    "\n",
    "Write a program that takes as input a BST and an integer k, and returns the k largest elements in the BST in decreasing order.  For example if the input is the BST in figure 14.1 on Page 198 and k=3, your program should return ```[53, 47, 43```].\n",
    "\n",
    "#### Figure 14.1\n",
    "```\n",
    "            19\n",
    "           /  \\\n",
    "          /    \\\n",
    "         7     43\n",
    "        / \\    / \\\n",
    "       3  11  23 47\n",
    "      / \\  \\   \\  \\\n",
    "     2   5  17 37 53\n",
    "            / / \\ \n",
    "          13 29 41\n",
    "              \\\n",
    "              31\n",
    "```\n",
    "\n",
    "\n"
   ]
  },
  {
   "cell_type": "code",
   "execution_count": 1,
   "metadata": {},
   "outputs": [
    {
     "name": "stdout",
     "output_type": "stream",
     "text": [
      "\n",
      "test 0 (from figure 14.1 in book)\n",
      "            19\n",
      "           /  \\\n",
      "          /    \\\n",
      "         7     43\n",
      "        / \\    / \\\n",
      "       3  11  23 47\n",
      "      / \\  \\   \\  \\\n",
      "     2   5  17 37 53\n",
      "            / / \\ \n",
      "          13 29 41\n",
      "              \\\n",
      "              31\n",
      "\n",
      "\n",
      "Finding the top 1 nodes\n",
      "The top 1 elements are [].  4 nodes explored\n",
      "\n",
      "Finding the top 2 nodes\n",
      "The top 2 elements are [53].  4 nodes explored\n",
      "\n",
      "Finding the top 3 nodes\n",
      "The top 3 elements are [53, 47].  4 nodes explored\n",
      "\n",
      "Finding the top 4 nodes\n",
      "The top 4 elements are [53, 47, 43].  7 nodes explored\n",
      "\n",
      "Finding the top 5 nodes\n",
      "The top 5 elements are [53, 47, 43, 41].  7 nodes explored\n",
      "\n",
      "Finding the top 6 nodes\n",
      "The top 6 elements are [53, 47, 43, 41, 37].  9 nodes explored\n",
      "\n",
      "Finding the top 7 nodes\n",
      "The top 7 elements are [53, 47, 43, 41, 37, 31].  9 nodes explored\n",
      "\n",
      "Finding the top 8 nodes\n",
      "The top 8 elements are [53, 47, 43, 41, 37, 31, 29].  9 nodes explored\n"
     ]
    }
   ],
   "source": [
    "from helper import BinaryTreeNode as BTN\n",
    "from heapq import heappush, heappop\n",
    "from collections import Counter\n",
    "\n",
    "def solution(root, k, h=[], start=True, count=Counter()):\n",
    "    if start:\n",
    "        count[\"total\"] = 0\n",
    "    if root:\n",
    "        count[\"total\"] += 1\n",
    "        if len(h) < k:\n",
    "            heappush(h, root.data)\n",
    "        else:\n",
    "            x = heappop(h)\n",
    "            heappush(h, max(root.data, x))\n",
    "            # if x < root.data:\n",
    "            #    print(\"Evicting {}\".format(x))\n",
    "                     \n",
    "        # print(h)\n",
    "        # print(root.data)\n",
    "        solution(root.right, k, h=h, start=False, count=count)\n",
    "        # only go left if you need to\n",
    "        # if h[0] <= root.data:\n",
    "        if root.data > h[0]:\n",
    "            solution(root.left, k, h=h, start=False, count=count)\n",
    "            \n",
    "        # finish where you start\n",
    "        if start:\n",
    "            _ = heappop(h)\n",
    "            answer = []\n",
    "            while h:\n",
    "                answer.append(heappop(h))\n",
    "            \n",
    "            print(\"The top {} elements are {}.  {} nodes explored\".format(\n",
    "                k, answer[::-1], count[\"total\"]))\n",
    "\n",
    "# test 0\n",
    "graph = r\"\"\"\n",
    "test 0 (from figure 14.1 in book)\n",
    "            19\n",
    "           /  \\\n",
    "          /    \\\n",
    "         7     43\n",
    "        / \\    / \\\n",
    "       3  11  23 47\n",
    "      / \\  \\   \\  \\\n",
    "     2   5  17 37 53\n",
    "            / / \\ \n",
    "          13 29 41\n",
    "              \\\n",
    "              31\n",
    "\"\"\"\n",
    "print(graph)\n",
    "t0 = BTN(data=19)\n",
    "\n",
    "t0.left = BTN(data=7)\n",
    "t0.right = BTN(data=43)\n",
    "\n",
    "t0.left.left = BTN(data=3)\n",
    "t0.left.right = BTN(data=11)\n",
    "t0.right.left = BTN(data=23)\n",
    "t0.right.right = BTN(data=47)\n",
    "\n",
    "t0.left.left.left = BTN(data=2)\n",
    "t0.left.left.right = BTN(data=5)\n",
    "t0.left.right.right = BTN(data=17)\n",
    "t0.right.left.right = BTN(data=37)\n",
    "t0.right.right.right = BTN(data=53)\n",
    "\n",
    "t0.left.right.right.left = BTN(data=13)\n",
    "t0.right.left.right.left = BTN(data=29)\n",
    "t0.right.left.right.right = BTN(data=41)\n",
    "\n",
    "t0.right.left.right.left.right = BTN(data=31)\n",
    "\n",
    "\n",
    "# Tests\n",
    "for i in range(1,9):\n",
    "    print(\"\\nFinding the top {} nodes\".format(i))\n",
    "    solution(t0, i)"
   ]
  },
  {
   "cell_type": "markdown",
   "metadata": {
    "collapsed": true
   },
   "source": [
    "### Remarks:\n",
    "\n",
    "\n",
    "This solution avoids a full traversal because it disregards irrelevant subtrees on the left.\n",
    "\n",
    "We know a subtree in a binary search tree is irrelevant if:\n",
    "1.  we maintain a min heap of size k, filled with the largest nodes found so far\n",
    "2.  if the heap is of size k, never go left unless your value is greater than the root of the min heap\n"
   ]
  },
  {
   "cell_type": "code",
   "execution_count": null,
   "metadata": {
    "collapsed": true
   },
   "outputs": [],
   "source": []
  }
 ],
 "metadata": {
  "kernelspec": {
   "display_name": "Python 3",
   "language": "python",
   "name": "python3"
  },
  "language_info": {
   "codemirror_mode": {
    "name": "ipython",
    "version": 3
   },
   "file_extension": ".py",
   "mimetype": "text/x-python",
   "name": "python",
   "nbconvert_exporter": "python",
   "pygments_lexer": "ipython3",
   "version": "3.6.1"
  },
  "varInspector": {
   "cols": {
    "lenName": 16,
    "lenType": 16,
    "lenVar": 40
   },
   "kernels_config": {
    "python": {
     "delete_cmd_postfix": "",
     "delete_cmd_prefix": "del ",
     "library": "var_list.py",
     "varRefreshCmd": "print(var_dic_list())"
    },
    "r": {
     "delete_cmd_postfix": ") ",
     "delete_cmd_prefix": "rm(",
     "library": "var_list.r",
     "varRefreshCmd": "cat(var_dic_list()) "
    }
   },
   "types_to_exclude": [
    "module",
    "function",
    "builtin_function_or_method",
    "instance",
    "_Feature"
   ],
   "window_display": false
  }
 },
 "nbformat": 4,
 "nbformat_minor": 2
}
