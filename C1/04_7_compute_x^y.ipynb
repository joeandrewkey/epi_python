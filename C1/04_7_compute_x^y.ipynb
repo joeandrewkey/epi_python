{
 "cells": [
  {
   "cell_type": "markdown",
   "metadata": {},
   "source": [
    "### 4.7 compute x^y\n",
    "\n",
    "Write a program that takes a double x and an integer y and returns x^y.  You can ignore overflow and underflow.\n",
    "\n",
    "Hint:  Exploit mathematical properties of exponentiation.\n",
    "\n",
    "### Remarks\n",
    "\n",
    "Here are a few identities that should help: \n",
    "1.  $$ x^a \\cdot x^b = x^{a+b} $$\n",
    "2.  $$ x^{2a} = (x^2)^a $$"
   ]
  },
  {
   "cell_type": "code",
   "execution_count": 83,
   "metadata": {},
   "outputs": [
    {
     "name": "stdout",
     "output_type": "stream",
     "text": [
      "Unit tests:\n",
      "base         exponent my solution                    built-in                      \n",
      "3.1                -5 0.0034929432591277324          0.003492943259127733          \n",
      "3.1                -4 0.01082812410329597            0.010828124103295972          \n",
      "3.1                -3 0.03356718472021751            0.03356718472021751           \n",
      "3.1                -2 0.10405827263267428            0.1040582726326743            \n",
      "3.1                -1 0.3225806451612903             0.3225806451612903            \n",
      "3.1                 0 1                              1.0                           \n",
      "3.1                 1 3.1                            3.1                           \n",
      "3.1                 2 9.610000000000001              9.610000000000001             \n",
      "3.1                 3 29.791000000000004             29.791000000000004            \n",
      "3.1                 4 92.35210000000002              92.35210000000001             \n",
      "\n",
      "2                1000 10715086071862673209484250490600018105614048117055336074437503883703510511249361224931983788156958581275946729175531468251871452856923140435984577574698574803934567774824230985421074605062371141877954182153046474983581941267398767559165543946077062914571196477686542167660429831652624386837205668069376 10715086071862673209484250490600018105614048117055336074437503883703510511249361224931983788156958581275946729175531468251871452856923140435984577574698574803934567774824230985421074605062371141877954182153046474983581941267398767559165543946077062914571196477686542167660429831652624386837205668069376\n"
     ]
    }
   ],
   "source": [
    "def solution(base, exponent):\n",
    "    one_over = False\n",
    "\n",
    "    if exponent < 0:\n",
    "        one_over = True\n",
    "        exponent *= -1\n",
    "        \n",
    "    d = {0: 1, 1: base}\n",
    "\n",
    "    factors = []\n",
    "\n",
    "    while exponent > 0:\n",
    "        i = 1\n",
    "        while i <= exponent:\n",
    "            i *= 2\n",
    "            if i not in d:\n",
    "                d[i] = d[i//2] * d[i//2]\n",
    "        i /= 2\n",
    "        factors.append(i)\n",
    "        exponent = exponent - i\n",
    "\n",
    "    # print(factors)\n",
    "    # print(d)\n",
    "\n",
    "    answer = 1\n",
    "    for f in factors:\n",
    "        answer *= d[f]\n",
    "\n",
    "    if one_over:\n",
    "        answer = 1 / answer\n",
    "    return answer\n",
    "\n",
    "base = 3.1\n",
    "report = lambda b, e, x, y: print(\"{:<10} {:>10} {:<30} {:<30}\".format(b, e, x, y))\n",
    "\n",
    "print(\"Unit tests:\")\n",
    "report(\"base\", \"exponent\", \"my solution\", \"built-in\")\n",
    "_ = [report(base, i, solution(base, i), base ** i) for i in range(-5,5)]\n",
    "\n",
    "\n",
    "base, exponent = 2, 1000\n",
    "print()\n",
    "report(base, exponent, solution(base, exponent), base**exponent)\n"
   ]
  },
  {
   "cell_type": "markdown",
   "metadata": {},
   "source": [
    "### Concluding Remarks:\n",
    "My solution uses a dictionary to cache exponents that are a power of two.\n",
    "1. Space requirements for the dict are: $ \\mathcal{O}(log_{2}n) $.\n",
    "2. Time requirements to decompose the exponent into a series of exponents is: $ \\mathcal{O}(log_{2}n)^2 $.\n"
   ]
  },
  {
   "cell_type": "code",
   "execution_count": null,
   "metadata": {
    "collapsed": true
   },
   "outputs": [],
   "source": []
  }
 ],
 "metadata": {
  "kernelspec": {
   "display_name": "Python 3",
   "language": "python",
   "name": "python3"
  },
  "language_info": {
   "codemirror_mode": {
    "name": "ipython",
    "version": 3
   },
   "file_extension": ".py",
   "mimetype": "text/x-python",
   "name": "python",
   "nbconvert_exporter": "python",
   "pygments_lexer": "ipython3",
   "version": "3.6.1"
  },
  "varInspector": {
   "cols": {
    "lenName": 16,
    "lenType": 16,
    "lenVar": 40
   },
   "kernels_config": {
    "python": {
     "delete_cmd_postfix": "",
     "delete_cmd_prefix": "del ",
     "library": "var_list.py",
     "varRefreshCmd": "print(var_dic_list())"
    },
    "r": {
     "delete_cmd_postfix": ") ",
     "delete_cmd_prefix": "rm(",
     "library": "var_list.r",
     "varRefreshCmd": "cat(var_dic_list()) "
    }
   },
   "types_to_exclude": [
    "module",
    "function",
    "builtin_function_or_method",
    "instance",
    "_Feature"
   ],
   "window_display": false
  }
 },
 "nbformat": 4,
 "nbformat_minor": 2
}
