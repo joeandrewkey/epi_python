{
 "cells": [
  {
   "cell_type": "markdown",
   "metadata": {},
   "source": [
    "### 5.18 compute the spiral ordering of a 2d array\n",
    "\n",
    "Write a program which takes an n x n 2D array and returns the the spiral ordering of the array.\n",
    "\n",
    "***Hint***: Use case analysis and divide and conquer."
   ]
  },
  {
   "cell_type": "code",
   "execution_count": null,
   "metadata": {},
   "outputs": [],
   "source": [
    "def solution(arr):\n",
    "    answer = []\n",
    "    case = 0\n",
    "    while len(arr) > 0:\n",
    "        temp = []\n",
    "        if case == 0:    # case 0\n",
    "            temp = arr.pop(0)\n",
    "        elif case == 1:  # case 1\n",
    "            for row in arr:\n",
    "                temp.append(row.pop())\n",
    "        elif case == 2:  # case 2\n",
    "            temp = arr.pop()[::-1]\n",
    "        else:            # case 3\n",
    "            for row in arr:\n",
    "                temp.append(row.pop(0))\n",
    "            temp = temp[::-1]\n",
    "            \n",
    "        # print(\"Temp: {}\".format(temp))\n",
    "        answer.extend(temp)\n",
    "        case = (case + 1) % 4\n",
    "    \n",
    "    return answer\n",
    "\n",
    "\n",
    "arr = [[1]]\n",
    "arr_0 = [[1,2],[3,4]]\n",
    "arr_1 = [[1,2,3],[4,5,6],[7,8,9]]\n",
    "arr_2 = [[1,2,3,4],[5,6,7,8],[9,10,11,12],[13,14,15,16]]\n",
    "\n",
    "\"\"\"\n",
    "from IPython.core.debugger import set_trace\n",
    "\n",
    "def add_to_life_universe_everything(x):\n",
    "    answer = 42\n",
    "    set_trace()\n",
    "    answer += x\n",
    "    \n",
    "    return answer\n",
    "\n",
    "add_to_life_universe_everything(12)\n",
    "\"\"\"\n",
    "\n",
    "print(solution(arr))\n",
    "print(solution(arr_0))\n",
    "print(solution(arr_1))\n",
    "print(solution(arr_2))\n"
   ]
  },
  {
   "cell_type": "markdown",
   "metadata": {},
   "source": [
    "### Remarks\n",
    "The original array's space is freed during the construction of the answer, enough so that the **temp** arrays never store more than what has already been freed from the array.  This means additional space complexity is $ \\mathcal{0}(1) $.  The time complexity is $ \\mathcal{0}(n) $."
   ]
  }
 ],
 "metadata": {
  "kernelspec": {
   "display_name": "Python 3",
   "language": "python",
   "name": "python3"
  },
  "language_info": {
   "codemirror_mode": {
    "name": "ipython",
    "version": 3
   },
   "file_extension": ".py",
   "mimetype": "text/x-python",
   "name": "python",
   "nbconvert_exporter": "python",
   "pygments_lexer": "ipython3",
   "version": "3.6.1"
  },
  "varInspector": {
   "cols": {
    "lenName": 16,
    "lenType": 16,
    "lenVar": 40
   },
   "kernels_config": {
    "python": {
     "delete_cmd_postfix": "",
     "delete_cmd_prefix": "del ",
     "library": "var_list.py",
     "varRefreshCmd": "print(var_dic_list())"
    },
    "r": {
     "delete_cmd_postfix": ") ",
     "delete_cmd_prefix": "rm(",
     "library": "var_list.r",
     "varRefreshCmd": "cat(var_dic_list()) "
    }
   },
   "types_to_exclude": [
    "module",
    "function",
    "builtin_function_or_method",
    "instance",
    "_Feature"
   ],
   "window_display": false
  }
 },
 "nbformat": 4,
 "nbformat_minor": 2
}
