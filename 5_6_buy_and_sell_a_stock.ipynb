{
 "cells": [
  {
   "cell_type": "markdown",
   "metadata": {},
   "source": [
    "### 5.6 Buy and Sell a Stock Once\n",
    "\n",
    "This problem is concerned with the problem of optimally buying and selling a stock once.  As an example consider the following sequence of stock prices (310, 315, 275, 295, 260, 270, 290, 230, 255, 250).  The maximum profit that can be made with one buy and one sell is 30 -- buy at 260 and sell at 290.  Note that 260 is not the lowest price, nor 290 the highest price."
   ]
  },
  {
   "cell_type": "code",
   "execution_count": 18,
   "metadata": {},
   "outputs": [
    {
     "name": "stdout",
     "output_type": "stream",
     "text": [
      "250\n",
      "Best sale this interval is: 0\n",
      "highest: 255, lowest: 255, best_spread: 0\n",
      "255\n",
      "230\n",
      "Best sale this interval is: 25\n",
      "highest: 290, lowest: 290, best_spread: 25\n",
      "290\n",
      "270\n",
      "260\n",
      "Best sale this interval is: 30\n",
      "highest: 295, lowest: 295, best_spread: 30\n",
      "295\n",
      "275\n",
      "Best sale this interval is: 20\n",
      "highest: 315, lowest: 315, best_spread: 30\n",
      "315\n",
      "310\n",
      "best_sale: 30\n"
     ]
    }
   ],
   "source": [
    "prices = [310, 315, 275, 295, 260, 270, 290, 230, 255, 250]\n",
    "\n",
    "last_index = len(prices) - 1\n",
    "highest = prices[last_index]\n",
    "lowest = prices[last_index]\n",
    "best_spread = highest - lowest\n",
    "\n",
    "def stats(highest, lowest, best_spread):\n",
    "    print(\"highest: {}, lowest: {}, best_spread: {}\".format(\n",
    "        highest, lowest, best_spread))\n",
    "    \n",
    "for i in reversed(range(len(prices))):\n",
    "    if highest < prices[i]:\n",
    "        # stats(highest, lowest, best_spread)\n",
    "        interval_spread = highest - lowest\n",
    "        print(\"Best sale this interval is: {}\".format(interval_spread))\n",
    "        if interval_spread > best_spread:\n",
    "            best_spread = interval_spread\n",
    "        highest = prices[i]\n",
    "        lowest = prices[i]\n",
    "        stats(highest, lowest, best_spread)\n",
    "\n",
    "    else:\n",
    "        if lowest > prices[i]:\n",
    "            lowest = prices[i]\n",
    "    print(prices[i])\n",
    "\n",
    "print(\"best_sale: {}\".format(best_spread))\n"
   ]
  },
  {
   "cell_type": "markdown",
   "metadata": {},
   "source": [
    "### Thoughts:\n",
    "\n",
    "I gave this a \"think\" before trying to solve it and it occurs to me that if you loop forward through the list then you need to iterate through the entire list for each price because you would never know what the highest price would be.  If you go **backwards**, then you only have to maintain the highest and lowest scores from one highest score to the next even higher score.  This operation should only take O(n) time."
   ]
  },
  {
   "cell_type": "code",
   "execution_count": null,
   "metadata": {
    "collapsed": true
   },
   "outputs": [],
   "source": []
  }
 ],
 "metadata": {
  "kernelspec": {
   "display_name": "Python 3",
   "language": "python",
   "name": "python3"
  },
  "language_info": {
   "codemirror_mode": {
    "name": "ipython",
    "version": 3
   },
   "file_extension": ".py",
   "mimetype": "text/x-python",
   "name": "python",
   "nbconvert_exporter": "python",
   "pygments_lexer": "ipython3",
   "version": "3.6.1"
  }
 },
 "nbformat": 4,
 "nbformat_minor": 2
}
