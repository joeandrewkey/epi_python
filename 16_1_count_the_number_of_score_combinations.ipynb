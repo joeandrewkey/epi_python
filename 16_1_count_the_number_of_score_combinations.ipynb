{
 "cells": [
  {
   "cell_type": "markdown",
   "metadata": {},
   "source": [
    "### 16.1 Count the number of score combinations\n",
    "\n",
    "In an American football game, a play can lead to 2 points (safety), 3 points (field goal), or 7 points (touchdown, assuming the extra point).  Many different combinations of 2, 3, and 7 point plays can make up a final score.  Write a program that takes a final score and scores for individual plays and returns the number of combinations of plays that result in the final score.\n",
    "\n",
    "Hint: Count the number of combinations in which there are 0 w_0 plays, then 1 w_0 plays, etc.\n",
    "\n",
    "#### Solution"
   ]
  },
  {
   "cell_type": "code",
   "execution_count": 87,
   "metadata": {},
   "outputs": [
    {
     "name": "stdout",
     "output_type": "stream",
     "text": [
      "\n",
      "2\n",
      "\ta: 1, b: [], c: [], d: 0\n",
      "\n",
      "3\n",
      "\ta: 1, b: [], c: [], d: 0\n",
      "\n",
      "4\n",
      "\ta: 0, b: [2], c: [1], d: 1\n",
      "\n",
      "5\n",
      "\ta: 0, b: [3, 2], c: [1, 1], d: 2\n",
      "\n",
      "6\n",
      "\ta: 0, b: [4, 3], c: [1, 1], d: 2\n",
      "\n",
      "7\n",
      "\ta: 1, b: [5, 4], c: [2, 1], d: 3\n",
      "\n",
      "8\n",
      "\ta: 0, b: [6, 5], c: [2, 2], d: 4\n",
      "\n",
      "9\n",
      "\ta: 0, b: [7, 6, 2], c: [4, 2, 1], d: 7\n",
      "\n",
      "10\n",
      "\ta: 0, b: [8, 7, 3], c: [4, 4, 1], d: 9\n",
      "\n",
      "11\n",
      "\ta: 0, b: [9, 8, 4], c: [7, 4, 1], d: 12\n",
      "\n",
      "12\n",
      "\ta: 0, b: [10, 9, 5], c: [9, 7, 2], d: 18\n"
     ]
    },
    {
     "data": {
      "text/plain": [
       "{2: 1, 3: 1, 4: 1, 5: 2, 6: 2, 7: 4, 8: 4, 9: 7, 10: 9, 11: 12, 12: 18}"
      ]
     },
     "execution_count": 87,
     "metadata": {},
     "output_type": "execute_result"
    }
   ],
   "source": [
    "plays = [2, 3, 7]\n",
    "def get_combos(n, cache={}):\n",
    "    min_play = min(plays)\n",
    "    for i in range(min(plays), n):\n",
    "        print(\"\\n{}\".format(i))\n",
    "        # if a play is exactly your score, you get 1\n",
    "        a = 1 if i in plays else 0\n",
    "        # if you subtract a valid play and you are in the cache, get those keys\n",
    "        b = [i - play for play in plays if i - play >= min_play and (i - play) in cache]\n",
    "        # add the sum of all valid cache combos\n",
    "        c = [cache[x] for x in b]     \n",
    "        d = sum(y for y in c)\n",
    "        print(\"\\ta: {}, b: {}, c: {}, d: {}\".format(a, b, c, d))\n",
    "        cache[i] = a + d\n",
    "            \n",
    "    return cache\n",
    "    \n",
    "get_combos(13)"
   ]
  },
  {
   "cell_type": "markdown",
   "metadata": {},
   "source": [
    "### Remarks:\n",
    "After about an hour I stopped time.  I think what I ended up with **may** be close, it seems to calculate the permutations and not the combinations.  Let's look at the book solution."
   ]
  },
  {
   "cell_type": "markdown",
   "metadata": {},
   "source": [
    "### More remarks, Yes the book solution is awful."
   ]
  },
  {
   "cell_type": "code",
   "execution_count": null,
   "metadata": {
    "collapsed": true
   },
   "outputs": [],
   "source": [
    "def num_combinations_for_final_score(final_score, individual_play_scores):\n",
    "    num_combinations_for_score = [[1] + [0] * final_score for _ in individual_play_scores]\n",
    "    "
   ]
  },
  {
   "cell_type": "code",
   "execution_count": 6,
   "metadata": {},
   "outputs": [
    {
     "data": {
      "text/plain": [
       "8"
      ]
     },
     "execution_count": 6,
     "metadata": {},
     "output_type": "execute_result"
    }
   ],
   "source": [
    "def fibonacci(n, cache={}):\n",
    "    if n <= 1:\n",
    "        return n\n",
    "    elif n not in cache:\n",
    "        cache[n] = fibonacci(n - 1) + fibonacci(n - 2)\n",
    "    return cache[n]\n",
    "\n",
    "fibonacci(6)"
   ]
  },
  {
   "cell_type": "code",
   "execution_count": 7,
   "metadata": {},
   "outputs": [
    {
     "data": {
      "text/plain": [
       "55"
      ]
     },
     "execution_count": 7,
     "metadata": {},
     "output_type": "execute_result"
    }
   ],
   "source": [
    "def fib2(n):\n",
    "    if n <=1:\n",
    "        return n\n",
    "    \n",
    "    f_minus_2, f_minus_1 = 0, 1\n",
    "    for _ in range(1, n):\n",
    "        f = f_minus_2 + f_minus_1\n",
    "        f_minus_2, f_minus_1 = f_minus_1, f\n",
    "    return f_minus_1\n",
    "\n",
    "fib2(10)"
   ]
  },
  {
   "cell_type": "code",
   "execution_count": 15,
   "metadata": {},
   "outputs": [
    {
     "data": {
      "text/plain": [
       "5"
      ]
     },
     "execution_count": 15,
     "metadata": {},
     "output_type": "execute_result"
    }
   ],
   "source": [
    "from itertools import accumulate\n",
    "def find_max_subarray(A):\n",
    "    min_sum = max_sum = 0\n",
    "    for running_sum in accumulate(A):\n",
    "        min_sum = min(min_sum, running_sum)\n",
    "        max_sum = max(max_sum, running_sum - min_sum)\n",
    "    return max_sum\n",
    "\n",
    "A = [5, -4, 3]\n",
    "find_max_subarray(A)"
   ]
  },
  {
   "cell_type": "code",
   "execution_count": null,
   "metadata": {
    "collapsed": true
   },
   "outputs": [],
   "source": []
  }
 ],
 "metadata": {
  "kernelspec": {
   "display_name": "Python 3",
   "language": "python",
   "name": "python3"
  },
  "language_info": {
   "codemirror_mode": {
    "name": "ipython",
    "version": 3
   },
   "file_extension": ".py",
   "mimetype": "text/x-python",
   "name": "python",
   "nbconvert_exporter": "python",
   "pygments_lexer": "ipython3",
   "version": "3.6.1"
  }
 },
 "nbformat": 4,
 "nbformat_minor": 2
}
