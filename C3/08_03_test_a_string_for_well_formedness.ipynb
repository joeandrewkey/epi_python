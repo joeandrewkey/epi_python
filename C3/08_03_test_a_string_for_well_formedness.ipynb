{
 "cells": [
  {
   "cell_type": "markdown",
   "metadata": {},
   "source": [
    "## 08_03 Test a string for well-formedness\n",
    "\n",
    "A string over the characters ```[,],(,),{,}``` is said to be well-formed if the different types of brackets match in the correct order.\n",
    "\n",
    "For example ```([]){()}``` is well-formed, as is ```[()[]{()()}]```.\n",
    "\n",
    "However, ```{)``` and ```[()[]{()()``` are not well-formed."
   ]
  },
  {
   "cell_type": "code",
   "execution_count": 6,
   "metadata": {},
   "outputs": [
    {
     "name": "stdout",
     "output_type": "stream",
     "text": [
      "Input String:                , Result: 1     \n",
      "Input String: ([]){()}       , Result: 1     \n",
      "Input String: [()[]{()()}]   , Result: 1     \n",
      "Input String: {)             , Result: 0     \n",
      "Input String: [()[]{()()     , Result: 0     \n"
     ]
    }
   ],
   "source": [
    "class Solution:\n",
    "    \"\"\"Solution\"\"\"\n",
    "    def __init__(self, input_string):\n",
    "        \"\"\"Constructor\"\"\"\n",
    "        self.stack = []\n",
    "        self.input_string = input_string\n",
    "\n",
    "    def solve(self):\n",
    "        left_2_right = {\n",
    "            '[': ']', '(': ')', '{': '}'\n",
    "        }\n",
    "        keys = left_2_right.keys()\n",
    "        vals = [left_2_right[k] for k in keys]\n",
    "        \n",
    "        for char in self.input_string:\n",
    "            if char in keys:\n",
    "                self.stack.append(char)\n",
    "            elif char in vals:\n",
    "                if len(self.stack) == 0:\n",
    "                    return False\n",
    "                x = self.stack.pop()\n",
    "                if char != left_2_right[x]:\n",
    "                    return False\n",
    "        if len(self.stack) != 0:\n",
    "            return False\n",
    "        return True\n",
    "\n",
    "tests = [\"\", \"([]){()}\", \"[()[]{()()}]\", \"{)\", \"[()[]{()()\"]\n",
    "for test in tests:\n",
    "    result = Solution(test).solve()\n",
    "    print(f\"Input String: {test:<15}, Result: {result:<6}\")"
   ]
  },
  {
   "cell_type": "markdown",
   "metadata": {},
   "source": [
    "### Analysis\n",
    "\n",
    "Time complexity $ O(n) $\n",
    "\n",
    "For each character in the input string of length n, we determine through a lookup of $ O(1) $ whether it is a left bracket or a right bracket.  We push or pop in $ O(1) $ time depending upon the stack operation we need.\n",
    "\n",
    "\n",
    "Space complexity $ O(1) $\n",
    "\n",
    "We need a small and constant amount of space for the **left_2_right** dictionary, and a few small temporary variables which are re-used, **char**, **keys**, **vals**, and **x**.  These variables are in no way tied to the size of $ n $."
   ]
  },
  {
   "cell_type": "code",
   "execution_count": null,
   "metadata": {},
   "outputs": [],
   "source": []
  }
 ],
 "metadata": {
  "kernelspec": {
   "display_name": "Python (epi)",
   "language": "python",
   "name": "epi"
  },
  "language_info": {
   "codemirror_mode": {
    "name": "ipython",
    "version": 3
   },
   "file_extension": ".py",
   "mimetype": "text/x-python",
   "name": "python",
   "nbconvert_exporter": "python",
   "pygments_lexer": "ipython3",
   "version": "3.7.1"
  }
 },
 "nbformat": 4,
 "nbformat_minor": 2
}
