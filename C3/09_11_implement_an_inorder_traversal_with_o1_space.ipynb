{
 "cells": [
  {
   "cell_type": "markdown",
   "metadata": {},
   "source": [
    "## Chapter 09 / Problem 11 - Implement and inorder traversal with O(1) space\n",
    "\n",
    "### Problem Statement\n",
    "\n",
    "The direct implementation of an inorder traversal using recursion has $ O(h) $ space complexity, where **h** is the height of the tree.  Recursion can be removed with an explicit stack, but the space complexity remains $ O(h) $.\n",
    "\n",
    "Write a nonrecursive program for computing the inorder traversal sequence for a binary tree.  Assume nodes have parent fields.\n",
    "\n",
    "***Hint:*** *How can you tell whether a node is a left child or right child of its parent?*\n",
    "\n",
    "###  Subclassing binarytree.Node\n",
    "\n",
    "I like being able to show a diagram of my tree, and [binarytree](https://anaconda.org/conda-forge/binarytree) provides that for us.  \n",
    "\n",
    "However, we need to subclass Node, so that there is also a **parent** pointer for us to work with."
   ]
  },
  {
   "cell_type": "code",
   "execution_count": 1,
   "metadata": {},
   "outputs": [],
   "source": [
    "from binarytree import Node\n",
    "\n",
    "\n",
    "class PNodeTypeError(Exception):\n",
    "    \"\"\"Wrong type error\"\"\"\n",
    "\n",
    "\n",
    "class PNode(Node):\n",
    "    \"\"\"Subclass of binaryTree.Node\"\"\"\n",
    "    def __init__(self, value, left=None, right=None, parent=None):\n",
    "        Node.__init__(self, value, left=left, right=right)\n",
    "        self.parent = parent\n",
    "\n",
    "    def __setattr__(self, attr, obj):\n",
    "        Node.__setattr__(self, attr, obj)\n",
    "        if attr in ['left', 'right'] and obj is not None:\n",
    "            obj.parent = self\n",
    "        elif attr == 'parent':\n",
    "            if obj is not None and not isinstance(obj, PNode):\n",
    "                raise PNodeTypeError('Must set parent to a PNode or None')"
   ]
  },
  {
   "cell_type": "markdown",
   "metadata": {},
   "source": [
    "### Now let's build our tree"
   ]
  },
  {
   "cell_type": "code",
   "execution_count": 2,
   "metadata": {},
   "outputs": [],
   "source": [
    "tree = PNode(5)\n",
    "tree.left = PNode(2)\n",
    "tree.right = PNode(7)\n",
    "tree.right.right = PNode(8)\n",
    "tree.right.left = PNode(6)\n",
    "tree.left.right = PNode(3)\n",
    "tree.left.right.right = PNode(4)\n",
    "tree.left.left = PNode(1)"
   ]
  },
  {
   "cell_type": "markdown",
   "metadata": {},
   "source": [
    "### Let's visualize the tree"
   ]
  },
  {
   "cell_type": "code",
   "execution_count": 3,
   "metadata": {},
   "outputs": [
    {
     "name": "stdout",
     "output_type": "stream",
     "text": [
      "\n",
      "    ____5__\n",
      "   /       \\\n",
      "  2         7\n",
      " / \\       / \\\n",
      "1   3     6   8\n",
      "     \\\n",
      "      4\n",
      "\n"
     ]
    }
   ],
   "source": [
    "print(tree)"
   ]
  },
  {
   "cell_type": "markdown",
   "metadata": {},
   "source": [
    "### So an inorder traversal goes like this\n",
    "\n",
    "1.  Traverse the left-subtree (recursive)\n",
    "2.  Traverse the root\n",
    "3.  Traverse the right-subtree (recursive)\n",
    "\n",
    "So in our example, we want the following traversal\n",
    "\n",
    "```1 - 2 - 3 - 4 - 5 - 6 - 7 - 8```\n",
    "\n",
    "But we **cannot use recursion**, nor can we use an explicit stack.\n",
    "\n",
    "So here's the approach, using a **trailing object reference**\n",
    "### Until you have completely traversed the tree\n",
    "#### if your previous node was a PARENT\n",
    "1.  if you can go to the left\n",
    "    * go to the left\n",
    "2.  if you cannot go to the left\n",
    "    * write out the value\n",
    "    * go to the first available of right or parent\n",
    "\n",
    "\n",
    "####  else if your previous node was a LEFT\n",
    "1.  write out the value\n",
    "2.  go to the first available of right or parent\n",
    "\n",
    "\n",
    "####  for anything else (i.e. previous node was RIGHT)\n",
    "1.  go the parent\n",
    "\n"
   ]
  },
  {
   "cell_type": "code",
   "execution_count": 4,
   "metadata": {},
   "outputs": [],
   "source": [
    "def solve(root):\n",
    "    \"\"\"This makes use of the special *or* and *is* functions\n",
    "        *or* is used to get the first non-None value\n",
    "        *is* is used for object memory address equality\n",
    "    \"\"\"\n",
    "    prev, result = None, []\n",
    "    while root:\n",
    "        if prev is root.parent:             # last node was the parent\n",
    "            if root.left:                       \n",
    "                next = root.left                    \n",
    "            else:                               \n",
    "                result.append(root.value)           \n",
    "                next = root.right or root.parent    \n",
    "        elif prev is root.left:             # last node was left\n",
    "            result.append(root.value)           \n",
    "            next = root.right or root.parent        \n",
    "        elif prev is root.right:            # last node was right\n",
    "            next = root.parent                  \n",
    "\n",
    "        # keep track of previously visited node\n",
    "        prev, root = root, next\n",
    "        \n",
    "    return result\n",
    "\n",
    "def report(label, tree):\n",
    "    print(f\"{label}:\\n{tree}\\n traversal: {solve(tree)}\")"
   ]
  },
  {
   "cell_type": "code",
   "execution_count": 5,
   "metadata": {},
   "outputs": [
    {
     "name": "stdout",
     "output_type": "stream",
     "text": [
      "example tree:\n",
      "\n",
      "    ____5__\n",
      "   /       \\\n",
      "  2         7\n",
      " / \\       / \\\n",
      "1   3     6   8\n",
      "     \\\n",
      "      4\n",
      "\n",
      " traversal: [1, 2, 3, 4, 5, 6, 7, 8]\n"
     ]
    }
   ],
   "source": [
    "report(\"example tree\", tree)"
   ]
  },
  {
   "cell_type": "markdown",
   "metadata": {},
   "source": [
    "### Let's try a narrow tree that slants to the left"
   ]
  },
  {
   "cell_type": "code",
   "execution_count": 6,
   "metadata": {},
   "outputs": [
    {
     "name": "stdout",
     "output_type": "stream",
     "text": [
      "left-leaning tree:\n",
      "\n",
      "        1\n",
      "       /\n",
      "      2\n",
      "     /\n",
      "    3\n",
      "   /\n",
      "  4\n",
      " /\n",
      "5\n",
      "\n",
      " traversal: [5, 4, 3, 2, 1]\n"
     ]
    }
   ],
   "source": [
    "tree = PNode(1)\n",
    "tree.left = PNode(2)\n",
    "tree.left.left = PNode(3)\n",
    "tree.left.left.left = PNode(4)\n",
    "tree.left.left.left.left = PNode(5)\n",
    "\n",
    "report(\"left-leaning tree\", tree)"
   ]
  },
  {
   "cell_type": "markdown",
   "metadata": {},
   "source": [
    "### Left-leaning results\n",
    "\n",
    "You can see that the left-most nodes come first in our inorder traversal."
   ]
  },
  {
   "cell_type": "markdown",
   "metadata": {},
   "source": [
    "### Let's try a narrow tree that slants to the right"
   ]
  },
  {
   "cell_type": "code",
   "execution_count": 7,
   "metadata": {},
   "outputs": [
    {
     "name": "stdout",
     "output_type": "stream",
     "text": [
      "right-leaning tree:\n",
      "\n",
      "1\n",
      " \\\n",
      "  2\n",
      "   \\\n",
      "    3\n",
      "     \\\n",
      "      4\n",
      "       \\\n",
      "        5\n",
      "\n",
      " traversal: [1, 2, 3, 4, 5]\n"
     ]
    }
   ],
   "source": [
    "tree = PNode(1)\n",
    "tree.right = PNode(2)\n",
    "tree.right.right = PNode(3)\n",
    "tree.right.right.right = PNode(4)\n",
    "tree.right.right.right.right = PNode(5)\n",
    "\n",
    "report(\"right-leaning tree\", tree)"
   ]
  },
  {
   "cell_type": "markdown",
   "metadata": {},
   "source": [
    "### Right-leaning results\n",
    "\n",
    "You can see that the left-most nodes **still** come first in our inorder traversal."
   ]
  },
  {
   "cell_type": "markdown",
   "metadata": {},
   "source": [
    "### Let's try a jagged tree"
   ]
  },
  {
   "cell_type": "code",
   "execution_count": 8,
   "metadata": {},
   "outputs": [
    {
     "name": "stdout",
     "output_type": "stream",
     "text": [
      "jagged tree:\n",
      "\n",
      "  ______1\n",
      " /       \\\n",
      "2____     6\n",
      "     \\\n",
      "    __3\n",
      "   /\n",
      "  4\n",
      "   \\\n",
      "    5\n",
      "\n",
      " traversal: [2, 4, 5, 3, 1, 6]\n"
     ]
    }
   ],
   "source": [
    "tree = PNode(1)\n",
    "tree.left = PNode(2)\n",
    "tree.left.right = PNode(3)\n",
    "tree.left.right.left = PNode(4)\n",
    "tree.left.right.left.right = PNode(5)\n",
    "tree.right = PNode(6)\n",
    "\n",
    "report(\"jagged tree\", tree)"
   ]
  },
  {
   "cell_type": "markdown",
   "metadata": {},
   "source": [
    "### Jagged results\n",
    "\n",
    "**Yet again** the left-most nodes **still** come first in our inorder traversal.\n",
    "\n",
    "We can visually see the pattern that will help us remember inorder traversals."
   ]
  },
  {
   "cell_type": "markdown",
   "metadata": {},
   "source": [
    "### Complexity Analysis\n",
    "\n",
    "| Feature           | Complexity      |\n",
    "|  :-----------:    | :------------:  |\n",
    "|  Time             | $ O(n) $        |\n",
    "|  Additional Space | $ O(1) $        |"
   ]
  }
 ],
 "metadata": {
  "kernelspec": {
   "display_name": "Python (epi)",
   "language": "python",
   "name": "epi"
  },
  "language_info": {
   "codemirror_mode": {
    "name": "ipython",
    "version": 3
   },
   "file_extension": ".py",
   "mimetype": "text/x-python",
   "name": "python",
   "nbconvert_exporter": "python",
   "pygments_lexer": "ipython3",
   "version": "3.7.1"
  }
 },
 "nbformat": 4,
 "nbformat_minor": 2
}
