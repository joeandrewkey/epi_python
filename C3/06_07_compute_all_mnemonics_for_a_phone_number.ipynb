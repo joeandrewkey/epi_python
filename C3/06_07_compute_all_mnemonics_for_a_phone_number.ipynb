{
 "cells": [
  {
   "cell_type": "markdown",
   "metadata": {
    "toc": true
   },
   "source": [
    "<h1>Table of Contents<span class=\"tocSkip\"></span></h1>\n",
    "<div class=\"toc\"><ul class=\"toc-item\"><li><span><a href=\"#06_07-Compute-all-mnemonics-for-a-phone-number\" data-toc-modified-id=\"06_07-Compute-all-mnemonics-for-a-phone-number-1\">06_07 Compute all mnemonics for a phone number</a></span></li><li><span><a href=\"#My-first-attempt\" data-toc-modified-id=\"My-first-attempt-2\">My first attempt</a></span></li><li><span><a href=\"#Testing\" data-toc-modified-id=\"Testing-3\">Testing</a></span></li><li><span><a href=\"#Remarks:\" data-toc-modified-id=\"Remarks:-4\">Remarks:</a></span></li><li><span><a href=\"#Book-solution\" data-toc-modified-id=\"Book-solution-5\">Book solution</a></span></li><li><span><a href=\"#Conclusion\" data-toc-modified-id=\"Conclusion-6\">Conclusion</a></span></li></ul></div>"
   ]
  },
  {
   "cell_type": "markdown",
   "metadata": {},
   "source": [
    "## 06_07 Compute all mnemonics for a phone number\n",
    "\n",
    "Each digit, apart from 0 and 1, in a phone keypad corresponds to one of three or four letters of the alphabet, as shown in Figure 6.1 on the next page.  Since words are easier to remember than numbers, it is natural to ask if a 7 or 10-digit phone number can be represented by a word.  For example, \"2276696\" corresponds to \"ACRONYM\" as well as \"ABPOMZN\".\n",
    "\n",
    "\n",
    "| **Digit** | **Letter**|\n",
    "| :-: | :-: |\n",
    "| 1 | |\n",
    "| 2 | ABC |\n",
    "| 3 | DEF |\n",
    "| 4 | GHI |\n",
    "| 5 | JKL |\n",
    "| 6 | MNO |\n",
    "| 7 | PQRS |\n",
    "| 8 | TUV |\n",
    "| 9 | WXYZ |\n",
    "| 0 | |\n",
    "\n"
   ]
  },
  {
   "cell_type": "markdown",
   "metadata": {},
   "source": [
    "## My first attempt"
   ]
  },
  {
   "cell_type": "code",
   "execution_count": 4,
   "metadata": {},
   "outputs": [],
   "source": [
    "lookup = {\n",
    "    \"2\": \"ABC\", \"3\": \"DEF\", \"4\": \"GHI\",\n",
    "    \"5\": \"JKL\", \"6\": \"MNO\", \"7\": \"PQRS\",\n",
    "    \"8\": \"TUV\", \"9\": \"WXYZ\",\n",
    "}\n",
    "\n",
    "for k in lookup:\n",
    "    lookup[k] = [c for c in lookup[k]]\n",
    "\n",
    "from collections import deque\n",
    "import re\n",
    "\n",
    "def is_solved(my_string):\n",
    "    solved, unsolved = splitter(my_string)\n",
    "    if unsolved is None:\n",
    "        return True\n",
    "    return False\n",
    "\n",
    "def splitter(my_string):\n",
    "    pattern = \"^([^2-9]*)([2-9]+.*)$\"\n",
    "    x = re.compile(pattern)   \n",
    "    if x.match(my_string):\n",
    "        solved = x.match(my_string)[1]\n",
    "        unsolved = x.match(my_string)[2]\n",
    "        return solved, unsolved\n",
    "    else:\n",
    "        return my_string, None\n",
    "\n",
    "def naive_solution(unsolved, solved):\n",
    "    item = unsolved.popleft()\n",
    "    h, t = splitter(item)\n",
    "    if t is not None:\n",
    "        expansions = lookup[t[0]]\n",
    "        remainder = t[1:]\n",
    "        for x in expansions:\n",
    "            candidate = h + x + remainder\n",
    "            if is_solved(candidate):\n",
    "                solved.append(candidate)\n",
    "            else:\n",
    "                unsolved.append(candidate)\n",
    "    else:\n",
    "        solved.append(h)\n",
    "\n"
   ]
  },
  {
   "cell_type": "markdown",
   "metadata": {},
   "source": [
    "## Testing"
   ]
  },
  {
   "cell_type": "code",
   "execution_count": 5,
   "metadata": {},
   "outputs": [
    {
     "name": "stdout",
     "output_type": "stream",
     "text": [
      "AssertionError: '' is not a valid phone number.\n",
      "1 solution(s) for ''\n",
      "1 solution(s) for '1'\n",
      "3 solution(s) for '2'\n",
      "1 solution(s) for '10'\n",
      "3 solution(s) for '103'\n",
      "AssertionError: '' is not a valid phone number.\n",
      "1 solution(s) for ''\n",
      "9 solution(s) for '22'\n",
      "1024 solution(s) for '77777'\n",
      "1048576 solution(s) for '7777777777'\n",
      "1 solution(s) for '1111111111'\n"
     ]
    }
   ],
   "source": [
    "# Testing\n",
    "def test_naive_solution():\n",
    "    phone_numbers = [\"\", \"1\", \"2\", \"10\", \"103\", \"\", \"22\", \"77777\", \"7777777777\", \"1111111111\"]\n",
    "    phone_pattern = re.compile(\"^[0-9]+$\")\n",
    "\n",
    "    for phone_number in phone_numbers:\n",
    "        try:\n",
    "            if not phone_pattern.match(phone_number):\n",
    "                raise AssertionError(f\"AssertionError: '{phone_number}' is not a valid phone number.\")\n",
    "        except AssertionError as a:\n",
    "            print(a)\n",
    "\n",
    "        unsolved, solved = deque(''), deque('')\n",
    "        unsolved.append(phone_number)\n",
    "        while len(unsolved) != 0:\n",
    "            naive_solution(unsolved, solved)\n",
    "        print(f\"{len(list(solved))} solution(s) for '{phone_number}'\")\n",
    "        \n",
    "test_naive_solution()"
   ]
  },
  {
   "cell_type": "markdown",
   "metadata": {},
   "source": [
    "## Remarks:\n",
    "\n",
    "Time complexity is $ O(4^n) $, where n is the number of digits in the phone number.\n",
    "Additional space complexity is $ 0(4^n) $ where n is the number of digits in the phone number.\n",
    "\n",
    "This was a naive approach, and it could be quickened by calculating the expansions for groups of digits and storing those into different dictionaries."
   ]
  },
  {
   "cell_type": "markdown",
   "metadata": {},
   "source": [
    "## Book solution"
   ]
  },
  {
   "cell_type": "code",
   "execution_count": 6,
   "metadata": {},
   "outputs": [
    {
     "name": "stdout",
     "output_type": "stream",
     "text": [
      "AssertionError: '' is not a valid phone number.\n",
      "1 solution(s) for ''\n",
      "1 solution(s) for '1'\n",
      "3 solution(s) for '2'\n",
      "1 solution(s) for '10'\n",
      "3 solution(s) for '103'\n",
      "AssertionError: '' is not a valid phone number.\n",
      "1 solution(s) for ''\n",
      "9 solution(s) for '22'\n",
      "1024 solution(s) for '77777'\n",
      "1048576 solution(s) for '7777777777'\n",
      "1 solution(s) for '1111111111'\n"
     ]
    }
   ],
   "source": [
    "MAPPING = ('0', '1', 'ABC', 'DEF', 'GHI', 'JKL', 'MNO', 'PQRS', 'TUV', 'WXYZ')\n",
    "\n",
    "def book_solution(phone_number):\n",
    "    def phone_mnemonic_helper(digit):\n",
    "        if digit == len(phone_number):\n",
    "            # All digits are processed, so add partial mnemonic to mnemonics.\n",
    "            # (We add a copy since subsequent calls modify partial_mnemonic.)\n",
    "            mnemonics.append(''.join(partial_mnemonic))\n",
    "        else:\n",
    "            # Try all possible characters for this digit.\n",
    "            for c in MAPPING[int(phone_number[digit])]:\n",
    "                partial_mnemonic[digit] = c\n",
    "                phone_mnemonic_helper(digit + 1)\n",
    "                \n",
    "    mnemonics, partial_mnemonic = [], [0] * len(phone_number)\n",
    "    phone_mnemonic_helper(0)\n",
    "    return mnemonics\n",
    "\n",
    "# Testing\n",
    "def test_book_solution():\n",
    "    phone_numbers = [\"\", \"1\", \"2\", \"10\", \"103\", \"\", \"22\", \"77777\", \"7777777777\", \"1111111111\"]\n",
    "    phone_pattern = re.compile(\"^[0-9]+$\")\n",
    "\n",
    "    for phone_number in phone_numbers:\n",
    "        mnemonics = []\n",
    "        try:\n",
    "            if not phone_pattern.match(phone_number):\n",
    "                raise AssertionError(f\"AssertionError: '{phone_number}' is not a valid phone number.\")\n",
    "        except AssertionError as a:\n",
    "            print(a)\n",
    "\n",
    "        mnemonics = book_solution(phone_number)\n",
    "        print(f\"{len(list(mnemonics))} solution(s) for '{phone_number}'\")\n",
    "        \n",
    "test_book_solution()"
   ]
  },
  {
   "cell_type": "markdown",
   "metadata": {},
   "source": [
    "## Conclusion\n",
    "\n",
    "Running the book solution seems to be much faster, probably due to not needing to allocate so much space for the **solved** and **unsolved** queues.  Everything is handled with the **partial_mnemonic** variable."
   ]
  },
  {
   "cell_type": "code",
   "execution_count": null,
   "metadata": {},
   "outputs": [],
   "source": []
  }
 ],
 "metadata": {
  "kernelspec": {
   "display_name": "Python 3",
   "language": "python",
   "name": "python3"
  },
  "language_info": {
   "codemirror_mode": {
    "name": "ipython",
    "version": 3
   },
   "file_extension": ".py",
   "mimetype": "text/x-python",
   "name": "python",
   "nbconvert_exporter": "python",
   "pygments_lexer": "ipython3",
   "version": "3.6.7"
  },
  "toc": {
   "base_numbering": 1,
   "nav_menu": {},
   "number_sections": false,
   "sideBar": true,
   "skip_h1_title": false,
   "title_cell": "Table of Contents",
   "title_sidebar": "Contents",
   "toc_cell": true,
   "toc_position": {},
   "toc_section_display": true,
   "toc_window_display": false
  }
 },
 "nbformat": 4,
 "nbformat_minor": 2
}
