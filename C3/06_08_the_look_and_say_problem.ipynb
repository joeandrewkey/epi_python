{
 "cells": [
  {
   "cell_type": "markdown",
   "metadata": {
    "collapsed": true
   },
   "source": [
    "# 06_08 The Look and Say Problem\n",
    "\n",
    "The look-and-say sequence starts with 1.  Subsequent numbers are derived by describing the previous number in terms of consecutive digits.  Specificially, to generate an entry of the sequence from the previous entry, read off the digits of the previous entry, counting the number of digits in the groups of the same digit.  For example, 1; one 1; two 1s; one 2 then one 1, etc.\n",
    "\n",
    "The first eight numbers in the look-and-say sequence are:\n",
    "<1, 11, 21, 1211, 111221, 312211, 13112221, 1113213211]\n",
    "\n",
    "Write a program that takes as input an integer n and returns the nth integer in the look-and-say sequence.  Return the result as a string\n",
    "\n",
    "*Hint*: You need to return the result as a string."
   ]
  },
  {
   "cell_type": "code",
   "execution_count": 1,
   "metadata": {},
   "outputs": [],
   "source": [
    "def look_and_say(n):\n",
    "    input_string = '1'\n",
    "    while len(input_string) < n:\n",
    "        new_string = []\n",
    "        counter = 0\n",
    "        last_char = input_string[0]\n",
    "        for char in input_string:\n",
    "            if char == last_char:\n",
    "                counter += 1\n",
    "            else:\n",
    "                new_string.append(str(counter))\n",
    "                new_string.append(last_char)\n",
    "                counter = 1\n",
    "                last_char = char\n",
    "        new_string.append(str(counter))\n",
    "        new_string.append(last_char)\n",
    "        input_string = \"\".join(new_string)\n",
    "    print(f\"Entire string: {input_string}\")\n",
    "    print(f\"Character {n}: {input_string[n - 1]}\")\n",
    "    return input_string[n - 1]\n"
   ]
  },
  {
   "cell_type": "code",
   "execution_count": 2,
   "metadata": {},
   "outputs": [
    {
     "name": "stdout",
     "output_type": "stream",
     "text": [
      "Entire string: 13112221\n",
      "Character 7: 2\n"
     ]
    },
    {
     "data": {
      "text/plain": [
       "'2'"
      ]
     },
     "execution_count": 2,
     "metadata": {},
     "output_type": "execute_result"
    }
   ],
   "source": [
    "look_and_say(7)"
   ]
  },
  {
   "cell_type": "markdown",
   "metadata": {},
   "source": [
    "## Analysis of Solution\n",
    "\n",
    "Runtime Complexity: $ O(n) $\n",
    "    \n",
    "Ancillary Storage: $ O(n) $"
   ]
  }
 ],
 "metadata": {
  "kernelspec": {
   "display_name": "Python (epi)",
   "language": "python",
   "name": "epi"
  },
  "language_info": {
   "codemirror_mode": {
    "name": "ipython",
    "version": 3
   },
   "file_extension": ".py",
   "mimetype": "text/x-python",
   "name": "python",
   "nbconvert_exporter": "python",
   "pygments_lexer": "ipython3",
   "version": "3.7.1"
  }
 },
 "nbformat": 4,
 "nbformat_minor": 1
}
