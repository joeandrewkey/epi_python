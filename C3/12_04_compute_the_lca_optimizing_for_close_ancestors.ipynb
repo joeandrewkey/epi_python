{
 "cells": [
  {
   "cell_type": "markdown",
   "metadata": {},
   "source": [
    "## Chapter 12 / Problem 4\n",
    "\n",
    "Design an algorithm for computing the LCA of two nodes in a binary tree.  The algorithm's time complexity should depend only on the distance from the nodes to the LCA.\n",
    "\n",
    "***Hint***: *Focus on the extreme case described in the problem introduction*\n",
    "\n",
    "### The binary tree node with parent class"
   ]
  },
  {
   "cell_type": "code",
   "execution_count": 1,
   "metadata": {},
   "outputs": [],
   "source": [
    "from binarytree import Node\n",
    "\n",
    "class PNodeTypeError(Exception):\n",
    "    \"\"\"Wrong type error\"\"\"\n",
    "\n",
    "\n",
    "class PNode(Node):\n",
    "    \"\"\"Subclass of binaryTree.Node\"\"\"\n",
    "    def __init__(self, value, left=None, right=None, parent=None):\n",
    "        Node.__init__(self, value, left=left, right=right)\n",
    "        self.parent = parent\n",
    "\n",
    "    def __setattr__(self, attr, obj):\n",
    "        Node.__setattr__(self, attr, obj)\n",
    "        if attr in ['left', 'right'] and obj is not None:\n",
    "            obj.parent = self\n",
    "        elif attr == 'parent':\n",
    "            if obj is not None and not isinstance(obj, PNode):\n",
    "                raise PNodeTypeError('Must set parent to a PNode or None')"
   ]
  },
  {
   "cell_type": "markdown",
   "metadata": {},
   "source": [
    "### My solution"
   ]
  },
  {
   "cell_type": "code",
   "execution_count": 2,
   "metadata": {},
   "outputs": [],
   "source": [
    "NOT_IN_SAME_TREE = PNode(-1)\n",
    "class Solution:\n",
    "    \"\"\"Class containing the solution\"\"\"\n",
    "    \n",
    "    def __init__(self, node_1, node_2):\n",
    "        \"\"\"Sets up an empty dict of ancestors and two node pointers\"\"\"\n",
    "        self.node_1 = node_1\n",
    "        self.node_2 = node_2\n",
    "        self.ancestors = set()\n",
    "\n",
    "    def solve(self):\n",
    "        \"\"\"Solves the problem\"\"\"\n",
    "        node_1 = self.node_1\n",
    "        node_2 = self.node_2\n",
    "        ancestors = self.ancestors\n",
    "\n",
    "        while node_1 or node_2:\n",
    "            if node_1:\n",
    "                if node_1 not in ancestors:\n",
    "                    ancestors.add(node_1)\n",
    "                else:\n",
    "                    return node_1\n",
    "                node_1 = node_1.parent\n",
    "\n",
    "            if node_2:\n",
    "                if node_2 not in ancestors:\n",
    "                    ancestors.add(node_2)\n",
    "                else:\n",
    "                    return node_2\n",
    "                node_2 = node_2.parent\n",
    "\n",
    "        return NOT_IN_SAME_TREE"
   ]
  },
  {
   "cell_type": "markdown",
   "metadata": {},
   "source": [
    "### Testing"
   ]
  },
  {
   "cell_type": "code",
   "execution_count": 3,
   "metadata": {},
   "outputs": [],
   "source": [
    "tree = PNode(5)\n",
    "tree.left = PNode(4)\n",
    "tree.right = PNode(9)\n",
    "tree.right.left = PNode(7)\n",
    "tree.right.right = PNode(10)\n",
    "tree.right.left.right = PNode(8)\n",
    "tree.right.left.left = PNode(6)\n",
    "\n",
    "other_tree = PNode(5)\n",
    "other_tree.left = PNode(3)\n",
    "other_tree.right = PNode(8)\n"
   ]
  },
  {
   "cell_type": "code",
   "execution_count": 4,
   "metadata": {},
   "outputs": [
    {
     "name": "stdout",
     "output_type": "stream",
     "text": [
      "tree: \n",
      "  5______\n",
      " /       \\\n",
      "4       __9\n",
      "       /   \\\n",
      "      7     10\n",
      "     / \\\n",
      "    6   8\n",
      "\n",
      "other_tree: \n",
      "  5\n",
      " / \\\n",
      "3   8\n",
      "\n"
     ]
    }
   ],
   "source": [
    "print(f\"tree: {tree}\\nother_tree: {other_tree}\")"
   ]
  },
  {
   "cell_type": "code",
   "execution_count": 5,
   "metadata": {},
   "outputs": [
    {
     "name": "stdout",
     "output_type": "stream",
     "text": [
      "Node 1:    4, Node 2:    9, LCA:    5\n",
      "Node 1:    5, Node 2:    9, LCA:    5\n",
      "Node 1:    5, Node 2:    7, LCA:    5\n",
      "Node 1:    7, Node 2:   10, LCA:    9\n",
      "Node 1:    4, Node 2:   10, LCA:    5\n",
      "Node 1:    6, Node 2:    8, LCA:    7\n",
      "Node 1:    5, Node 2:    5, LCA:  N/A\n"
     ]
    }
   ],
   "source": [
    "\n",
    "tests = [\n",
    "    (tree.left, tree.right, tree),\n",
    "    (tree, tree.right, tree),\n",
    "    (tree, tree.right.left, tree),\n",
    "    (tree.right.left, tree.right.right, tree.right),\n",
    "    (tree.left, tree.right.right, tree),\n",
    "    (tree.right.left.left, tree.right.left.right, tree.right.left),\n",
    "    (tree, other_tree, NOT_IN_SAME_TREE)\n",
    "]\n",
    "\n",
    "for left, right, expect in tests:\n",
    "    test = Solution(left, right)\n",
    "    answer = test.solve()\n",
    "    print(f\"Node 1: {left.value:>4}, Node 2: {right.value:>4}, \"\n",
    "          f\"LCA: {'N/A' if answer is NOT_IN_SAME_TREE else answer.value:>4}\")\n",
    "    assert answer is expect, \"Incorrect\""
   ]
  },
  {
   "cell_type": "markdown",
   "metadata": {},
   "source": [
    "### Analysis\n",
    "\n",
    "The runtime is $ O(h) $ where $ h $ is the distance from the deepest node to the LCA between both nodes.\n",
    "\n",
    "The auxilliary storage is $ O(h) $, since we are storing a set of nodes that we have traversed on the way to the LCA"
   ]
  }
 ],
 "metadata": {
  "kernelspec": {
   "display_name": "Python (epi)",
   "language": "python",
   "name": "epi"
  },
  "language_info": {
   "codemirror_mode": {
    "name": "ipython",
    "version": 3
   },
   "file_extension": ".py",
   "mimetype": "text/x-python",
   "name": "python",
   "nbconvert_exporter": "python",
   "pygments_lexer": "ipython3",
   "version": "3.7.1"
  }
 },
 "nbformat": 4,
 "nbformat_minor": 2
}
