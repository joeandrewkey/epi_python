{
 "cells": [
  {
   "cell_type": "markdown",
   "metadata": {},
   "source": [
    "## Chapter 11 / Problem 5 - Compute the Real Square Root\n",
    "\n",
    "Square root computations can be implemented using sophisticated numerical techniques involving iterative methods and logarithms.  However, if you were asked to implement a square root function, you would not be expected to know these techniques.\n",
    "\n",
    "Implement a function which takes as input a floating point value and returns its square root.\n",
    "\n",
    "**Hint**: *Iteratively compute a sequence of intervals, each contained in the previous interval, that contains the result.*"
   ]
  },
  {
   "cell_type": "code",
   "execution_count": 1,
   "metadata": {},
   "outputs": [],
   "source": [
    "from math import isclose, sqrt\n",
    "\n",
    "\n",
    "class Solution:\n",
    "    \"\"\"Finds the real square root\"\"\"\n",
    "    def __init__(self, my_float):\n",
    "        \"\"\"Initializes the instance\"\"\"\n",
    "        self.my_float = my_float\n",
    "\n",
    "    def solve(self, abs_tol=10**-1):\n",
    "        \"\"\"Solves the problem\"\"\"\n",
    "        if self.my_float == 0.0:\n",
    "            return 0.0\n",
    "        low, high = 0.0, self.my_float\n",
    "        s = 0.0\n",
    "        mid = 0.0\n",
    "        while high - low >= abs_tol:\n",
    "            mid = (high + low) / 2.0\n",
    "            s = mid * mid\n",
    "            if s == self.my_float:\n",
    "                return mid\n",
    "            elif s > self.my_float:\n",
    "                high = mid\n",
    "            else:\n",
    "                low = mid\n",
    "\n",
    "        return mid"
   ]
  },
  {
   "cell_type": "code",
   "execution_count": 2,
   "metadata": {},
   "outputs": [
    {
     "name": "stdout",
     "output_type": "stream",
     "text": [
      "Answer: 0.000000, Expected: 0.000000, Correct: True\n",
      "Answer: 0.999999, Expected: 1.000000, Correct: True\n",
      "Answer: 1.414214, Expected: 1.414214, Correct: True\n",
      "Answer: 1.732051, Expected: 1.732051, Correct: True\n",
      "Answer: 2.000000, Expected: 2.000000, Correct: True\n",
      "Answer: 2.236068, Expected: 2.236068, Correct: True\n",
      "Answer: 2.449490, Expected: 2.449490, Correct: True\n",
      "Answer: 2.645751, Expected: 2.645751, Correct: True\n",
      "Answer: 2.828427, Expected: 2.828427, Correct: True\n",
      "Answer: 3.000000, Expected: 3.000000, Correct: True\n"
     ]
    }
   ],
   "source": [
    "tests = [float(i) for i in range(10)]\n",
    "\n",
    "for my_input in tests:\n",
    "    t = Solution(my_input)\n",
    "    abs_tol = 10**-6  # our tolerance is 0.000001\n",
    "    answer = t.solve(abs_tol=abs_tol)\n",
    "    expected = sqrt(my_input)\n",
    "\n",
    "    correct = True if isclose(answer, expected, abs_tol=abs_tol) else False\n",
    "    \n",
    "    print(f\"Answer: {answer:2.6f}, Expected: {expected:2.6f}, \"\n",
    "          f\"Correct: {correct}\")"
   ]
  },
  {
   "cell_type": "markdown",
   "metadata": {},
   "source": [
    "### Analysis\n",
    "\n",
    "Runtime: $ O(log(n)) $\n",
    "\n",
    "Binary search.  The higher the input value and the smaller the tolerance, the greater the value of n\n",
    "\n",
    "Additional Storage: $ O(1) $\n",
    "\n",
    "We only use a few small floats to hold the midpoint of an interval and its square."
   ]
  }
 ],
 "metadata": {
  "kernelspec": {
   "display_name": "Python (epi)",
   "language": "python",
   "name": "epi"
  },
  "language_info": {
   "codemirror_mode": {
    "name": "ipython",
    "version": 3
   },
   "file_extension": ".py",
   "mimetype": "text/x-python",
   "name": "python",
   "nbconvert_exporter": "python",
   "pygments_lexer": "ipython3",
   "version": "3.7.1"
  }
 },
 "nbformat": 4,
 "nbformat_minor": 2
}
