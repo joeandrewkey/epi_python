{
 "cells": [
  {
   "cell_type": "markdown",
   "metadata": {},
   "source": [
    "## Chapter 11 / Problem 5 - Compute the Real Square Root\n",
    "\n",
    "Square root computations can be implemented using sophisticated numerical techniques involving iterative methods and logarithms.  However, if you were asked to implement a square root function, you would not be expected to know these techniques.\n",
    "\n",
    "Implement a function which takes as input a floating point value and returns its square root.\n",
    "\n",
    "**Hint**: *Iteratively compute a sequence of intervals, each contained in the previous interval, that contains the result.*"
   ]
  },
  {
   "cell_type": "code",
   "execution_count": 1,
   "metadata": {},
   "outputs": [],
   "source": [
    "from math import isclose, sqrt\n",
    "\n",
    "\n",
    "class Solution:\n",
    "    \"\"\"Finds the real square root\"\"\"\n",
    "    def __init__(self, my_float):\n",
    "        \"\"\"Initializes the instance\"\"\"\n",
    "        self.my_float = my_float\n",
    "\n",
    "    def solve(self, abs_tol=10**-1):\n",
    "        \"\"\"Solves the problem\"\"\"\n",
    "        low, high = 0.0, self.my_float\n",
    "        mid = (high + low) / 2.0\n",
    "        iterations = 0\n",
    "        while not isclose(high, low, abs_tol=abs_tol):\n",
    "            iterations += 1\n",
    "            mid = (high + low) / 2.0\n",
    "            s = mid * mid\n",
    "            if isclose(s, self.my_float, abs_tol=abs_tol):\n",
    "                return mid, iterations\n",
    "            elif s > self.my_float:\n",
    "                high = mid\n",
    "            else:\n",
    "                low = mid\n",
    "\n",
    "        return (mid, iterations)"
   ]
  },
  {
   "cell_type": "code",
   "execution_count": 2,
   "metadata": {},
   "outputs": [
    {
     "name": "stdout",
     "output_type": "stream",
     "text": [
      "Answer:     0.0000, Expected:     0.0000, iterations:   0, Correct: True\n",
      "Answer:     0.9990, Expected:     1.0000, iterations:  10, Correct: True\n",
      "Answer:     1.4141, Expected:     1.4142, iterations:   8, Correct: True\n",
      "Answer:     1.7322, Expected:     1.7321, iterations:  12, Correct: True\n",
      "Answer:     2.0000, Expected:     2.0000, iterations:   1, Correct: True\n",
      "Answer:     2.2357, Expected:     2.2361, iterations:  13, Correct: True\n",
      "Answer:     2.4500, Expected:     2.4495, iterations:  13, Correct: True\n",
      "Answer:     2.6464, Expected:     2.6458, iterations:  13, Correct: True\n",
      "Answer:     2.8291, Expected:     2.8284, iterations:  13, Correct: True\n",
      "Answer:     2.9998, Expected:     3.0000, iterations:  14, Correct: True\n",
      "Answer:     9.9998, Expected:    10.0000, iterations:  17, Correct: True\n",
      "Answer:    31.6229, Expected:    31.6228, iterations:  20, Correct: True\n"
     ]
    }
   ],
   "source": [
    "tests = [float(i) for i in range(10)]\n",
    "tests.append(100.0)\n",
    "tests.append(1000.0)\n",
    "\n",
    "for my_input in tests:\n",
    "    t = Solution(my_input)\n",
    "    abs_tol = 0.001\n",
    "    answer, iterations = t.solve(abs_tol=abs_tol)\n",
    "    expected = sqrt(my_input)\n",
    "\n",
    "    correct = True if isclose(answer, expected, abs_tol=abs_tol) else False\n",
    "    \n",
    "    print(f\"Answer: {answer:10.4f}, Expected: {expected:10.4f}, \"\n",
    "          f\"iterations: {iterations:3}, Correct: {correct}\")"
   ]
  },
  {
   "cell_type": "markdown",
   "metadata": {},
   "source": [
    "### Analysis\n",
    "\n",
    "Runtime: $ O(log_{2} n) $, where $ n = log_{10} \\frac{input}{tolerance} $\n",
    "\n",
    "For instance, if your $ input = 1000, tolerance = 0.001 $ then $ n = log_{2} 1000 / 0.001 = log_{2} 1000000 \\approx 20 $\n",
    "\n",
    "Additional Storage: $ O(1) $\n",
    "\n",
    "We only use a few small floats to hold the midpoint of an interval and its square."
   ]
  }
 ],
 "metadata": {
  "kernelspec": {
   "display_name": "Python (epi)",
   "language": "python",
   "name": "epi"
  },
  "language_info": {
   "codemirror_mode": {
    "name": "ipython",
    "version": 3
   },
   "file_extension": ".py",
   "mimetype": "text/x-python",
   "name": "python",
   "nbconvert_exporter": "python",
   "pygments_lexer": "ipython3",
   "version": "3.7.1"
  }
 },
 "nbformat": 4,
 "nbformat_minor": 2
}
