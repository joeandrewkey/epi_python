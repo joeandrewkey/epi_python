{
 "cells": [
  {
   "cell_type": "markdown",
   "metadata": {},
   "source": [
    "### 05_09 enumerate_primes_from_1_to_n\n",
    "\n"
   ]
  },
  {
   "cell_type": "code",
   "execution_count": 21,
   "metadata": {},
   "outputs": [
    {
     "name": "stdout",
     "output_type": "stream",
     "text": [
      "[2, 3, 5, 7, 11, 13, 17, 19]\n"
     ]
    }
   ],
   "source": [
    "def primes_to(n):\n",
    "    n = n + 1\n",
    "    sift = [None for i in range(n)]\n",
    "    sift[0] = False\n",
    "    sift[1] = False\n",
    "    solved = 0\n",
    "    \n",
    "    left = solved + 1\n",
    "    for i in range(n):\n",
    "        if sift[i] is not None:\n",
    "            continue\n",
    "            \n",
    "        sift[i] = True\n",
    "        for j in range(i * 2, n, i):\n",
    "            sift[j] = False\n",
    "    \n",
    "    answer = [i for i in range(n) if sift[i] == True ]   \n",
    "    print(answer)\n",
    "    \n",
    "    \n",
    "primes_to(21)"
   ]
  },
  {
   "cell_type": "code",
   "execution_count": null,
   "metadata": {},
   "outputs": [],
   "source": []
  }
 ],
 "metadata": {
  "kernelspec": {
   "display_name": "Python 3",
   "language": "python",
   "name": "python3"
  },
  "language_info": {
   "codemirror_mode": {
    "name": "ipython",
    "version": 3
   },
   "file_extension": ".py",
   "mimetype": "text/x-python",
   "name": "python",
   "nbconvert_exporter": "python",
   "pygments_lexer": "ipython3",
   "version": "3.6.6"
  }
 },
 "nbformat": 4,
 "nbformat_minor": 2
}
