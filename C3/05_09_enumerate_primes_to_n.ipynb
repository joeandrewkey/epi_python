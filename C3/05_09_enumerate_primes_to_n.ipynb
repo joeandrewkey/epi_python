{
 "cells": [
  {
   "cell_type": "markdown",
   "metadata": {
    "toc": true
   },
   "source": [
    "<h1>Table of Contents<span class=\"tocSkip\"></span></h1>\n",
    "<div class=\"toc\"><ul class=\"toc-item\"><li><ul class=\"toc-item\"><li><span><a href=\"#05_09-enumerate_primes_from_1_to_n\" data-toc-modified-id=\"05_09-enumerate_primes_from_1_to_n-0.1\">05_09 enumerate_primes_from_1_to_n</a></span></li></ul></li><li><span><a href=\"#Remarks\" data-toc-modified-id=\"Remarks-1\">Remarks</a></span></li></ul></div>"
   ]
  },
  {
   "cell_type": "markdown",
   "metadata": {},
   "source": [
    "### 05_09 enumerate_primes_from_1_to_n\n",
    "\n"
   ]
  },
  {
   "cell_type": "code",
   "execution_count": 14,
   "metadata": {},
   "outputs": [
    {
     "name": "stdout",
     "output_type": "stream",
     "text": [
      "[2, 3, 5, 7, 11, 13, 17, 19]\n",
      "[2]\n",
      "[2, 3, 5, 7, 11, 13, 17, 19, 23, 29, 31, 37, 41, 43, 47, 53, 59, 61, 67, 71, 73, 79, 83, 89, 97]\n",
      "Invalid data type, the value of n is '[100]' but only integers are allowed.\n",
      "You must use an integer value greater than or equal to 2\n",
      "You must use an integer value greater than or equal to 2\n",
      "Invalid data type, the value of n is '1.5' but only integers are allowed.\n",
      "Invalid data type, the value of n is 'foo' but only integers are allowed.\n",
      "Invalid data type, the value of n is 'None' but only integers are allowed.\n"
     ]
    }
   ],
   "source": [
    "def primes_to(n):\n",
    "    if not isinstance(n, int):\n",
    "        raise AssertionError(f\"Invalid data type, the value of n is '{n}' but only integers are allowed.\")\n",
    "    if n < 2:\n",
    "        raise AssertionError(\"You must use an integer value greater than or equal to 2\")\n",
    "        \n",
    "    n = n + 1\n",
    "    sift = [None for i in range(n)]\n",
    "    sift[0] = False\n",
    "    sift[1] = False\n",
    "    solved = 0\n",
    "    \n",
    "    left = solved + 1\n",
    "    for i in range(n):\n",
    "        if sift[i] is not None:\n",
    "            continue\n",
    "            \n",
    "        sift[i] = True\n",
    "        for j in range(i * 2, n, i):\n",
    "            sift[j] = False\n",
    "    \n",
    "    answer = [i for i in range(n) if sift[i] == True ]   \n",
    "    print(answer)\n",
    "    \n",
    "   \n",
    "# Tests\n",
    "\n",
    "test_values = [21, 2, 100, [100], -4, 1, 1.5, \"foo\", None]\n",
    "\n",
    "for test in test_values:\n",
    "    try:\n",
    "        primes_to(test)\n",
    "    except AssertionError as a:\n",
    "        print(a)\n",
    "        \n"
   ]
  },
  {
   "cell_type": "markdown",
   "metadata": {},
   "source": [
    "## Remarks\n",
    "\n",
    "I used the Sieve of Eratosthenes.\n",
    "The time complexity is $ O(n) $, The space complexity is $ O(n) $.\n"
   ]
  },
  {
   "cell_type": "code",
   "execution_count": null,
   "metadata": {},
   "outputs": [],
   "source": []
  }
 ],
 "metadata": {
  "kernelspec": {
   "display_name": "Python 3",
   "language": "python",
   "name": "python3"
  },
  "language_info": {
   "codemirror_mode": {
    "name": "ipython",
    "version": 3
   },
   "file_extension": ".py",
   "mimetype": "text/x-python",
   "name": "python",
   "nbconvert_exporter": "python",
   "pygments_lexer": "ipython3",
   "version": "3.6.7"
  },
  "toc": {
   "base_numbering": 1,
   "nav_menu": {},
   "number_sections": false,
   "sideBar": true,
   "skip_h1_title": false,
   "title_cell": "Table of Contents",
   "title_sidebar": "Contents",
   "toc_cell": true,
   "toc_position": {},
   "toc_section_display": true,
   "toc_window_display": false
  }
 },
 "nbformat": 4,
 "nbformat_minor": 2
}
