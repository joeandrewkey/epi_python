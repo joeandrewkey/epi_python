{
 "cells": [
  {
   "cell_type": "markdown",
   "metadata": {},
   "source": [
    "## 07_10 Implement even-odd merge\n",
    "\n",
    "Consider a singly linked list whose nodes are numbered starting at 0.  Define the even-odd merge of the list to be the list consisting of the even-numbered nodes followed by the odd-numbered nodes.  The even-odd merge \n",
    "is illustrated as:\n",
    "\n",
    "``` \n",
    "BEFORE merge:\n",
    "<head> A -> B -> C -> D -> E -> <tail>\n",
    "\n",
    "AFTER  merge:\n",
    "<head> A -> C -> E -> B -> D -> <tail>\n",
    "```\n",
    "\n",
    "Write a program that computes the even-odd merge\n",
    "\n",
    "***Hint***: *Use temporary additional storage*\n",
    "\n",
    "### First my node class\n"
   ]
  },
  {
   "cell_type": "code",
   "execution_count": 1,
   "metadata": {},
   "outputs": [],
   "source": [
    "class Node():\n",
    "    def __init__(self, data, next=None):\n",
    "        self.data = data\n",
    "        self.next = next\n",
    "\n",
    "    def __repr__(self):\n",
    "        x = self\n",
    "        result = \"<head> -> \"\n",
    "        while x.next:\n",
    "            result += f\"{x.data} -> \"\n",
    "            x = x.next\n",
    "        result += f\"{x.data} -> <tail>\"\n",
    "        return result\n"
   ]
  },
  {
   "cell_type": "markdown",
   "metadata": {},
   "source": [
    "### Second, a helper function to create my linked list from a string\n"
   ]
  },
  {
   "cell_type": "code",
   "execution_count": 2,
   "metadata": {},
   "outputs": [],
   "source": [
    "def string_2_linked_list(input_string):\n",
    "    dummy = current = Node(\"dummy\")\n",
    "    for char in input_string:\n",
    "        current.next = Node(char)\n",
    "        current = current.next\n",
    "    return dummy.next"
   ]
  },
  {
   "cell_type": "markdown",
   "metadata": {},
   "source": [
    "### Third, my solution"
   ]
  },
  {
   "cell_type": "code",
   "execution_count": 3,
   "metadata": {},
   "outputs": [],
   "source": [
    "class Solution():\n",
    "    def __init__(self, linked_list):\n",
    "        self.linked_list = linked_list\n",
    "\n",
    "    def solve(self):\n",
    "\n",
    "        if not self.linked_list:\n",
    "            return None\n",
    "\n",
    "        even = Node(\"even\", self.linked_list)\n",
    "        odd = Node(\"odd\", self.linked_list.next)\n",
    "\n",
    "        c_even = even.next\n",
    "        c_odd = odd\n",
    "\n",
    "        while c_even and c_odd:\n",
    "            # Jump 1\n",
    "            if c_even.next:\n",
    "                c_odd.next = c_even.next\n",
    "                c_odd = c_odd.next\n",
    "                # Jump 2\n",
    "                if c_even.next.next:\n",
    "                    c_even.next = c_even.next.next\n",
    "                    c_even = c_even.next\n",
    "                else:\n",
    "                    break\n",
    "            else:\n",
    "                break\n",
    "        # clean up\n",
    "        if c_even:\n",
    "            if c_even.next:  # An odd thing at the end\n",
    "                c_odd.next = None\n",
    "        if c_odd:\n",
    "            if c_odd.next:  # An even thing at the end\n",
    "                c_odd.next = None\n",
    "        c_even.next = odd.next  # The last even precedes the first odd\n",
    "        solution = even.next\n",
    "        return solution"
   ]
  },
  {
   "cell_type": "markdown",
   "metadata": {},
   "source": [
    "### Finally, my tests to prove the solution"
   ]
  },
  {
   "cell_type": "code",
   "execution_count": 5,
   "metadata": {},
   "outputs": [
    {
     "name": "stdout",
     "output_type": "stream",
     "text": [
      "Input: \n",
      "Solution: None\n",
      "Input: a\n",
      "Solution: <head> -> a -> <tail>\n",
      "Input: ab\n",
      "Solution: <head> -> a -> b -> <tail>\n",
      "Input: abc\n",
      "Solution: <head> -> a -> c -> b -> <tail>\n",
      "Input: abcd\n",
      "Solution: <head> -> a -> c -> b -> d -> <tail>\n",
      "Input: abcde\n",
      "Solution: <head> -> a -> c -> e -> b -> d -> <tail>\n"
     ]
    }
   ],
   "source": [
    "tests = [\"\", \"a\", \"ab\", \"abc\", \"abcd\", \"abcde\"]\n",
    "\n",
    "for test in tests:\n",
    "    linked_list = string_2_linked_list(test)\n",
    "    s = Solution(linked_list).solve()\n",
    "    print(f\"Input: {test}\")\n",
    "    print(f\"Solution: {s}\")"
   ]
  },
  {
   "cell_type": "markdown",
   "metadata": {},
   "source": [
    "### Analysis\n",
    "\n",
    "Time complexity: $ O(n) $\n",
    "\n",
    "Space complexity: $ O(1) $\n"
   ]
  },
  {
   "cell_type": "code",
   "execution_count": null,
   "metadata": {},
   "outputs": [],
   "source": []
  }
 ],
 "metadata": {
  "kernelspec": {
   "display_name": "Python (epi)",
   "language": "python",
   "name": "epi"
  },
  "language_info": {
   "codemirror_mode": {
    "name": "ipython",
    "version": 3
   },
   "file_extension": ".py",
   "mimetype": "text/x-python",
   "name": "python",
   "nbconvert_exporter": "python",
   "pygments_lexer": "ipython3",
   "version": "3.7.1"
  }
 },
 "nbformat": 4,
 "nbformat_minor": 2
}
