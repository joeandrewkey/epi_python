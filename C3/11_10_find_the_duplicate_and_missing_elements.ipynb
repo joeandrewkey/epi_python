{
 "cells": [
  {
   "cell_type": "markdown",
   "metadata": {},
   "source": [
    "## Chapter 11 / Problem 10 - Find the duplicate and missing elements\n",
    "\n",
    "You are given an array of n integers, each between 0 and n-1, inclusive.  Exactly one element appears twice, implying that exactly one number between 0 and n-1 is missing from the array.  How would you compute the duplicate and missing numbers?\n",
    "\n",
    "***Hint***: *Consider performing multiple passes through the array*"
   ]
  },
  {
   "cell_type": "code",
   "execution_count": 1,
   "metadata": {},
   "outputs": [],
   "source": [
    "from collections import namedtuple\n",
    "import functools\n",
    "\n",
    "DuplicateAndMissing = namedtuple(\n",
    "    'DuplicateAndMissing', ('duplicate', 'missing'))\n",
    "\n",
    "def find_duplicate_missing(A):\n",
    "    # Compute the XOR of all numbers from 0 to |A| - 1 and all entries in A\n",
    "    # This is actually quite cool.  I love this use of the reduce function\n",
    "    # Since it uses enumerate to XOR all of the numbers from 0 to |A| - 1\n",
    "    xor_enum_and_list = lambda val, e: val ^ e[0] ^ e[1]  \n",
    "    # the e[0] is the enumeration\n",
    "    miss_XOR_dup = functools.reduce(xor_enum_and_list, enumerate(A), 0)\n",
    "\n",
    "    differ_bit = miss_XOR_dup & ~(miss_XOR_dup - 1)\n",
    "\n",
    "    miss_or_dup = 0\n",
    "    print(miss_XOR_dup, differ_bit)\n",
    "    for j, a in enumerate(A):\n",
    "        if j & differ_bit:\n",
    "            miss_or_dup ^= j\n",
    "        if a & differ_bit:\n",
    "            miss_or_dup ^= a\n",
    "\n",
    "    if any(a == miss_or_dup for a in A):\n",
    "        return DuplicateAndMissing(miss_or_dup, miss_or_dup ^ miss_XOR_dup)\n",
    "\n",
    "    return DuplicateAndMissing(miss_or_dup ^ miss_XOR_dup, miss_or_dup)"
   ]
  },
  {
   "cell_type": "code",
   "execution_count": 2,
   "metadata": {},
   "outputs": [
    {
     "name": "stdout",
     "output_type": "stream",
     "text": [
      "7 1\n",
      "Test: (0, 3, 2, 3, 1), duplicate: 3, missing: 4, correct: True\n",
      "1 1\n",
      "Test: (0, 1, 2, 2, 4), duplicate: 2, missing: 3, correct: True\n",
      "3 1\n",
      "Test: (1, 2, 3, 3, 4), duplicate: 3, missing: 0, correct: True\n"
     ]
    }
   ],
   "source": [
    "tests = [\n",
    "    ((0, 3, 2, 3, 1), (3, 4)),\n",
    "    ((0, 1, 2, 2, 4), (2, 3)),\n",
    "    ((1, 2, 3, 3, 4), (3, 0))\n",
    "]\n",
    "for test, dom in tests:\n",
    "    expectation = DuplicateAndMissing(*dom)\n",
    "    answer = find_duplicate_missing(test)\n",
    "    print(f\"Test: {test}, duplicate: {answer.duplicate}, missing: {answer.missing}, \"\n",
    "          f\"correct: {answer == expectation}\")"
   ]
  },
  {
   "cell_type": "code",
   "execution_count": null,
   "metadata": {},
   "outputs": [],
   "source": []
  }
 ],
 "metadata": {
  "kernelspec": {
   "display_name": "Python (epi)",
   "language": "python",
   "name": "epi"
  },
  "language_info": {
   "codemirror_mode": {
    "name": "ipython",
    "version": 3
   },
   "file_extension": ".py",
   "mimetype": "text/x-python",
   "name": "python",
   "nbconvert_exporter": "python",
   "pygments_lexer": "ipython3",
   "version": "3.7.1"
  }
 },
 "nbformat": 4,
 "nbformat_minor": 2
}
