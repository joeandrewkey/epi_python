{
 "cells": [
  {
   "cell_type": "markdown",
   "metadata": {},
   "source": [
    "## Chapter 10 / Problem 5 - Online Median\n",
    "\n",
    "You want to compute the running median of a sequence of numbers.  The sequence is presented to you in a streaming fashion -- you cannot back up to read an earlier value, and you need to output the median after reding in each new element for example:\n",
    "\n",
    "\n",
    "| Stream Input | Median | Stream so Far       | Sorted Values          |\n",
    "|  ---         |  ---   | ---                 | ---                    |\n",
    "|   1          |   1    | 1                   | **1**                  |\n",
    "|   0          |  0.5   | 1, 0                | **0, 1**               |\n",
    "|   3          |   1    | 1, 0, 3             | 0, **1**, 3            |\n",
    "|   5          |   2    | 1, 0, 3, 5          | 0, **1, 3**, 5         |\n",
    "|   2          |   2    | 1, 0, 3, 5, 2       | 0, 1, **2**, 3, 5      |\n",
    "|   0          |   1.5  | 1, 0, 3, 5, 2, 0    | 0, 0, **1, 2**, 3, 5   |\n",
    "|   1          |   1    | 1, 0, 3, 5, 2, 0, 1 | 0, 0, 1,**1**, 2, 3, 5 |\n",
    "\n",
    "Design an algorithm for computing the running median of a sequence.\n",
    "\n",
    "***Hint***: *Avoid look at all values each time you read a new value*\n",
    "\n",
    "\n",
    "### Solution\n",
    "\n",
    "It's important to remember that the median is the **middle** of the sorted stream.  We don't want to re-sort the sorted stream every time the stream grows, so we need to maintain a **middle**.  By using two heaps, a min-heap and a max-heap (min-heap with inverted values), we can more easily find the **middle**.  Let's take a look at the same stream, only with two heaps included:\n",
    "\n",
    "| Stream Input | Median | Stream so Far       | Sorted Values          | Min Heap | Max Heap   |\n",
    "|  ---         |  ---   | ---                 | ---                    | ---      | ---        |\n",
    "|   1          |   1    | 1                   | **1**                  | **1**    | none       |\n",
    "|   0          |  0.5   | 1, 0                | **0, 1**               | **0**    | **-1**     |\n",
    "|   3          |   1    | 1, 0, 3             | 0, **1**, 3            | **1**, 3 | 0          |\n",
    "|   5          |   2    | 1, 0, 3, 5          | 0, **1, 3**, 5         | **3**, 5 | **-1**, 0  |\n",
    "|   2          |   2    | 1, 0, 3, 5, 2       | 0, 1, **2**, 3, 5      |          |            |\n",
    "|   0          |   1.5  | 1, 0, 3, 5, 2, 0    | 0, 0, **1, 2**, 3, 5   |          |            |\n",
    "|   1          |   1    | 1, 0, 3, 5, 2, 0, 1 | 0, 0, 1,**1**, 2, 3, 5 |          |            |"
   ]
  },
  {
   "cell_type": "code",
   "execution_count": 6,
   "metadata": {},
   "outputs": [
    {
     "name": "stdout",
     "output_type": "stream",
     "text": [
      "stream: [1, 0, 3, 5, 2, 0, 1], answer: [1, 0.5, 1, 2, 2, 1.5, 1]\n",
      "stream: [5, 4, 3, 2, 1], answer: [5, 4.5, 4, 3.5, 3]\n",
      "stream: [1, 2, 3, 4, 5], answer: [1, 1.5, 2, 2.5, 3]\n"
     ]
    }
   ],
   "source": [
    "import heapq\n",
    "\n",
    "global_result = []\n",
    "def online_median(sequence):\n",
    "    min_heap = []\n",
    "    max_heap = []\n",
    "    count = 0\n",
    "    for x in sequence:\n",
    "        heapq.heappush(max_heap, -heapq.heappushpop(min_heap, x))\n",
    "        # Ensure min_heap and max_heap have equal number of elements if an even\n",
    "        # number of elements is read; otherwise, min_heap must have one more\n",
    "        # element than max_heap.\n",
    "        if len(max_heap) > len(min_heap):\n",
    "            heapq.heappush(min_heap, -heapq.heappop(max_heap))\n",
    "        count += 1\n",
    "        # @exclude\n",
    "        if count % 2 == 0:\n",
    "            global_result.append((min_heap[0] - max_heap[0]) / 2)\n",
    "        else:\n",
    "            global_result.append(min_heap[0])\n",
    "\n",
    "def run_tests():\n",
    "    tests = [\n",
    "        ([1, 0, 3, 5, 2, 0, 1], [1, 0.5, 1, 2, 2, 1.5, 1]),\n",
    "        ([5, 4, 3, 2, 1], [5, 4.5, 4, 3.5, 3]),\n",
    "        ([1, 2, 3, 4, 5], [1, 1.5, 2, 2.5, 3])\n",
    "    ]\n",
    "    for stream, answer in tests:\n",
    "        online_median(iter(stream))\n",
    "        print(f\"stream: {stream}, answer: {answer}\")\n",
    "        assert global_result == answer\n",
    "        global_result.clear()\n",
    "\n",
    "\n",
    "\n",
    "run_tests()"
   ]
  },
  {
   "cell_type": "code",
   "execution_count": null,
   "metadata": {},
   "outputs": [],
   "source": []
  }
 ],
 "metadata": {
  "kernelspec": {
   "display_name": "Python (epi)",
   "language": "python",
   "name": "epi"
  },
  "language_info": {
   "codemirror_mode": {
    "name": "ipython",
    "version": 3
   },
   "file_extension": ".py",
   "mimetype": "text/x-python",
   "name": "python",
   "nbconvert_exporter": "python",
   "pygments_lexer": "ipython3",
   "version": "3.7.1"
  }
 },
 "nbformat": 4,
 "nbformat_minor": 2
}
