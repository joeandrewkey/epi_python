{
 "cells": [
  {
   "cell_type": "markdown",
   "metadata": {},
   "source": [
    "## 05_05_Delete_Duplicates_From_Sorted_Array\n",
    "\n",
    "This problem is concerned with deleting repeated elements from a sorted array.  For example, for the array <2,3,5,5,7,11,11,11,13>, then after deletion, the array is <2,3,5,7,11,13,11,11,13>.  After deleting repeated elements, there are 6 valid entries <2,3,5,7,11,13>.  There are no requirements as to the values stored eyond the last valid element."
   ]
  },
  {
   "cell_type": "code",
   "execution_count": null,
   "metadata": {},
   "outputs": [],
   "source": []
  }
 ],
 "metadata": {
  "kernelspec": {
   "display_name": "Python 3",
   "language": "python",
   "name": "python3"
  },
  "language_info": {
   "codemirror_mode": {
    "name": "ipython",
    "version": 3
   },
   "file_extension": ".py",
   "mimetype": "text/x-python",
   "name": "python",
   "nbconvert_exporter": "python",
   "pygments_lexer": "ipython3",
   "version": "3.6.6"
  }
 },
 "nbformat": 4,
 "nbformat_minor": 2
}
