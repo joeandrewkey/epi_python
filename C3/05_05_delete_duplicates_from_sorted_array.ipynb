{
 "cells": [
  {
   "cell_type": "markdown",
   "metadata": {},
   "source": [
    "## 05_05_Delete_Duplicates_From_Sorted_Array\n",
    "\n",
    "This problem is concerned with deleting repeated elements from a sorted array.  For example, for the array <2,3,5,5,7,11,11,11,13>, then after deletion, the array is <2,3,5,7,11,13,11,11,13>.  After deleting repeated elements, there are 6 valid entries <2,3,5,7,11,13>.  There are no requirements as to the values stored eyond the last valid element."
   ]
  },
  {
   "cell_type": "code",
   "execution_count": 1,
   "metadata": {},
   "outputs": [
    {
     "name": "stdout",
     "output_type": "stream",
     "text": [
      "[2, 3, 5, 5, 7, 11, 11, 11, 13]\n",
      "[2, 3, 5, 7, 11, 13, 11, 11, 13]\n"
     ]
    }
   ],
   "source": [
    "def dedupe(my_arr):\n",
    "    solved = 0\n",
    "    last = None\n",
    "    for i in range(len(my_arr)):\n",
    "        if my_arr[i] == last:\n",
    "            continue\n",
    "        last = my_arr[i]\n",
    "        my_arr[solved] = my_arr[i]\n",
    "        solved += 1\n",
    "        \n",
    "my_arr = [2,3,5,5,7,11,11,11,13]\n",
    "print(my_arr)\n",
    "dedupe(my_arr)\n",
    "print(my_arr)"
   ]
  },
  {
   "cell_type": "markdown",
   "metadata": {},
   "source": [
    "## Analysis\n",
    "\n",
    "Time complexity is $ O(n) $.\n",
    "Space complexity is $ O(1) $."
   ]
  },
  {
   "cell_type": "code",
   "execution_count": null,
   "metadata": {},
   "outputs": [],
   "source": []
  }
 ],
 "metadata": {
  "kernelspec": {
   "display_name": "Python 3",
   "language": "python",
   "name": "python3"
  },
  "language_info": {
   "codemirror_mode": {
    "name": "ipython",
    "version": 3
   },
   "file_extension": ".py",
   "mimetype": "text/x-python",
   "name": "python",
   "nbconvert_exporter": "python",
   "pygments_lexer": "ipython3",
   "version": "3.6.6"
  }
 },
 "nbformat": 4,
 "nbformat_minor": 2
}
