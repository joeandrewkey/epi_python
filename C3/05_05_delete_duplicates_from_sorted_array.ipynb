{
 "cells": [
  {
   "cell_type": "markdown",
   "metadata": {},
   "source": [
    "## 05_05_Delete_Duplicates_From_Sorted_Array\n",
    "\n",
    "This problem is concerned with deleting repeated elements from a sorted array.  For example, for the array <2,3,5,5,7,11,11,11,13>, then after deletion, the array is <2,3,5,7,11,13,11,11,13>.  After deleting repeated elements, there are 6 valid entries <2,3,5,7,11,13>.  There are no requirements as to the values stored beyond the last valid element."
   ]
  },
  {
   "cell_type": "code",
   "execution_count": 1,
   "metadata": {},
   "outputs": [
    {
     "name": "stdout",
     "output_type": "stream",
     "text": [
      "Original Array: [2, 3, 5, 5, 7, 11, 11, 11, 13]\n",
      "Deduplicated Array: [2, 3, 5, 7, 11, 13]\n"
     ]
    }
   ],
   "source": [
    "def dedupe(my_arr):\n",
    "    solved = 0\n",
    "    last = None\n",
    "    for i in range(len(my_arr)):\n",
    "        if my_arr[i] == last:\n",
    "            continue\n",
    "        last = my_arr[i]\n",
    "        my_arr[solved] = my_arr[i]\n",
    "        solved += 1\n",
    "    return my_arr[:solved]\n",
    "        \n",
    "my_arr = [2,3,5,5,7,11,11,11,13]\n",
    "\n",
    "print(f\"Original Array: {my_arr}\")\n",
    "print(f\"Deduplicated Array: {dedupe(my_arr)}\")\n"
   ]
  },
  {
   "cell_type": "markdown",
   "metadata": {},
   "source": [
    "### My solution\n",
    "\n",
    "So my solution will loop through the entire array, keeping track of two different\n",
    "indices, __solved and i__.  It will also keep track of the __last__ unique value.\n",
    "I will end up overwriting the earlier bits of the array with unique values and returning\n",
    "only a limited portion of the array as a result.  \n",
    "\n",
    "It **will** mangle the original array, but it will only need a few small numeric values for any size array.\n",
    "\n",
    "### Analysis\n",
    "\n",
    "Time complexity is $ O(n) $.\n",
    "Space complexity is $ O(1) $."
   ]
  }
 ],
 "metadata": {
  "kernelspec": {
   "display_name": "Python 3",
   "language": "python",
   "name": "python3"
  },
  "language_info": {
   "codemirror_mode": {
    "name": "ipython",
    "version": 3
   },
   "file_extension": ".py",
   "mimetype": "text/x-python",
   "name": "python",
   "nbconvert_exporter": "python",
   "pygments_lexer": "ipython3",
   "version": "3.7.1"
  }
 },
 "nbformat": 4,
 "nbformat_minor": 2
}
